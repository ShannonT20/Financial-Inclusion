{
  "cells": [
    {
      "cell_type": "markdown",
      "metadata": {
        "id": "48S6RVt_jXwp"
      },
      "source": [
        "# Financial Inclusion in Africa Starter Notebook\n",
        "\n",
        "\n",
        "This is a simple starter notebook to get started with the Financial Inclusion Competition on Zindi.\n",
        "\n",
        "This notebook covers:\n",
        "- Loading the data\n",
        "- Simple EDA and an example of feature enginnering\n",
        "- Data preprocessing and data wrangling\n",
        "- Creating a simple model\n",
        "- Making a submission\n",
        "- Some tips for improving your score"
      ]
    },
    {
      "cell_type": "markdown",
      "metadata": {
        "id": "HdPjBTFdkI7t"
      },
      "source": [
        "### Importing libraries"
      ]
    },
    {
      "cell_type": "code",
      "execution_count": 419,
      "metadata": {
        "id": "8IWFJK2h22yc"
      },
      "outputs": [],
      "source": [
        "# dataframe and plotting\n",
        "import pandas as pd\n",
        "import numpy as np\n",
        "import seaborn as sns\n",
        "import matplotlib.pyplot as plt\n",
        "\n",
        "# machine learning\n",
        "from lightgbm import LGBMClassifier\n",
        "from sklearn.model_selection import train_test_split\n",
        "from sklearn.metrics import accuracy_score\n",
        "\n",
        "\n",
        "import warnings\n",
        "warnings.filterwarnings('ignore')"
      ]
    },
    {
      "cell_type": "markdown",
      "metadata": {
        "id": "9SyQadB9iY8R"
      },
      "source": [
        "### 1. Load the dataset"
      ]
    },
    {
      "cell_type": "code",
      "execution_count": 420,
      "metadata": {
        "id": "MQCvC_XjDzyH"
      },
      "outputs": [],
      "source": [
        "# Load files into a pandas dataframe\n",
        "train = pd.read_csv('Train.csv')\n",
        "test = pd.read_csv('Test.csv')\n",
        "ss = pd.read_csv('SampleSubmission.csv')\n",
        "variables = pd.read_csv('VariableDefinitions.csv')"
      ]
    },
    {
      "cell_type": "code",
      "execution_count": 421,
      "metadata": {
        "colab": {
          "base_uri": "https://localhost:8080/"
        },
        "id": "O6xUUoJMaRrc",
        "outputId": "37fa6d78-0297-4468-85e2-68e658ab6d7b"
      },
      "outputs": [
        {
          "name": "stdout",
          "output_type": "stream",
          "text": [
            "train data shape : (23524, 13)\n",
            "test data shape : (10086, 12)\n"
          ]
        }
      ],
      "source": [
        "# Let’s observe the shape of our datasets.\n",
        "print('train data shape :', train.shape)\n",
        "print('test data shape :', test.shape)"
      ]
    },
    {
      "cell_type": "markdown",
      "metadata": {
        "id": "22JNEkmQbMvR"
      },
      "source": [
        "The above output shows the number of rows and columns for train and test dataset. We have 13 variables in the train dataset, 12 independent variables and 1 dependent variable. In the test dataset, we have 12 independent variables.\n",
        "\n",
        "We can observe the first five rows from our data set by using the head() method from the pandas library."
      ]
    },
    {
      "cell_type": "code",
      "execution_count": 422,
      "metadata": {
        "colab": {
          "base_uri": "https://localhost:8080/",
          "height": 330
        },
        "id": "0p3FUgRYasI-",
        "outputId": "74d606e0-a4d3-47a7-c1f2-249bff16639e"
      },
      "outputs": [
        {
          "data": {
            "text/html": [
              "<div>\n",
              "<style scoped>\n",
              "    .dataframe tbody tr th:only-of-type {\n",
              "        vertical-align: middle;\n",
              "    }\n",
              "\n",
              "    .dataframe tbody tr th {\n",
              "        vertical-align: top;\n",
              "    }\n",
              "\n",
              "    .dataframe thead th {\n",
              "        text-align: right;\n",
              "    }\n",
              "</style>\n",
              "<table border=\"1\" class=\"dataframe\">\n",
              "  <thead>\n",
              "    <tr style=\"text-align: right;\">\n",
              "      <th></th>\n",
              "      <th>country</th>\n",
              "      <th>year</th>\n",
              "      <th>uniqueid</th>\n",
              "      <th>bank_account</th>\n",
              "      <th>location_type</th>\n",
              "      <th>cellphone_access</th>\n",
              "      <th>household_size</th>\n",
              "      <th>age_of_respondent</th>\n",
              "      <th>gender_of_respondent</th>\n",
              "      <th>relationship_with_head</th>\n",
              "      <th>marital_status</th>\n",
              "      <th>education_level</th>\n",
              "      <th>job_type</th>\n",
              "    </tr>\n",
              "  </thead>\n",
              "  <tbody>\n",
              "    <tr>\n",
              "      <th>0</th>\n",
              "      <td>Kenya</td>\n",
              "      <td>2018</td>\n",
              "      <td>uniqueid_1</td>\n",
              "      <td>Yes</td>\n",
              "      <td>Rural</td>\n",
              "      <td>Yes</td>\n",
              "      <td>3</td>\n",
              "      <td>24</td>\n",
              "      <td>Female</td>\n",
              "      <td>Spouse</td>\n",
              "      <td>Married/Living together</td>\n",
              "      <td>Secondary education</td>\n",
              "      <td>Self employed</td>\n",
              "    </tr>\n",
              "    <tr>\n",
              "      <th>1</th>\n",
              "      <td>Kenya</td>\n",
              "      <td>2018</td>\n",
              "      <td>uniqueid_2</td>\n",
              "      <td>No</td>\n",
              "      <td>Rural</td>\n",
              "      <td>No</td>\n",
              "      <td>5</td>\n",
              "      <td>70</td>\n",
              "      <td>Female</td>\n",
              "      <td>Head of Household</td>\n",
              "      <td>Widowed</td>\n",
              "      <td>No formal education</td>\n",
              "      <td>Government Dependent</td>\n",
              "    </tr>\n",
              "    <tr>\n",
              "      <th>2</th>\n",
              "      <td>Kenya</td>\n",
              "      <td>2018</td>\n",
              "      <td>uniqueid_3</td>\n",
              "      <td>Yes</td>\n",
              "      <td>Urban</td>\n",
              "      <td>Yes</td>\n",
              "      <td>5</td>\n",
              "      <td>26</td>\n",
              "      <td>Male</td>\n",
              "      <td>Other relative</td>\n",
              "      <td>Single/Never Married</td>\n",
              "      <td>Vocational/Specialised training</td>\n",
              "      <td>Self employed</td>\n",
              "    </tr>\n",
              "    <tr>\n",
              "      <th>3</th>\n",
              "      <td>Kenya</td>\n",
              "      <td>2018</td>\n",
              "      <td>uniqueid_4</td>\n",
              "      <td>No</td>\n",
              "      <td>Rural</td>\n",
              "      <td>Yes</td>\n",
              "      <td>5</td>\n",
              "      <td>34</td>\n",
              "      <td>Female</td>\n",
              "      <td>Head of Household</td>\n",
              "      <td>Married/Living together</td>\n",
              "      <td>Primary education</td>\n",
              "      <td>Formally employed Private</td>\n",
              "    </tr>\n",
              "    <tr>\n",
              "      <th>4</th>\n",
              "      <td>Kenya</td>\n",
              "      <td>2018</td>\n",
              "      <td>uniqueid_5</td>\n",
              "      <td>No</td>\n",
              "      <td>Urban</td>\n",
              "      <td>No</td>\n",
              "      <td>8</td>\n",
              "      <td>26</td>\n",
              "      <td>Male</td>\n",
              "      <td>Child</td>\n",
              "      <td>Single/Never Married</td>\n",
              "      <td>Primary education</td>\n",
              "      <td>Informally employed</td>\n",
              "    </tr>\n",
              "  </tbody>\n",
              "</table>\n",
              "</div>"
            ],
            "text/plain": [
              "  country  year    uniqueid bank_account location_type cellphone_access  \\\n",
              "0   Kenya  2018  uniqueid_1          Yes         Rural              Yes   \n",
              "1   Kenya  2018  uniqueid_2           No         Rural               No   \n",
              "2   Kenya  2018  uniqueid_3          Yes         Urban              Yes   \n",
              "3   Kenya  2018  uniqueid_4           No         Rural              Yes   \n",
              "4   Kenya  2018  uniqueid_5           No         Urban               No   \n",
              "\n",
              "   household_size  age_of_respondent gender_of_respondent  \\\n",
              "0               3                 24               Female   \n",
              "1               5                 70               Female   \n",
              "2               5                 26                 Male   \n",
              "3               5                 34               Female   \n",
              "4               8                 26                 Male   \n",
              "\n",
              "  relationship_with_head           marital_status  \\\n",
              "0                 Spouse  Married/Living together   \n",
              "1      Head of Household                  Widowed   \n",
              "2         Other relative     Single/Never Married   \n",
              "3      Head of Household  Married/Living together   \n",
              "4                  Child     Single/Never Married   \n",
              "\n",
              "                   education_level                   job_type  \n",
              "0              Secondary education              Self employed  \n",
              "1              No formal education       Government Dependent  \n",
              "2  Vocational/Specialised training              Self employed  \n",
              "3                Primary education  Formally employed Private  \n",
              "4                Primary education        Informally employed  "
            ]
          },
          "execution_count": 422,
          "metadata": {},
          "output_type": "execute_result"
        }
      ],
      "source": [
        "# inspect train data\n",
        "train.head()"
      ]
    },
    {
      "cell_type": "code",
      "execution_count": 423,
      "metadata": {
        "colab": {
          "base_uri": "https://localhost:8080/"
        },
        "id": "R1T_QbjNj0Dq",
        "outputId": "4f65aae1-c7d4-4546-ce33-15d40dd45585"
      },
      "outputs": [
        {
          "name": "stdout",
          "output_type": "stream",
          "text": [
            "missing values: country                   0\n",
            "year                      0\n",
            "uniqueid                  0\n",
            "bank_account              0\n",
            "location_type             0\n",
            "cellphone_access          0\n",
            "household_size            0\n",
            "age_of_respondent         0\n",
            "gender_of_respondent      0\n",
            "relationship_with_head    0\n",
            "marital_status            0\n",
            "education_level           0\n",
            "job_type                  0\n",
            "dtype: int64\n"
          ]
        }
      ],
      "source": [
        "# Check for missing values\n",
        "print('missing values:', train.isnull().sum())"
      ]
    },
    {
      "cell_type": "markdown",
      "metadata": {
        "id": "ID5N0vHTj3-F"
      },
      "source": [
        "We don't have missing data in our dataset.\n",
        "\n"
      ]
    },
    {
      "cell_type": "code",
      "execution_count": 424,
      "metadata": {
        "colab": {
          "base_uri": "https://localhost:8080/",
          "height": 386
        },
        "id": "QW4mlprHj-Ir",
        "outputId": "6089fa03-6eb3-4117-f694-b4b901bd57c0"
      },
      "outputs": [
        {
          "data": {
            "text/plain": [
              "<seaborn.axisgrid.FacetGrid at 0x263ba7f1c50>"
            ]
          },
          "execution_count": 424,
          "metadata": {},
          "output_type": "execute_result"
        },
        {
          "data": {
            "image/png": "[encoded data removed]",
            "text/plain": [
              "<Figure size 500x500 with 1 Axes>"
            ]
          },
          "metadata": {},
          "output_type": "display_data"
        }
      ],
      "source": [
        "# Explore Target distribution \n",
        "sns.catplot(x=\"bank_account\", kind=\"count\", data=train)"
      ]
    },
    {
      "cell_type": "markdown",
      "metadata": {
        "id": "W0sPGiOnbTnh"
      },
      "source": [
        "It is important to understand the meaning of each feature so you can really understand the dataset. You can read the VariableDefinition.csv file to understand the meaning of each variable presented in the dataset.\n",
        "\n",
        "The SampleSubmission.csv gives us an example of how our submission file should look. This file will contain the uniqueid column combined with the country name from the Test.csv file and the target we predict with our model. Once we have created this file, we will submit it to the competition page and obtain a position on the leaderboard.\n"
      ]
    },
    {
      "cell_type": "code",
      "execution_count": 425,
      "metadata": {
        "colab": {
          "base_uri": "https://localhost:8080/",
          "height": 206
        },
        "id": "dPjsaC0_a0qY",
        "outputId": "999100c2-5e84-42df-a3d9-4bbf99a9dd4a"
      },
      "outputs": [
        {
          "data": {
            "text/html": [
              "<div>\n",
              "<style scoped>\n",
              "    .dataframe tbody tr th:only-of-type {\n",
              "        vertical-align: middle;\n",
              "    }\n",
              "\n",
              "    .dataframe tbody tr th {\n",
              "        vertical-align: top;\n",
              "    }\n",
              "\n",
              "    .dataframe thead th {\n",
              "        text-align: right;\n",
              "    }\n",
              "</style>\n",
              "<table border=\"1\" class=\"dataframe\">\n",
              "  <thead>\n",
              "    <tr style=\"text-align: right;\">\n",
              "      <th></th>\n",
              "      <th>unique_id</th>\n",
              "      <th>bank_account</th>\n",
              "    </tr>\n",
              "  </thead>\n",
              "  <tbody>\n",
              "    <tr>\n",
              "      <th>0</th>\n",
              "      <td>uniqueid_1 x Kenya</td>\n",
              "      <td>0</td>\n",
              "    </tr>\n",
              "    <tr>\n",
              "      <th>1</th>\n",
              "      <td>uniqueid_2 x Kenya</td>\n",
              "      <td>0</td>\n",
              "    </tr>\n",
              "    <tr>\n",
              "      <th>2</th>\n",
              "      <td>uniqueid_3 x Kenya</td>\n",
              "      <td>0</td>\n",
              "    </tr>\n",
              "    <tr>\n",
              "      <th>3</th>\n",
              "      <td>uniqueid_4 x Kenya</td>\n",
              "      <td>0</td>\n",
              "    </tr>\n",
              "    <tr>\n",
              "      <th>4</th>\n",
              "      <td>uniqueid_5 x Kenya</td>\n",
              "      <td>0</td>\n",
              "    </tr>\n",
              "  </tbody>\n",
              "</table>\n",
              "</div>"
            ],
            "text/plain": [
              "            unique_id  bank_account\n",
              "0  uniqueid_1 x Kenya             0\n",
              "1  uniqueid_2 x Kenya             0\n",
              "2  uniqueid_3 x Kenya             0\n",
              "3  uniqueid_4 x Kenya             0\n",
              "4  uniqueid_5 x Kenya             0"
            ]
          },
          "execution_count": 425,
          "metadata": {},
          "output_type": "execute_result"
        }
      ],
      "source": [
        "# view the submission file\n",
        "ss.head()"
      ]
    },
    {
      "cell_type": "markdown",
      "metadata": {
        "id": "MCP0H7tSicUU"
      },
      "source": [
        "### 2. Understand the dataset\n",
        "We can get more information about the features presented by using the info() method from pandas.\n"
      ]
    },
    {
      "cell_type": "code",
      "execution_count": 426,
      "metadata": {
        "colab": {
          "base_uri": "https://localhost:8080/"
        },
        "id": "1otwZnE8bGns",
        "outputId": "d1761519-086f-4ffc-9f2e-e968611fe91c"
      },
      "outputs": [
        {
          "name": "stdout",
          "output_type": "stream",
          "text": [
            "<class 'pandas.core.frame.DataFrame'>\n",
            "RangeIndex: 23524 entries, 0 to 23523\n",
            "Data columns (total 13 columns):\n",
            " #   Column                  Non-Null Count  Dtype \n",
            "---  ------                  --------------  ----- \n",
            " 0   country                 23524 non-null  object\n",
            " 1   year                    23524 non-null  int64 \n",
            " 2   uniqueid                23524 non-null  object\n",
            " 3   bank_account            23524 non-null  object\n",
            " 4   location_type           23524 non-null  object\n",
            " 5   cellphone_access        23524 non-null  object\n",
            " 6   household_size          23524 non-null  int64 \n",
            " 7   age_of_respondent       23524 non-null  int64 \n",
            " 8   gender_of_respondent    23524 non-null  object\n",
            " 9   relationship_with_head  23524 non-null  object\n",
            " 10  marital_status          23524 non-null  object\n",
            " 11  education_level         23524 non-null  object\n",
            " 12  job_type                23524 non-null  object\n",
            "dtypes: int64(3), object(10)\n",
            "memory usage: 2.3+ MB\n",
            "None\n"
          ]
        }
      ],
      "source": [
        " #show some information about the dataset\n",
        " print(train.info())"
      ]
    },
    {
      "cell_type": "markdown",
      "metadata": {
        "id": "8UOB8QG_bi_B"
      },
      "source": [
        "The output shows the list of variables/features, sizes, if it contains missing values and data type for each variable. From the dataset, we don’t have any missing values and we have 3 features of integer data type and 10 features of the object data type.\n",
        "\n",
        "If you want to learn how to handle missing data in your dataset, we recommend you read How to [Handle Missing Data with Python](https://machinelearningmastery.com/handle-missing-data-python/) by Jason Brownlee.\n",
        "\n",
        "We won’t go further on understanding the dataset because Davis has already published an article about exploratory data analysis (EDA) with the financial Inclusion in Africa dataset. You can read and download the notebook for EDA in the link below.\n",
        "\n",
        "[Why you need to explore your data and how you can start](https://https://medium.com/analytics-vidhya/why-you-need-to-explore-your-data-how-you-can-start-13de6f29c8c1)"
      ]
    },
    {
      "cell_type": "code",
      "execution_count": 427,
      "metadata": {
        "colab": {
          "base_uri": "https://localhost:8080/",
          "height": 426
        },
        "id": "8D-b3rTKAbmq",
        "outputId": "67891a87-702a-419a-8fd5-0f74fed96c36"
      },
      "outputs": [
        {
          "data": {
            "text/html": [
              "<div>\n",
              "<style scoped>\n",
              "    .dataframe tbody tr th:only-of-type {\n",
              "        vertical-align: middle;\n",
              "    }\n",
              "\n",
              "    .dataframe tbody tr th {\n",
              "        vertical-align: top;\n",
              "    }\n",
              "\n",
              "    .dataframe thead th {\n",
              "        text-align: right;\n",
              "    }\n",
              "</style>\n",
              "<table border=\"1\" class=\"dataframe\">\n",
              "  <thead>\n",
              "    <tr style=\"text-align: right;\">\n",
              "      <th></th>\n",
              "      <th>Variable Definitions</th>\n",
              "      <th>Unnamed: 1</th>\n",
              "    </tr>\n",
              "  </thead>\n",
              "  <tbody>\n",
              "    <tr>\n",
              "      <th>0</th>\n",
              "      <td>country</td>\n",
              "      <td>Country interviewee is in.</td>\n",
              "    </tr>\n",
              "    <tr>\n",
              "      <th>1</th>\n",
              "      <td>year</td>\n",
              "      <td>Year survey was done in.</td>\n",
              "    </tr>\n",
              "    <tr>\n",
              "      <th>2</th>\n",
              "      <td>uniqueid</td>\n",
              "      <td>Unique identifier for each interviewee</td>\n",
              "    </tr>\n",
              "    <tr>\n",
              "      <th>3</th>\n",
              "      <td>location_type</td>\n",
              "      <td>Type of location: Rural, Urban</td>\n",
              "    </tr>\n",
              "    <tr>\n",
              "      <th>4</th>\n",
              "      <td>cellphone_access</td>\n",
              "      <td>If interviewee has access to a cellphone: Yes, No</td>\n",
              "    </tr>\n",
              "    <tr>\n",
              "      <th>5</th>\n",
              "      <td>household_size</td>\n",
              "      <td>Number of people living in one house</td>\n",
              "    </tr>\n",
              "    <tr>\n",
              "      <th>6</th>\n",
              "      <td>age_of_respondent</td>\n",
              "      <td>The age of the interviewee</td>\n",
              "    </tr>\n",
              "    <tr>\n",
              "      <th>7</th>\n",
              "      <td>gender_of_respondent</td>\n",
              "      <td>Gender of interviewee: Male, Female</td>\n",
              "    </tr>\n",
              "    <tr>\n",
              "      <th>8</th>\n",
              "      <td>relationship_with_head</td>\n",
              "      <td>The interviewee’s relationship with the head o...</td>\n",
              "    </tr>\n",
              "    <tr>\n",
              "      <th>9</th>\n",
              "      <td>marital_status</td>\n",
              "      <td>The martial status of the interviewee: Married...</td>\n",
              "    </tr>\n",
              "    <tr>\n",
              "      <th>10</th>\n",
              "      <td>education_level</td>\n",
              "      <td>Highest level of education: No formal educatio...</td>\n",
              "    </tr>\n",
              "    <tr>\n",
              "      <th>11</th>\n",
              "      <td>job_type</td>\n",
              "      <td>Type of job interviewee has: Farming and Fishi...</td>\n",
              "    </tr>\n",
              "  </tbody>\n",
              "</table>\n",
              "</div>"
            ],
            "text/plain": [
              "      Variable Definitions                                         Unnamed: 1\n",
              "0                  country                         Country interviewee is in.\n",
              "1                     year                           Year survey was done in.\n",
              "2                 uniqueid             Unique identifier for each interviewee\n",
              "3            location_type                     Type of location: Rural, Urban\n",
              "4         cellphone_access  If interviewee has access to a cellphone: Yes, No\n",
              "5           household_size               Number of people living in one house\n",
              "6        age_of_respondent                         The age of the interviewee\n",
              "7     gender_of_respondent                Gender of interviewee: Male, Female\n",
              "8   relationship_with_head  The interviewee’s relationship with the head o...\n",
              "9           marital_status  The martial status of the interviewee: Married...\n",
              "10         education_level  Highest level of education: No formal educatio...\n",
              "11                job_type  Type of job interviewee has: Farming and Fishi..."
            ]
          },
          "execution_count": 427,
          "metadata": {},
          "output_type": "execute_result"
        }
      ],
      "source": [
        "# Let's view the variables\n",
        "variables"
      ]
    },
    {
      "cell_type": "markdown",
      "metadata": {
        "id": "wK0NuOEOcAmC"
      },
      "source": [
        "### 3. Data preparation for machine learning\n",
        "Before you train the model for prediction, you need to perform data [cleaning](https://www.dataquest.io/blog/machine-learning-preparing-data/) and [preprocessing](https://towardsdatascience.com/data-preprocessing-concepts-fa946d11c825). This is a very important step; your model will not perform well without these steps.\n",
        "\n",
        "![48f91a8a-d9c4-4853-ab32-ccb9f143a238.png](data:image/png;base64,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)\n",
        "\n",
        "The first step is to separate the independent variables and target(bank_account) from the train data. Then transform the target values from the object data type into numerical by using [LabelEncoder](https://towardsdatascience.com/categorical-encoding-using-label-encoding-and-one-hot-encoder-911ef77fb5bd).\n"
      ]
    },
    {
      "cell_type": "code",
      "execution_count": 428,
      "metadata": {
        "colab": {
          "base_uri": "https://localhost:8080/"
        },
        "id": "KDu51_TBceft",
        "outputId": "bc1a4302-34e9-4107-8a69-00d59e1f77d4"
      },
      "outputs": [
        {
          "name": "stdout",
          "output_type": "stream",
          "text": [
            "0        1\n",
            "1        0\n",
            "2        1\n",
            "3        0\n",
            "4        0\n",
            "        ..\n",
            "23519    0\n",
            "23520    0\n",
            "23521    0\n",
            "23522    0\n",
            "23523    0\n",
            "Name: bank_account, Length: 23524, dtype: int32\n"
          ]
        }
      ],
      "source": [
        "#import preprocessing module\n",
        "from sklearn.preprocessing import LabelEncoder\n",
        "from sklearn.preprocessing import MinMaxScaler\n",
        "\n",
        "# Cobvert target label to numerical Data\n",
        "le = LabelEncoder()\n",
        "train['bank_account'] = le.fit_transform(train['bank_account'])\n",
        "\n",
        "#Separate training features from target\n",
        "X_train = train.drop(['bank_account'], axis=1)\n",
        "y_train = train['bank_account']\n",
        "\n",
        "print(y_train)"
      ]
    },
    {
      "cell_type": "code",
      "execution_count": 429,
      "metadata": {},
      "outputs": [],
      "source": [
        "feature_names = X_train.columns"
      ]
    },
    {
      "cell_type": "markdown",
      "metadata": {
        "id": "Dance7rnc2a1"
      },
      "source": [
        "The target values have been transformed into numerical datatypes, **1** represents **‘Yes’** and **0** represents **‘No’**.\n",
        "\n",
        "We have created a simple preprocessing function to:\n",
        "\n",
        "*   Handle conversion of data types\n",
        "*   Convert categorical features to numerical features by using [One-hot Encoder and Label Encoder](https://towardsdatascience.com/categorical-encoding-using-label-encoding-and-one-hot-encoder-911ef77fb5bd)\n",
        "*   Drop uniqueid variable\n",
        "*   Perform [feature scaling](https://towardsdatascience.com/preprocessing-with-sklearn-a-complete-and-comprehensive-guide-670cb98fcfb9).\n",
        "\n",
        "The processing function will be used for both train and test independent variables."
      ]
    },
    {
      "cell_type": "code",
      "execution_count": 430,
      "metadata": {
        "id": "5nLXAW5hdYOk"
      },
      "outputs": [],
      "source": [
        "# function to preprocess our data from train models\n",
        "def preprocessing_data(data):\n",
        "\n",
        "    # Convert the following numerical labels from interger to float\n",
        "    float_array = data[[\"household_size\", \"age_of_respondent\", \"year\"]].values.astype(float)\n",
        "    \n",
        "    # categorical features to be onverted to One Hot Encoding\n",
        "    categ = [\"relationship_with_head\",\n",
        "             \"marital_status\",\n",
        "             \"education_level\",\n",
        "             \"job_type\",\n",
        "             \"country\"]\n",
        "    \n",
        "    # One Hot Encoding conversion\n",
        "    data = pd.get_dummies(data, prefix_sep=\"_\", columns=categ)\n",
        "    \n",
        "    # Label Encoder conversion\n",
        "    data[\"location_type\"] = le.fit_transform(data[\"location_type\"])\n",
        "    data[\"cellphone_access\"] = le.fit_transform(data[\"cellphone_access\"])\n",
        "    data[\"gender_of_respondent\"] = le.fit_transform(data[\"gender_of_respondent\"])\n",
        "    \n",
        "    # drop uniquid column\n",
        "    data = data.drop([\"uniqueid\"], axis=1)\n",
        "    \n",
        "    # scale our data into range of 0 and 1\n",
        "    scaler = MinMaxScaler(feature_range=(0, 1))\n",
        "    data = scaler.fit_transform(data)\n",
        "    \n",
        "    return data                  "
      ]
    },
    {
      "cell_type": "markdown",
      "metadata": {
        "id": "0ecEbBCgdeKC"
      },
      "source": [
        "Preprocess both train and test dataset."
      ]
    },
    {
      "cell_type": "code",
      "execution_count": 431,
      "metadata": {
        "id": "eNdoBGhgdYdQ"
      },
      "outputs": [],
      "source": [
        "# preprocess the train data \n",
        "processed_train = preprocessing_data(X_train)\n",
        "processed_test = preprocessing_data(test)"
      ]
    },
    {
      "cell_type": "markdown",
      "metadata": {
        "id": "sxD8v8T6dhxp"
      },
      "source": [
        "Observe the first row in the train data."
      ]
    },
    {
      "cell_type": "code",
      "execution_count": 432,
      "metadata": {
        "colab": {
          "base_uri": "https://localhost:8080/"
        },
        "id": "oZxvcf4DdYld",
        "outputId": "a9d357ef-a139-4a83-a081-60c21e912bc6"
      },
      "outputs": [
        {
          "name": "stdout",
          "output_type": "stream",
          "text": [
            "[[1.        0.        1.        0.1       0.0952381 0.        0.\n",
            "  0.        0.        0.        0.        1.        0.        0.\n",
            "  1.        0.        0.        0.        0.        0.        1.\n",
            "  0.        0.        0.        0.        0.        0.        0.\n",
            "  0.        0.        0.        0.        1.        1.        0.\n",
            "  0.        0.       ]]\n"
          ]
        }
      ],
      "source": [
        "# the first train row\n",
        "print(processed_train[:1])"
      ]
    },
    {
      "cell_type": "markdown",
      "metadata": {
        "id": "5X7hwM0NdlVB"
      },
      "source": [
        "Observe the shape of the train data."
      ]
    },
    {
      "cell_type": "code",
      "execution_count": 433,
      "metadata": {
        "colab": {
          "base_uri": "https://localhost:8080/"
        },
        "id": "hwZVZ4cGdmTP",
        "outputId": "15e18896-281a-4dcc-9b07-b85da0757322"
      },
      "outputs": [
        {
          "name": "stdout",
          "output_type": "stream",
          "text": [
            "(23524, 37)\n"
          ]
        }
      ],
      "source": [
        "# shape of the processed train set\n",
        "print(processed_train.shape)"
      ]
    },
    {
      "cell_type": "code",
      "execution_count": 434,
      "metadata": {},
      "outputs": [
        {
          "data": {
            "text/plain": [
              "array([[1., 0., 1., ..., 0., 0., 0.],\n",
              "       [1., 0., 0., ..., 0., 0., 0.],\n",
              "       [1., 1., 1., ..., 0., 0., 0.],\n",
              "       ...,\n",
              "       [1., 0., 1., ..., 0., 0., 1.],\n",
              "       [1., 1., 1., ..., 0., 0., 1.],\n",
              "       [1., 0., 1., ..., 0., 0., 1.]])"
            ]
          },
          "execution_count": 434,
          "metadata": {},
          "output_type": "execute_result"
        }
      ],
      "source": [
        "processed_train"
      ]
    },
    {
      "cell_type": "code",
      "execution_count": 435,
      "metadata": {},
      "outputs": [],
      "source": [
        "processed_train = np.delete(processed_train,[23,13,18,29,8,10], axis=1)\n",
        "processed_test = np.delete(processed_test,[23,13,18,29,8,10], axis=1) "
      ]
    },
    {
      "cell_type": "code",
      "execution_count": 436,
      "metadata": {},
      "outputs": [
        {
          "data": {
            "text/plain": [
              "(23524, 31)"
            ]
          },
          "execution_count": 436,
          "metadata": {},
          "output_type": "execute_result"
        }
      ],
      "source": [
        "processed_train.shape"
      ]
    },
    {
      "cell_type": "markdown",
      "metadata": {
        "id": "HwHinDPjds1S"
      },
      "source": [
        "Now we have more independent variables than before (37 variables). This doesn’t mean all these variables are important to train our model. You need to select only important features that can increase the performance of the model. But we will not apply any feature selection technique in this article; if you want to learn and know more about feature selection techniques, we recommend you read the following articles:\n",
        "\n",
        "\n",
        "*    [Introduction to Feature Selection methods with an example (or how to select the right variables?)](https://https://www.analyticsvidhya.com/blog/2016/12/introduction-to-feature-selection-methods-with-an-example-or-how-to-select-the-right-variables/)\n",
        "*   [The 5 Feature Selection Algorithms every Data Scientist should know](https://towardsdatascience.com/the-5-feature-selection-algorithms-every-data-scientist-need-to-know-3a6b566efd2)\n",
        "*   [How to Choose a Feature Selection Method For Machine Learning](https://machinelearningmastery.com/feature-selection-with-real-and-categorical-data/)\n",
        "*   [Feature Selection Techniques in Machine Learning with Python](https://towardsdatascience.com/feature-selection-techniques-in-machine-learning-with-python-f24e7da3f36e)"
      ]
    },
    {
      "cell_type": "markdown",
      "metadata": {
        "id": "RmPQteHwk4hS"
      },
      "source": [
        "###4. Model Building and Experiments\n",
        "A portion of the train data set will be used to evaluate our models and find the best one that performs well before using it in the test dataset.\n"
      ]
    },
    {
      "cell_type": "code",
      "execution_count": 437,
      "metadata": {
        "id": "2MSEu48clFhH"
      },
      "outputs": [],
      "source": [
        "import sklearn.model_selection"
      ]
    },
    {
      "cell_type": "code",
      "execution_count": 438,
      "metadata": {
        "id": "6HXDwTMtlB8-"
      },
      "outputs": [],
      "source": [
        "# Split train_data\n",
        "from sklearn.model_selection import train_test_split\n",
        "\n",
        "X_Train, X_Val, y_Train, y_val = train_test_split(processed_train, y_train, stratify = y_train, \n",
        "                                                  test_size = 0.1, random_state=42)"
      ]
    },
    {
      "cell_type": "markdown",
      "metadata": {
        "id": "u1ZVFNKRlmfg"
      },
      "source": [
        "Only 10% of the train dataset will be used for evaluating the models. The parameter stratify = y_train will ensure an equal balance of values from both classes (‘yes’ and ‘no’) for both train and validation set.\n",
        "\n",
        "There are many models to choose from such as \n",
        "\n",
        "*   [K Nearest Neighbors](https://www.datacamp.com/community/tutorials/k-nearest-neighbor-classification-scikit-learn)\n",
        "*   [Logistic Regression](https://machinelearningmastery.com/logistic-regression-tutorial-for-machine-learning/)\n",
        "*   [Random Forest](https://www.datacamp.com/community/tutorials/random-forests-classifier-python)\n",
        "\n",
        "We will be using [**XGBoost**](https://www.datacamp.com/community/tutorials/xgboost-in-python). \n",
        "\n",
        "We will start by training these models using the train set after splitting our train dataset."
      ]
    },
    {
      "cell_type": "code",
      "execution_count": 439,
      "metadata": {
        "colab": {
          "base_uri": "https://localhost:8080/"
        },
        "id": "Kt1ZHUbwmY_t",
        "outputId": "f277a505-89fd-4a23-a3cb-40ef32664744"
      },
      "outputs": [
        {
          "data": {
            "text/html": [
              "<style>#sk-container-id-15 {color: black;}#sk-container-id-15 pre{padding: 0;}#sk-container-id-15 div.sk-toggleable {background-color: white;}#sk-container-id-15 label.sk-toggleable__label {cursor: pointer;display: block;width: 100%;margin-bottom: 0;padding: 0.3em;box-sizing: border-box;text-align: center;}#sk-container-id-15 label.sk-toggleable__label-arrow:before {content: \"▸\";float: left;margin-right: 0.25em;color: #696969;}#sk-container-id-15 label.sk-toggleable__label-arrow:hover:before {color: black;}#sk-container-id-15 div.sk-estimator:hover label.sk-toggleable__label-arrow:before {color: black;}#sk-container-id-15 div.sk-toggleable__content {max-height: 0;max-width: 0;overflow: hidden;text-align: left;background-color: #f0f8ff;}#sk-container-id-15 div.sk-toggleable__content pre {margin: 0.2em;color: black;border-radius: 0.25em;background-color: #f0f8ff;}#sk-container-id-15 input.sk-toggleable__control:checked~div.sk-toggleable__content {max-height: 200px;max-width: 100%;overflow: auto;}#sk-container-id-15 input.sk-toggleable__control:checked~label.sk-toggleable__label-arrow:before {content: \"▾\";}#sk-container-id-15 div.sk-estimator input.sk-toggleable__control:checked~label.sk-toggleable__label {background-color: #d4ebff;}#sk-container-id-15 div.sk-label input.sk-toggleable__control:checked~label.sk-toggleable__label {background-color: #d4ebff;}#sk-container-id-15 input.sk-hidden--visually {border: 0;clip: rect(1px 1px 1px 1px);clip: rect(1px, 1px, 1px, 1px);height: 1px;margin: -1px;overflow: hidden;padding: 0;position: absolute;width: 1px;}#sk-container-id-15 div.sk-estimator {font-family: monospace;background-color: #f0f8ff;border: 1px dotted black;border-radius: 0.25em;box-sizing: border-box;margin-bottom: 0.5em;}#sk-container-id-15 div.sk-estimator:hover {background-color: #d4ebff;}#sk-container-id-15 div.sk-parallel-item::after {content: \"\";width: 100%;border-bottom: 1px solid gray;flex-grow: 1;}#sk-container-id-15 div.sk-label:hover label.sk-toggleable__label {background-color: #d4ebff;}#sk-container-id-15 div.sk-serial::before {content: \"\";position: absolute;border-left: 1px solid gray;box-sizing: border-box;top: 0;bottom: 0;left: 50%;z-index: 0;}#sk-container-id-15 div.sk-serial {display: flex;flex-direction: column;align-items: center;background-color: white;padding-right: 0.2em;padding-left: 0.2em;position: relative;}#sk-container-id-15 div.sk-item {position: relative;z-index: 1;}#sk-container-id-15 div.sk-parallel {display: flex;align-items: stretch;justify-content: center;background-color: white;position: relative;}#sk-container-id-15 div.sk-item::before, #sk-container-id-15 div.sk-parallel-item::before {content: \"\";position: absolute;border-left: 1px solid gray;box-sizing: border-box;top: 0;bottom: 0;left: 50%;z-index: -1;}#sk-container-id-15 div.sk-parallel-item {display: flex;flex-direction: column;z-index: 1;position: relative;background-color: white;}#sk-container-id-15 div.sk-parallel-item:first-child::after {align-self: flex-end;width: 50%;}#sk-container-id-15 div.sk-parallel-item:last-child::after {align-self: flex-start;width: 50%;}#sk-container-id-15 div.sk-parallel-item:only-child::after {width: 0;}#sk-container-id-15 div.sk-dashed-wrapped {border: 1px dashed gray;margin: 0 0.4em 0.5em 0.4em;box-sizing: border-box;padding-bottom: 0.4em;background-color: white;}#sk-container-id-15 div.sk-label label {font-family: monospace;font-weight: bold;display: inline-block;line-height: 1.2em;}#sk-container-id-15 div.sk-label-container {text-align: center;}#sk-container-id-15 div.sk-container {/* jupyter's `normalize.less` sets `[hidden] { display: none; }` but bootstrap.min.css set `[hidden] { display: none !important; }` so we also need the `!important` here to be able to override the default hidden behavior on the sphinx rendered scikit-learn.org. See: https://github.com/scikit-learn/scikit-learn/issues/21755 */display: inline-block !important;position: relative;}#sk-container-id-15 div.sk-text-repr-fallback {display: none;}</style><div id=\"sk-container-id-15\" class=\"sk-top-container\"><div class=\"sk-text-repr-fallback\"><pre>XGBClassifier(base_score=None, booster=None, callbacks=None,\n",
              "              colsample_bylevel=None, colsample_bynode=None,\n",
              "              colsample_bytree=None, device=None, early_stopping_rounds=None,\n",
              "              enable_categorical=False, eval_metric=None, feature_types=None,\n",
              "              gamma=None, grow_policy=None, importance_type=None,\n",
              "              interaction_constraints=None, learning_rate=None, max_bin=None,\n",
              "              max_cat_threshold=None, max_cat_to_onehot=None,\n",
              "              max_delta_step=None, max_depth=None, max_leaves=None,\n",
              "              min_child_weight=None, missing=nan, monotone_constraints=None,\n",
              "              multi_strategy=None, n_estimators=None, n_jobs=None,\n",
              "              num_parallel_tree=None, random_state=None, ...)</pre><b>In a Jupyter environment, please rerun this cell to show the HTML representation or trust the notebook. <br />On GitHub, the HTML representation is unable to render, please try loading this page with nbviewer.org.</b></div><div class=\"sk-container\" hidden><div class=\"sk-item\"><div class=\"sk-estimator sk-toggleable\"><input class=\"sk-toggleable__control sk-hidden--visually\" id=\"sk-estimator-id-15\" type=\"checkbox\" checked><label for=\"sk-estimator-id-15\" class=\"sk-toggleable__label sk-toggleable__label-arrow\">XGBClassifier</label><div class=\"sk-toggleable__content\"><pre>XGBClassifier(base_score=None, booster=None, callbacks=None,\n",
              "              colsample_bylevel=None, colsample_bynode=None,\n",
              "              colsample_bytree=None, device=None, early_stopping_rounds=None,\n",
              "              enable_categorical=False, eval_metric=None, feature_types=None,\n",
              "              gamma=None, grow_policy=None, importance_type=None,\n",
              "              interaction_constraints=None, learning_rate=None, max_bin=None,\n",
              "              max_cat_threshold=None, max_cat_to_onehot=None,\n",
              "              max_delta_step=None, max_depth=None, max_leaves=None,\n",
              "              min_child_weight=None, missing=nan, monotone_constraints=None,\n",
              "              multi_strategy=None, n_estimators=None, n_jobs=None,\n",
              "              num_parallel_tree=None, random_state=None, ...)</pre></div></div></div></div></div>"
            ],
            "text/plain": [
              "XGBClassifier(base_score=None, booster=None, callbacks=None,\n",
              "              colsample_bylevel=None, colsample_bynode=None,\n",
              "              colsample_bytree=None, device=None, early_stopping_rounds=None,\n",
              "              enable_categorical=False, eval_metric=None, feature_types=None,\n",
              "              gamma=None, grow_policy=None, importance_type=None,\n",
              "              interaction_constraints=None, learning_rate=None, max_bin=None,\n",
              "              max_cat_threshold=None, max_cat_to_onehot=None,\n",
              "              max_delta_step=None, max_depth=None, max_leaves=None,\n",
              "              min_child_weight=None, missing=nan, monotone_constraints=None,\n",
              "              multi_strategy=None, n_estimators=None, n_jobs=None,\n",
              "              num_parallel_tree=None, random_state=None, ...)"
            ]
          },
          "execution_count": 439,
          "metadata": {},
          "output_type": "execute_result"
        }
      ],
      "source": [
        "#import classifier algorithm here\n",
        "from xgboost import XGBClassifier\n",
        "\n",
        "# create models\n",
        "xg_model = XGBClassifier()\n",
        "\n",
        "#fitting the models\n",
        "xg_model.fit(X_Train,y_Train)"
      ]
    },
    {
      "cell_type": "markdown",
      "metadata": {
        "id": "Ewpi1qC8mmwM"
      },
      "source": [
        "The evaluation metric for this challenge will be the percentage of survey respondents for whom you predict the binary 'bank account' classification incorrectly.\n",
        "\n",
        "This means the **lower** the incorrect percentage we get, the better the model performance."
      ]
    },
    {
      "cell_type": "code",
      "execution_count": 440,
      "metadata": {
        "colab": {
          "base_uri": "https://localhost:8080/"
        },
        "id": "Z_DtQ0CpmZCT",
        "outputId": "7f20aa72-8af2-4e0c-ceaf-94aefdf7f73a"
      },
      "outputs": [
        {
          "name": "stdout",
          "output_type": "stream",
          "text": [
            "Error rate of XGB classifier:  0.10879728006799827\n"
          ]
        }
      ],
      "source": [
        "# import evaluation metrics\n",
        "from sklearn.metrics import confusion_matrix, accuracy_score\n",
        "\n",
        "# evaluate the model\n",
        "xg_y_model = xg_model.predict(X_Val)\n",
        "\n",
        "# Get error rate\n",
        "print(\"Error rate of XGB classifier: \", 1 - accuracy_score(y_val, xg_y_model))"
      ]
    },
    {
      "cell_type": "markdown",
      "metadata": {
        "id": "7a-L-kYDpKEN"
      },
      "source": [
        "Let’s check the confusion matrix for XGB model."
      ]
    },
    {
      "cell_type": "markdown",
      "metadata": {
        "id": "sXh7X5JCpXUu"
      },
      "source": [
        "Our XGBoost model performs well on predicting **class 0** and performs poorly on predicting **class 1**, it may be caused by the imbalance of data provided(the target variable has more ‘No’ values than ‘Yes’ values). You can learn the best way to deal with imbalanced data here.\n",
        "\n",
        "One way to increase the model performance is by applying the Grid search method as an approach to parameter tuning that will methodically build and evaluate a model for each combination of algorithm parameters specified in a grid. You can skip this cell if you would like. "
      ]
    },
    {
      "cell_type": "code",
      "execution_count": 441,
      "metadata": {
        "colab": {
          "base_uri": "https://localhost:8080/"
        },
        "id": "5I4ycJmWpWm8",
        "outputId": "59f41451-12a0-4af3-9952-cc0e1d7f4419"
      },
      "outputs": [],
      "source": [
        "## Import GridSearchCV\n",
        "#from sklearn.model_selection import GridSearchCV\n",
        "#\n",
        "## Optimize model parameters\n",
        "## I run this code in google colab to make the execution much faster and use the best params in the next code\n",
        "#param_grid = {'min_child_weighth': [1, 5, 10],\n",
        "#        'gamma': [0.5, 1],\n",
        "#        'subsample': [0.6, 0.8, 1.0],\n",
        "#        'max_depth': [3, 5]\n",
        "#        }\n",
        "#my_xgb_model = GridSearchCV(xg_model, param_grid,n_jobs=-1,verbose=2,cv=5)\n",
        "#my_xgb_model.fit(X_Train, y_Train)\n",
        "#print(my_xgb_model.best_params_)        "
      ]
    },
    {
      "cell_type": "markdown",
      "metadata": {
        "id": "mOlYn399p2eQ"
      },
      "source": [
        "The above source code will evaluate which parameter values for min_child_weight, gamma, subsample and max_depth will give us better performance.\n",
        "\n",
        "Let’s use these parameter values and see if the XGB model performance will increase."
      ]
    },
    {
      "cell_type": "code",
      "execution_count": 442,
      "metadata": {
        "colab": {
          "base_uri": "https://localhost:8080/"
        },
        "id": "ngV3CPnHp5ex",
        "outputId": "d3a87838-3b97-4e8e-8d72-65ea0a15c4b4"
      },
      "outputs": [
        {
          "name": "stdout",
          "output_type": "stream",
          "text": [
            "Error rate of the XGB classifier:  0.10709732256693583\n"
          ]
        }
      ],
      "source": [
        "from sklearn.metrics import confusion_matrix, accuracy_score\n",
        "\n",
        "# fit by setting best parameters and Evaluate model\n",
        "xgb_model = XGBClassifier(min_child_weight=1, gamma=1, subsample=0.8, max_depth=5)\n",
        "\n",
        "xgb_model.fit(X_Train, y_Train)\n",
        "y_pred = xgb_model.predict(X_Val)\n",
        "\n",
        "# Get error rate\n",
        "print(\"Error rate of the XGB classifier: \", 1 - accuracy_score(y_val, y_pred))"
      ]
    },
    {
      "cell_type": "code",
      "execution_count": 494,
      "metadata": {},
      "outputs": [
        {
          "name": "stdout",
          "output_type": "stream",
          "text": [
            "0:\ttest: 0.8189627\tbest: 0.8189627 (0)\ttotal: 47.1ms\tremaining: 3.48s\n",
            "1:\ttest: 0.8387040\tbest: 0.8387040 (1)\ttotal: 56.7ms\tremaining: 2.07s\n",
            "2:\ttest: 0.8545396\tbest: 0.8545396 (2)\ttotal: 77.6ms\tremaining: 1.86s\n",
            "3:\ttest: 0.8579418\tbest: 0.8579418 (3)\ttotal: 116ms\tremaining: 2.06s\n",
            "4:\ttest: 0.8567629\tbest: 0.8579418 (3)\ttotal: 128ms\tremaining: 1.79s\n",
            "5:\ttest: 0.8615905\tbest: 0.8615905 (5)\ttotal: 143ms\tremaining: 1.64s\n",
            "6:\ttest: 0.8638646\tbest: 0.8638646 (6)\ttotal: 177ms\tremaining: 1.72s\n",
            "7:\ttest: 0.8648036\tbest: 0.8648036 (7)\ttotal: 211ms\tremaining: 1.76s\n",
            "8:\ttest: 0.8646019\tbest: 0.8648036 (7)\ttotal: 248ms\tremaining: 1.82s\n",
            "9:\ttest: 0.8667042\tbest: 0.8667042 (9)\ttotal: 297ms\tremaining: 1.93s\n",
            "10:\ttest: 0.8653101\tbest: 0.8667042 (9)\ttotal: 304ms\tremaining: 1.77s\n",
            "11:\ttest: 0.8658323\tbest: 0.8667042 (9)\ttotal: 339ms\tremaining: 1.78s\n",
            "12:\ttest: 0.8655851\tbest: 0.8667042 (9)\ttotal: 376ms\tremaining: 1.79s\n",
            "13:\ttest: 0.8668566\tbest: 0.8668566 (13)\ttotal: 418ms\tremaining: 1.82s\n",
            "14:\ttest: 0.8663799\tbest: 0.8668566 (13)\ttotal: 455ms\tremaining: 1.82s\n",
            "15:\ttest: 0.8677426\tbest: 0.8677426 (15)\ttotal: 497ms\tremaining: 1.83s\n",
            "16:\ttest: 0.8680115\tbest: 0.8680115 (16)\ttotal: 535ms\tremaining: 1.82s\n",
            "17:\ttest: 0.8685509\tbest: 0.8685509 (17)\ttotal: 578ms\tremaining: 1.83s\n",
            "18:\ttest: 0.8689588\tbest: 0.8689588 (18)\ttotal: 618ms\tremaining: 1.82s\n",
            "19:\ttest: 0.8695640\tbest: 0.8695640 (19)\ttotal: 659ms\tremaining: 1.81s\n",
            "20:\ttest: 0.8697425\tbest: 0.8697425 (20)\ttotal: 702ms\tremaining: 1.8s\n",
            "21:\ttest: 0.8706629\tbest: 0.8706629 (21)\ttotal: 747ms\tremaining: 1.8s\n",
            "22:\ttest: 0.8711291\tbest: 0.8711291 (22)\ttotal: 789ms\tremaining: 1.78s\n",
            "23:\ttest: 0.8715190\tbest: 0.8715190 (23)\ttotal: 830ms\tremaining: 1.76s\n",
            "24:\ttest: 0.8709513\tbest: 0.8715190 (23)\ttotal: 871ms\tremaining: 1.74s\n",
            "25:\ttest: 0.8712247\tbest: 0.8715190 (23)\ttotal: 913ms\tremaining: 1.72s\n",
            "26:\ttest: 0.8722019\tbest: 0.8722019 (26)\ttotal: 965ms\tremaining: 1.72s\n",
            "27:\ttest: 0.8718111\tbest: 0.8722019 (26)\ttotal: 1.02s\tremaining: 1.71s\n",
            "28:\ttest: 0.8718126\tbest: 0.8722019 (26)\ttotal: 1.06s\tremaining: 1.68s\n",
            "29:\ttest: 0.8721817\tbest: 0.8722019 (26)\ttotal: 1.1s\tremaining: 1.65s\n",
            "30:\ttest: 0.8726374\tbest: 0.8726374 (30)\ttotal: 1.15s\tremaining: 1.63s\n",
            "31:\ttest: 0.8728301\tbest: 0.8728301 (31)\ttotal: 1.19s\tremaining: 1.6s\n",
            "32:\ttest: 0.8730438\tbest: 0.8730438 (32)\ttotal: 1.23s\tremaining: 1.57s\n",
            "33:\ttest: 0.8731305\tbest: 0.8731305 (33)\ttotal: 1.27s\tremaining: 1.53s\n",
            "34:\ttest: 0.8734412\tbest: 0.8734412 (34)\ttotal: 1.28s\tremaining: 1.46s\n",
            "35:\ttest: 0.8732455\tbest: 0.8734412 (34)\ttotal: 1.29s\tremaining: 1.39s\n",
            "36:\ttest: 0.8735010\tbest: 0.8735010 (36)\ttotal: 1.32s\tremaining: 1.36s\n",
            "37:\ttest: 0.8739313\tbest: 0.8739313 (37)\ttotal: 1.36s\tremaining: 1.33s\n",
            "38:\ttest: 0.8747113\tbest: 0.8747113 (38)\ttotal: 1.4s\tremaining: 1.29s\n",
            "39:\ttest: 0.8751042\tbest: 0.8751042 (39)\ttotal: 1.44s\tremaining: 1.26s\n",
            "40:\ttest: 0.8749294\tbest: 0.8751042 (39)\ttotal: 1.48s\tremaining: 1.23s\n",
            "41:\ttest: 0.8744244\tbest: 0.8751042 (39)\ttotal: 1.52s\tremaining: 1.2s\n",
            "42:\ttest: 0.8744199\tbest: 0.8751042 (39)\ttotal: 1.56s\tremaining: 1.16s\n",
            "43:\ttest: 0.8748472\tbest: 0.8751042 (39)\ttotal: 1.61s\tremaining: 1.13s\n",
            "44:\ttest: 0.8748009\tbest: 0.8751042 (39)\ttotal: 1.65s\tremaining: 1.1s\n",
            "45:\ttest: 0.8748472\tbest: 0.8751042 (39)\ttotal: 1.73s\tremaining: 1.09s\n",
            "46:\ttest: 0.8748233\tbest: 0.8751042 (39)\ttotal: 1.78s\tremaining: 1.06s\n",
            "47:\ttest: 0.8750153\tbest: 0.8751042 (39)\ttotal: 1.83s\tremaining: 1.03s\n",
            "48:\ttest: 0.8750437\tbest: 0.8751042 (39)\ttotal: 1.88s\tremaining: 999ms\n",
            "49:\ttest: 0.8754733\tbest: 0.8754733 (49)\ttotal: 1.92s\tremaining: 962ms\n",
            "50:\ttest: 0.8757990\tbest: 0.8757990 (50)\ttotal: 1.97s\tremaining: 926ms\n",
            "51:\ttest: 0.8758319\tbest: 0.8758319 (51)\ttotal: 2.01s\tremaining: 888ms\n",
            "52:\ttest: 0.8758692\tbest: 0.8758692 (52)\ttotal: 2.05s\tremaining: 852ms\n",
            "53:\ttest: 0.8758378\tbest: 0.8758692 (52)\ttotal: 2.1s\tremaining: 816ms\n",
            "54:\ttest: 0.8758274\tbest: 0.8758692 (52)\ttotal: 2.13s\tremaining: 775ms\n",
            "55:\ttest: 0.8758916\tbest: 0.8758916 (55)\ttotal: 2.17s\tremaining: 736ms\n",
            "56:\ttest: 0.8764669\tbest: 0.8764669 (56)\ttotal: 2.21s\tremaining: 697ms\n",
            "57:\ttest: 0.8766566\tbest: 0.8766566 (57)\ttotal: 2.24s\tremaining: 657ms\n",
            "58:\ttest: 0.8763892\tbest: 0.8766566 (57)\ttotal: 2.28s\tremaining: 619ms\n",
            "59:\ttest: 0.8765356\tbest: 0.8766566 (57)\ttotal: 2.32s\tremaining: 579ms\n",
            "60:\ttest: 0.8766043\tbest: 0.8766566 (57)\ttotal: 2.36s\tremaining: 542ms\n",
            "61:\ttest: 0.8764504\tbest: 0.8766566 (57)\ttotal: 2.4s\tremaining: 502ms\n",
            "62:\ttest: 0.8762398\tbest: 0.8766566 (57)\ttotal: 2.43s\tremaining: 463ms\n",
            "63:\ttest: 0.8762173\tbest: 0.8766566 (57)\ttotal: 2.47s\tremaining: 424ms\n",
            "64:\ttest: 0.8761875\tbest: 0.8766566 (57)\ttotal: 2.48s\tremaining: 381ms\n",
            "65:\ttest: 0.8762323\tbest: 0.8766566 (57)\ttotal: 2.52s\tremaining: 343ms\n",
            "66:\ttest: 0.8764116\tbest: 0.8766566 (57)\ttotal: 2.55s\tremaining: 304ms\n",
            "67:\ttest: 0.8765759\tbest: 0.8766566 (57)\ttotal: 2.58s\tremaining: 266ms\n",
            "68:\ttest: 0.8767829\tbest: 0.8767829 (68)\ttotal: 2.62s\tremaining: 228ms\n",
            "69:\ttest: 0.8769159\tbest: 0.8769159 (69)\ttotal: 2.66s\tremaining: 190ms\n",
            "70:\ttest: 0.8768367\tbest: 0.8769159 (69)\ttotal: 2.69s\tremaining: 152ms\n",
            "71:\ttest: 0.8766992\tbest: 0.8769159 (69)\ttotal: 2.73s\tremaining: 114ms\n",
            "72:\ttest: 0.8764915\tbest: 0.8769159 (69)\ttotal: 2.77s\tremaining: 76ms\n",
            "73:\ttest: 0.8765961\tbest: 0.8769159 (69)\ttotal: 2.83s\tremaining: 38.2ms\n",
            "74:\ttest: 0.8766320\tbest: 0.8769159 (69)\ttotal: 2.87s\tremaining: 0us\n",
            "\n",
            "bestTest = 0.8769158591\n",
            "bestIteration = 69\n",
            "\n",
            "Shrink model to first 70 iterations.\n",
            "Error rate of CatBoost classifier: 0.1071\n"
          ]
        }
      ],
      "source": [
        "\n",
        "from catboost import CatBoostClassifier, Pool\n",
        "from sklearn.metrics import accuracy_score\n",
        "\n",
        "# Create a CatBoost Pool for training and validation data\n",
        "train_pool = Pool(data=X_Train, label=y_Train)\n",
        "val_pool = Pool(data=X_Val, label=y_val)\n",
        "\n",
        "# Define CatBoost parameters\n",
        "catboost_params = {\n",
        "    'loss_function': 'Logloss',\n",
        "    'eval_metric': 'AUC',\n",
        "    'learning_rate': 0.04162,\n",
        "    'iterations': 75,\n",
        "    'random_seed': 42,\n",
        "    'depth': 12,\n",
        "    'border_count': 32,\n",
        "    'od_type': 'Iter',\n",
        "    'early_stopping_rounds': 700,\n",
        "    'task_type': 'CPU',\n",
        "    'logging_level': 'Verbose',\n",
        "    'min_child_samples': 10, \n",
        "    'l2_leaf_reg': 5,                # Regularization term\n",
        "    'bagging_temperature': 5,\n",
        "    #'subsample': 0.5,\n",
        "    #'colsample_bylevel': 0.8,\n",
        "\n",
        "}\n",
        "\n",
        "# Create and train the CatBoost model\n",
        "model = CatBoostClassifier(**catboost_params)\n",
        "model.fit(train_pool, eval_set=val_pool)\n",
        "\n",
        "# Make predictions on the validation set\n",
        "y_pred = model.predict(X_Val)\n",
        "\n",
        "# Convert predictions to binary (0 or 1)\n",
        "y_pred_binary = (y_pred > 0.5).astype(int)\n",
        "\n",
        "# Calculate the error rate\n",
        "error_rate = 1 - accuracy_score(y_val, y_pred_binary)\n",
        "print(f'Error rate of CatBoost classifier: {error_rate:.4f}')\n",
        "\n"
      ]
    },
    {
      "cell_type": "code",
      "execution_count": 495,
      "metadata": {},
      "outputs": [
        {
          "data": {
            "image/png": "[encoded data removed]",
            "text/plain": [
              "<Figure size 1000x600 with 1 Axes>"
            ]
          },
          "metadata": {},
          "output_type": "display_data"
        }
      ],
      "source": [
        "# Plot feature importance\n",
        "import pandas as pd\n",
        "feature_importance = model.get_feature_importance(prettified=True)\n",
        "plt.figure(figsize=(10, 6))\n",
        "plt.barh(feature_importance['Feature Id'], feature_importance['Importances'])\n",
        "plt.yticks(feature_importance['Feature Id'], feature_importance['Feature Id'])\n",
        "plt.xlabel('Importance')\n",
        "plt.ylabel('Feature')\n",
        "plt.title('CatBoost Feature Importance')\n",
        "plt.show()"
      ]
    },
    {
      "cell_type": "code",
      "execution_count": 496,
      "metadata": {},
      "outputs": [
        {
          "data": {
            "application/vnd.jupyter.widget-view+json": {
              "model_id": "f4bb1b32d18f472998a1f2d2fe66fd06",
              "version_major": 2,
              "version_minor": 0
            },
            "text/plain": [
              "MetricVisualizer(layout=Layout(align_self='stretch', height='500px'))"
            ]
          },
          "metadata": {},
          "output_type": "display_data"
        },
        {
          "name": "stdout",
          "output_type": "stream",
          "text": [
            "Training on fold [0/5]\n",
            "0:\ttest: 0.7814673\tbest: 0.7814673 (0)\ttotal: 10.6ms\tremaining: 786ms\n",
            "1:\ttest: 0.8267702\tbest: 0.8267702 (1)\ttotal: 23.5ms\tremaining: 860ms\n",
            "2:\ttest: 0.8395262\tbest: 0.8395262 (2)\ttotal: 43.2ms\tremaining: 1.04s\n",
            "3:\ttest: 0.8489287\tbest: 0.8489287 (3)\ttotal: 58.5ms\tremaining: 1.04s\n",
            "4:\ttest: 0.8463907\tbest: 0.8489287 (3)\ttotal: 77.1ms\tremaining: 1.08s\n",
            "5:\ttest: 0.8512380\tbest: 0.8512380 (5)\ttotal: 132ms\tremaining: 1.52s\n",
            "6:\ttest: 0.8531708\tbest: 0.8531708 (6)\ttotal: 149ms\tremaining: 1.44s\n",
            "7:\ttest: 0.8545957\tbest: 0.8545957 (7)\ttotal: 166ms\tremaining: 1.39s\n",
            "8:\ttest: 0.8538162\tbest: 0.8545957 (7)\ttotal: 181ms\tremaining: 1.32s\n",
            "9:\ttest: 0.8543258\tbest: 0.8545957 (7)\ttotal: 199ms\tremaining: 1.29s\n",
            "10:\ttest: 0.8551316\tbest: 0.8551316 (10)\ttotal: 214ms\tremaining: 1.24s\n",
            "11:\ttest: 0.8549839\tbest: 0.8551316 (10)\ttotal: 229ms\tremaining: 1.2s\n",
            "12:\ttest: 0.8555744\tbest: 0.8555744 (12)\ttotal: 245ms\tremaining: 1.17s\n",
            "13:\ttest: 0.8553441\tbest: 0.8555744 (12)\ttotal: 261ms\tremaining: 1.14s\n",
            "14:\ttest: 0.8563633\tbest: 0.8563633 (14)\ttotal: 284ms\tremaining: 1.14s\n",
            "15:\ttest: 0.8565461\tbest: 0.8565461 (15)\ttotal: 303ms\tremaining: 1.12s\n",
            "16:\ttest: 0.8569001\tbest: 0.8569001 (16)\ttotal: 323ms\tremaining: 1.1s\n",
            "17:\ttest: 0.8568341\tbest: 0.8569001 (16)\ttotal: 338ms\tremaining: 1.07s\n",
            "18:\ttest: 0.8575097\tbest: 0.8575097 (18)\ttotal: 356ms\tremaining: 1.05s\n",
            "19:\ttest: 0.8582950\tbest: 0.8582950 (19)\ttotal: 374ms\tremaining: 1.03s\n",
            "20:\ttest: 0.8584849\tbest: 0.8584849 (20)\ttotal: 384ms\tremaining: 986ms\n",
            "21:\ttest: 0.8591766\tbest: 0.8591766 (21)\ttotal: 400ms\tremaining: 963ms\n",
            "22:\ttest: 0.8592862\tbest: 0.8592862 (22)\ttotal: 412ms\tremaining: 931ms\n",
            "23:\ttest: 0.8590337\tbest: 0.8592862 (22)\ttotal: 430ms\tremaining: 913ms\n",
            "24:\ttest: 0.8586319\tbest: 0.8592862 (22)\ttotal: 444ms\tremaining: 888ms\n",
            "25:\ttest: 0.8589274\tbest: 0.8592862 (22)\ttotal: 459ms\tremaining: 865ms\n",
            "26:\ttest: 0.8589434\tbest: 0.8592862 (22)\ttotal: 472ms\tremaining: 839ms\n",
            "27:\ttest: 0.8589717\tbest: 0.8592862 (22)\ttotal: 488ms\tremaining: 819ms\n",
            "28:\ttest: 0.8588736\tbest: 0.8592862 (22)\ttotal: 501ms\tremaining: 795ms\n",
            "29:\ttest: 0.8587235\tbest: 0.8592862 (22)\ttotal: 516ms\tremaining: 774ms\n",
            "30:\ttest: 0.8592443\tbest: 0.8592862 (22)\ttotal: 535ms\tremaining: 760ms\n",
            "31:\ttest: 0.8594603\tbest: 0.8594603 (31)\ttotal: 551ms\tremaining: 741ms\n",
            "32:\ttest: 0.8595860\tbest: 0.8595860 (32)\ttotal: 565ms\tremaining: 720ms\n",
            "33:\ttest: 0.8592476\tbest: 0.8595860 (32)\ttotal: 581ms\tremaining: 700ms\n",
            "34:\ttest: 0.8591820\tbest: 0.8595860 (32)\ttotal: 595ms\tremaining: 679ms\n",
            "35:\ttest: 0.8598102\tbest: 0.8598102 (35)\ttotal: 609ms\tremaining: 659ms\n",
            "36:\ttest: 0.8599214\tbest: 0.8599214 (36)\ttotal: 625ms\tremaining: 642ms\n",
            "37:\ttest: 0.8600725\tbest: 0.8600725 (37)\ttotal: 646ms\tremaining: 629ms\n",
            "38:\ttest: 0.8605367\tbest: 0.8605367 (38)\ttotal: 664ms\tremaining: 613ms\n",
            "39:\ttest: 0.8606076\tbest: 0.8606076 (39)\ttotal: 684ms\tremaining: 599ms\n",
            "40:\ttest: 0.8609292\tbest: 0.8609292 (40)\ttotal: 702ms\tremaining: 582ms\n",
            "41:\ttest: 0.8607680\tbest: 0.8609292 (40)\ttotal: 721ms\tremaining: 567ms\n",
            "42:\ttest: 0.8608788\tbest: 0.8609292 (40)\ttotal: 736ms\tremaining: 548ms\n",
            "43:\ttest: 0.8608076\tbest: 0.8609292 (40)\ttotal: 751ms\tremaining: 529ms\n",
            "44:\ttest: 0.8610988\tbest: 0.8610988 (44)\ttotal: 769ms\tremaining: 512ms\n",
            "45:\ttest: 0.8612469\tbest: 0.8612469 (45)\ttotal: 788ms\tremaining: 497ms\n",
            "46:\ttest: 0.8612799\tbest: 0.8612799 (46)\ttotal: 805ms\tremaining: 479ms\n",
            "47:\ttest: 0.8612944\tbest: 0.8612944 (47)\ttotal: 814ms\tremaining: 458ms\n",
            "48:\ttest: 0.8614470\tbest: 0.8614470 (48)\ttotal: 831ms\tremaining: 441ms\n",
            "49:\ttest: 0.8619805\tbest: 0.8619805 (49)\ttotal: 852ms\tremaining: 426ms\n",
            "50:\ttest: 0.8621562\tbest: 0.8621562 (50)\ttotal: 869ms\tremaining: 409ms\n",
            "51:\ttest: 0.8620891\tbest: 0.8621562 (50)\ttotal: 885ms\tremaining: 391ms\n",
            "52:\ttest: 0.8621241\tbest: 0.8621562 (50)\ttotal: 900ms\tremaining: 374ms\n",
            "53:\ttest: 0.8622006\tbest: 0.8622006 (53)\ttotal: 921ms\tremaining: 358ms\n",
            "54:\ttest: 0.8624200\tbest: 0.8624200 (54)\ttotal: 943ms\tremaining: 343ms\n",
            "55:\ttest: 0.8625091\tbest: 0.8625091 (55)\ttotal: 966ms\tremaining: 328ms\n",
            "56:\ttest: 0.8625707\tbest: 0.8625707 (56)\ttotal: 977ms\tremaining: 308ms\n",
            "57:\ttest: 0.8626675\tbest: 0.8626675 (57)\ttotal: 995ms\tremaining: 292ms\n",
            "58:\ttest: 0.8626563\tbest: 0.8626675 (57)\ttotal: 1.02s\tremaining: 276ms\n",
            "59:\ttest: 0.8624468\tbest: 0.8626675 (57)\ttotal: 1.05s\tremaining: 262ms\n",
            "60:\ttest: 0.8626170\tbest: 0.8626675 (57)\ttotal: 1.07s\tremaining: 246ms\n",
            "61:\ttest: 0.8627680\tbest: 0.8627680 (61)\ttotal: 1.1s\tremaining: 231ms\n",
            "62:\ttest: 0.8629490\tbest: 0.8629490 (62)\ttotal: 1.12s\tremaining: 213ms\n",
            "63:\ttest: 0.8630911\tbest: 0.8630911 (63)\ttotal: 1.13s\tremaining: 195ms\n",
            "64:\ttest: 0.8626729\tbest: 0.8630911 (63)\ttotal: 1.15s\tremaining: 177ms\n",
            "65:\ttest: 0.8626654\tbest: 0.8630911 (63)\ttotal: 1.16s\tremaining: 159ms\n",
            "66:\ttest: 0.8627656\tbest: 0.8630911 (63)\ttotal: 1.18s\tremaining: 141ms\n",
            "67:\ttest: 0.8626947\tbest: 0.8630911 (63)\ttotal: 1.2s\tremaining: 123ms\n",
            "68:\ttest: 0.8628682\tbest: 0.8630911 (63)\ttotal: 1.22s\tremaining: 106ms\n",
            "69:\ttest: 0.8630613\tbest: 0.8630911 (63)\ttotal: 1.24s\tremaining: 88.4ms\n",
            "70:\ttest: 0.8628956\tbest: 0.8630911 (63)\ttotal: 1.25s\tremaining: 70.6ms\n",
            "71:\ttest: 0.8627692\tbest: 0.8630911 (63)\ttotal: 1.27s\tremaining: 52.9ms\n",
            "72:\ttest: 0.8629367\tbest: 0.8630911 (63)\ttotal: 1.29s\tremaining: 35.3ms\n",
            "73:\ttest: 0.8630971\tbest: 0.8630971 (73)\ttotal: 1.3s\tremaining: 17.6ms\n",
            "74:\ttest: 0.8631758\tbest: 0.8631758 (74)\ttotal: 1.31s\tremaining: 0us\n",
            "\n",
            "bestTest = 0.8631757998\n",
            "bestIteration = 74\n",
            "\n",
            "Training on fold [1/5]\n",
            "0:\ttest: 0.7729431\tbest: 0.7729431 (0)\ttotal: 11.4ms\tremaining: 843ms\n",
            "1:\ttest: 0.8181603\tbest: 0.8181603 (1)\ttotal: 25.1ms\tremaining: 918ms\n",
            "2:\ttest: 0.8381263\tbest: 0.8381263 (2)\ttotal: 44.3ms\tremaining: 1.06s\n",
            "3:\ttest: 0.8471238\tbest: 0.8471238 (3)\ttotal: 62ms\tremaining: 1.1s\n",
            "4:\ttest: 0.8445859\tbest: 0.8471238 (3)\ttotal: 83.3ms\tremaining: 1.17s\n",
            "5:\ttest: 0.8485610\tbest: 0.8485610 (5)\ttotal: 104ms\tremaining: 1.19s\n",
            "6:\ttest: 0.8501581\tbest: 0.8501581 (6)\ttotal: 112ms\tremaining: 1.09s\n",
            "7:\ttest: 0.8571447\tbest: 0.8571447 (7)\ttotal: 131ms\tremaining: 1.1s\n",
            "8:\ttest: 0.8571277\tbest: 0.8571447 (7)\ttotal: 151ms\tremaining: 1.11s\n",
            "9:\ttest: 0.8585183\tbest: 0.8585183 (9)\ttotal: 169ms\tremaining: 1.1s\n",
            "10:\ttest: 0.8595502\tbest: 0.8595502 (10)\ttotal: 187ms\tremaining: 1.09s\n",
            "11:\ttest: 0.8587141\tbest: 0.8595502 (10)\ttotal: 205ms\tremaining: 1.08s\n",
            "12:\ttest: 0.8610432\tbest: 0.8610432 (12)\ttotal: 224ms\tremaining: 1.07s\n",
            "13:\ttest: 0.8609714\tbest: 0.8610432 (12)\ttotal: 244ms\tremaining: 1.06s\n",
            "14:\ttest: 0.8609154\tbest: 0.8610432 (12)\ttotal: 255ms\tremaining: 1.02s\n",
            "15:\ttest: 0.8616774\tbest: 0.8616774 (15)\ttotal: 273ms\tremaining: 1.01s\n",
            "16:\ttest: 0.8615491\tbest: 0.8616774 (15)\ttotal: 288ms\tremaining: 982ms\n",
            "17:\ttest: 0.8627596\tbest: 0.8627596 (17)\ttotal: 301ms\tremaining: 954ms\n",
            "18:\ttest: 0.8628231\tbest: 0.8628231 (18)\ttotal: 314ms\tremaining: 925ms\n",
            "19:\ttest: 0.8633925\tbest: 0.8633925 (19)\ttotal: 330ms\tremaining: 907ms\n",
            "20:\ttest: 0.8637837\tbest: 0.8637837 (20)\ttotal: 346ms\tremaining: 889ms\n",
            "21:\ttest: 0.8645220\tbest: 0.8645220 (21)\ttotal: 362ms\tremaining: 873ms\n",
            "22:\ttest: 0.8650842\tbest: 0.8650842 (22)\ttotal: 378ms\tremaining: 856ms\n",
            "23:\ttest: 0.8651840\tbest: 0.8651840 (23)\ttotal: 395ms\tremaining: 840ms\n",
            "24:\ttest: 0.8653825\tbest: 0.8653825 (24)\ttotal: 410ms\tremaining: 820ms\n",
            "25:\ttest: 0.8654157\tbest: 0.8654157 (25)\ttotal: 425ms\tremaining: 801ms\n",
            "26:\ttest: 0.8653360\tbest: 0.8654157 (25)\ttotal: 443ms\tremaining: 787ms\n",
            "27:\ttest: 0.8652513\tbest: 0.8654157 (25)\ttotal: 467ms\tremaining: 784ms\n",
            "28:\ttest: 0.8653644\tbest: 0.8654157 (25)\ttotal: 484ms\tremaining: 768ms\n",
            "29:\ttest: 0.8653927\tbest: 0.8654157 (25)\ttotal: 502ms\tremaining: 753ms\n",
            "30:\ttest: 0.8654371\tbest: 0.8654371 (30)\ttotal: 521ms\tremaining: 740ms\n",
            "31:\ttest: 0.8651562\tbest: 0.8654371 (30)\ttotal: 541ms\tremaining: 727ms\n",
            "32:\ttest: 0.8653301\tbest: 0.8654371 (30)\ttotal: 559ms\tremaining: 711ms\n",
            "33:\ttest: 0.8657430\tbest: 0.8657430 (33)\ttotal: 577ms\tremaining: 696ms\n",
            "34:\ttest: 0.8657393\tbest: 0.8657430 (33)\ttotal: 598ms\tremaining: 683ms\n",
            "35:\ttest: 0.8659505\tbest: 0.8659505 (35)\ttotal: 616ms\tremaining: 667ms\n",
            "36:\ttest: 0.8663023\tbest: 0.8663023 (36)\ttotal: 633ms\tremaining: 650ms\n",
            "37:\ttest: 0.8663373\tbest: 0.8663373 (37)\ttotal: 649ms\tremaining: 632ms\n",
            "38:\ttest: 0.8666910\tbest: 0.8666910 (38)\ttotal: 672ms\tremaining: 621ms\n",
            "39:\ttest: 0.8668421\tbest: 0.8668421 (39)\ttotal: 689ms\tremaining: 603ms\n",
            "40:\ttest: 0.8669417\tbest: 0.8669417 (40)\ttotal: 693ms\tremaining: 575ms\n",
            "41:\ttest: 0.8669689\tbest: 0.8669689 (41)\ttotal: 707ms\tremaining: 556ms\n",
            "42:\ttest: 0.8669809\tbest: 0.8669809 (42)\ttotal: 723ms\tremaining: 538ms\n",
            "43:\ttest: 0.8671818\tbest: 0.8671818 (43)\ttotal: 738ms\tremaining: 520ms\n",
            "44:\ttest: 0.8670400\tbest: 0.8671818 (43)\ttotal: 754ms\tremaining: 502ms\n",
            "45:\ttest: 0.8671693\tbest: 0.8671818 (43)\ttotal: 772ms\tremaining: 487ms\n",
            "46:\ttest: 0.8673715\tbest: 0.8673715 (46)\ttotal: 790ms\tremaining: 471ms\n",
            "47:\ttest: 0.8676348\tbest: 0.8676348 (47)\ttotal: 811ms\tremaining: 456ms\n",
            "48:\ttest: 0.8676322\tbest: 0.8676348 (47)\ttotal: 829ms\tremaining: 440ms\n",
            "49:\ttest: 0.8679117\tbest: 0.8679117 (49)\ttotal: 845ms\tremaining: 423ms\n",
            "50:\ttest: 0.8681691\tbest: 0.8681691 (50)\ttotal: 865ms\tremaining: 407ms\n",
            "51:\ttest: 0.8684190\tbest: 0.8684190 (51)\ttotal: 882ms\tremaining: 390ms\n",
            "52:\ttest: 0.8682931\tbest: 0.8684190 (51)\ttotal: 900ms\tremaining: 374ms\n",
            "53:\ttest: 0.8683961\tbest: 0.8684190 (51)\ttotal: 936ms\tremaining: 364ms\n",
            "54:\ttest: 0.8683864\tbest: 0.8684190 (51)\ttotal: 967ms\tremaining: 352ms\n",
            "55:\ttest: 0.8684397\tbest: 0.8684397 (55)\ttotal: 985ms\tremaining: 334ms\n",
            "56:\ttest: 0.8683151\tbest: 0.8684397 (55)\ttotal: 1.01s\tremaining: 318ms\n",
            "57:\ttest: 0.8683472\tbest: 0.8684397 (55)\ttotal: 1.02s\tremaining: 300ms\n",
            "58:\ttest: 0.8683282\tbest: 0.8684397 (55)\ttotal: 1.04s\tremaining: 282ms\n",
            "59:\ttest: 0.8684412\tbest: 0.8684412 (59)\ttotal: 1.05s\tremaining: 264ms\n",
            "60:\ttest: 0.8684606\tbest: 0.8684606 (60)\ttotal: 1.07s\tremaining: 246ms\n",
            "61:\ttest: 0.8682916\tbest: 0.8684606 (60)\ttotal: 1.09s\tremaining: 229ms\n",
            "62:\ttest: 0.8682398\tbest: 0.8684606 (60)\ttotal: 1.11s\tremaining: 211ms\n",
            "63:\ttest: 0.8680920\tbest: 0.8684606 (60)\ttotal: 1.13s\tremaining: 194ms\n",
            "64:\ttest: 0.8680012\tbest: 0.8684606 (60)\ttotal: 1.14s\tremaining: 176ms\n",
            "65:\ttest: 0.8680896\tbest: 0.8684606 (60)\ttotal: 1.16s\tremaining: 158ms\n",
            "66:\ttest: 0.8680993\tbest: 0.8684606 (60)\ttotal: 1.18s\tremaining: 140ms\n",
            "67:\ttest: 0.8680322\tbest: 0.8684606 (60)\ttotal: 1.19s\tremaining: 123ms\n",
            "68:\ttest: 0.8680053\tbest: 0.8684606 (60)\ttotal: 1.21s\tremaining: 105ms\n",
            "69:\ttest: 0.8680948\tbest: 0.8684606 (60)\ttotal: 1.23s\tremaining: 87.9ms\n",
            "70:\ttest: 0.8682090\tbest: 0.8684606 (60)\ttotal: 1.25s\tremaining: 70.4ms\n",
            "71:\ttest: 0.8679396\tbest: 0.8684606 (60)\ttotal: 1.27s\tremaining: 52.8ms\n",
            "72:\ttest: 0.8679967\tbest: 0.8684606 (60)\ttotal: 1.28s\tremaining: 35.2ms\n",
            "73:\ttest: 0.8680258\tbest: 0.8684606 (60)\ttotal: 1.3s\tremaining: 17.5ms\n",
            "74:\ttest: 0.8679422\tbest: 0.8684606 (60)\ttotal: 1.31s\tremaining: 0us\n",
            "\n",
            "bestTest = 0.868460617\n",
            "bestIteration = 60\n",
            "\n",
            "Training on fold [2/5]\n",
            "0:\ttest: 0.7709365\tbest: 0.7709365 (0)\ttotal: 11.1ms\tremaining: 819ms\n",
            "1:\ttest: 0.8083600\tbest: 0.8083600 (1)\ttotal: 24.9ms\tremaining: 907ms\n",
            "2:\ttest: 0.8231545\tbest: 0.8231545 (2)\ttotal: 40.4ms\tremaining: 968ms\n",
            "3:\ttest: 0.8337289\tbest: 0.8337289 (3)\ttotal: 53.4ms\tremaining: 948ms\n",
            "4:\ttest: 0.8309820\tbest: 0.8337289 (3)\ttotal: 67.7ms\tremaining: 947ms\n",
            "5:\ttest: 0.8371501\tbest: 0.8371501 (5)\ttotal: 84.1ms\tremaining: 967ms\n",
            "6:\ttest: 0.8406840\tbest: 0.8406840 (6)\ttotal: 94.4ms\tremaining: 917ms\n",
            "7:\ttest: 0.8437395\tbest: 0.8437395 (7)\ttotal: 112ms\tremaining: 937ms\n",
            "8:\ttest: 0.8438998\tbest: 0.8438998 (8)\ttotal: 126ms\tremaining: 925ms\n",
            "9:\ttest: 0.8447827\tbest: 0.8447827 (9)\ttotal: 145ms\tremaining: 942ms\n",
            "10:\ttest: 0.8456169\tbest: 0.8456169 (10)\ttotal: 163ms\tremaining: 949ms\n",
            "11:\ttest: 0.8456057\tbest: 0.8456169 (10)\ttotal: 182ms\tremaining: 954ms\n",
            "12:\ttest: 0.8449961\tbest: 0.8456169 (10)\ttotal: 190ms\tremaining: 906ms\n",
            "13:\ttest: 0.8457138\tbest: 0.8457138 (13)\ttotal: 207ms\tremaining: 902ms\n",
            "14:\ttest: 0.8456598\tbest: 0.8457138 (13)\ttotal: 223ms\tremaining: 890ms\n",
            "15:\ttest: 0.8471009\tbest: 0.8471009 (15)\ttotal: 237ms\tremaining: 875ms\n",
            "16:\ttest: 0.8466517\tbest: 0.8471009 (15)\ttotal: 246ms\tremaining: 839ms\n",
            "17:\ttest: 0.8476807\tbest: 0.8476807 (17)\ttotal: 262ms\tremaining: 829ms\n",
            "18:\ttest: 0.8477474\tbest: 0.8477474 (18)\ttotal: 278ms\tremaining: 819ms\n",
            "19:\ttest: 0.8480289\tbest: 0.8480289 (19)\ttotal: 294ms\tremaining: 807ms\n",
            "20:\ttest: 0.8485020\tbest: 0.8485020 (20)\ttotal: 310ms\tremaining: 798ms\n",
            "21:\ttest: 0.8490364\tbest: 0.8490364 (21)\ttotal: 317ms\tremaining: 764ms\n",
            "22:\ttest: 0.8491104\tbest: 0.8491104 (22)\ttotal: 336ms\tremaining: 761ms\n",
            "23:\ttest: 0.8490779\tbest: 0.8491104 (22)\ttotal: 357ms\tremaining: 759ms\n",
            "24:\ttest: 0.8496639\tbest: 0.8496639 (24)\ttotal: 374ms\tremaining: 748ms\n",
            "25:\ttest: 0.8498335\tbest: 0.8498335 (25)\ttotal: 392ms\tremaining: 738ms\n",
            "26:\ttest: 0.8503192\tbest: 0.8503192 (26)\ttotal: 410ms\tremaining: 729ms\n",
            "27:\ttest: 0.8510659\tbest: 0.8510659 (27)\ttotal: 436ms\tremaining: 732ms\n",
            "28:\ttest: 0.8511731\tbest: 0.8511731 (28)\ttotal: 455ms\tremaining: 722ms\n",
            "29:\ttest: 0.8515691\tbest: 0.8515691 (29)\ttotal: 478ms\tremaining: 717ms\n",
            "30:\ttest: 0.8514734\tbest: 0.8515691 (29)\ttotal: 494ms\tremaining: 701ms\n",
            "31:\ttest: 0.8512406\tbest: 0.8515691 (29)\ttotal: 540ms\tremaining: 726ms\n",
            "32:\ttest: 0.8515244\tbest: 0.8515691 (29)\ttotal: 575ms\tremaining: 732ms\n",
            "33:\ttest: 0.8520159\tbest: 0.8520159 (33)\ttotal: 595ms\tremaining: 717ms\n",
            "34:\ttest: 0.8525169\tbest: 0.8525169 (34)\ttotal: 615ms\tremaining: 703ms\n",
            "35:\ttest: 0.8524017\tbest: 0.8525169 (34)\ttotal: 634ms\tremaining: 687ms\n",
            "36:\ttest: 0.8523504\tbest: 0.8525169 (34)\ttotal: 660ms\tremaining: 677ms\n",
            "37:\ttest: 0.8526691\tbest: 0.8526691 (37)\ttotal: 683ms\tremaining: 665ms\n",
            "38:\ttest: 0.8525664\tbest: 0.8526691 (37)\ttotal: 702ms\tremaining: 648ms\n",
            "39:\ttest: 0.8527286\tbest: 0.8527286 (39)\ttotal: 727ms\tremaining: 636ms\n",
            "40:\ttest: 0.8528728\tbest: 0.8528728 (40)\ttotal: 749ms\tremaining: 621ms\n",
            "41:\ttest: 0.8529083\tbest: 0.8529083 (41)\ttotal: 770ms\tremaining: 605ms\n",
            "42:\ttest: 0.8529612\tbest: 0.8529612 (42)\ttotal: 790ms\tremaining: 588ms\n",
            "43:\ttest: 0.8534717\tbest: 0.8534717 (43)\ttotal: 812ms\tremaining: 572ms\n",
            "44:\ttest: 0.8536167\tbest: 0.8536167 (44)\ttotal: 834ms\tremaining: 556ms\n",
            "45:\ttest: 0.8537210\tbest: 0.8537210 (45)\ttotal: 857ms\tremaining: 540ms\n",
            "46:\ttest: 0.8536780\tbest: 0.8537210 (45)\ttotal: 876ms\tremaining: 522ms\n",
            "47:\ttest: 0.8538914\tbest: 0.8538914 (47)\ttotal: 898ms\tremaining: 505ms\n",
            "48:\ttest: 0.8538439\tbest: 0.8538914 (47)\ttotal: 918ms\tremaining: 487ms\n",
            "49:\ttest: 0.8538920\tbest: 0.8538920 (49)\ttotal: 937ms\tremaining: 469ms\n",
            "50:\ttest: 0.8541468\tbest: 0.8541468 (50)\ttotal: 954ms\tremaining: 449ms\n",
            "51:\ttest: 0.8538609\tbest: 0.8541468 (50)\ttotal: 969ms\tremaining: 429ms\n",
            "52:\ttest: 0.8538976\tbest: 0.8541468 (50)\ttotal: 989ms\tremaining: 410ms\n",
            "53:\ttest: 0.8540910\tbest: 0.8541468 (50)\ttotal: 1s\tremaining: 391ms\n",
            "54:\ttest: 0.8541201\tbest: 0.8541468 (50)\ttotal: 1.02s\tremaining: 371ms\n",
            "55:\ttest: 0.8540140\tbest: 0.8541468 (50)\ttotal: 1.03s\tremaining: 350ms\n",
            "56:\ttest: 0.8540966\tbest: 0.8541468 (50)\ttotal: 1.05s\tremaining: 331ms\n",
            "57:\ttest: 0.8541324\tbest: 0.8541468 (50)\ttotal: 1.06s\tremaining: 311ms\n",
            "58:\ttest: 0.8540902\tbest: 0.8541468 (50)\ttotal: 1.07s\tremaining: 292ms\n",
            "59:\ttest: 0.8541410\tbest: 0.8541468 (50)\ttotal: 1.09s\tremaining: 272ms\n",
            "60:\ttest: 0.8543301\tbest: 0.8543301 (60)\ttotal: 1.1s\tremaining: 253ms\n",
            "61:\ttest: 0.8543686\tbest: 0.8543686 (61)\ttotal: 1.12s\tremaining: 234ms\n",
            "62:\ttest: 0.8543649\tbest: 0.8543686 (61)\ttotal: 1.13s\tremaining: 216ms\n",
            "63:\ttest: 0.8543739\tbest: 0.8543739 (63)\ttotal: 1.14s\tremaining: 197ms\n",
            "64:\ttest: 0.8546295\tbest: 0.8546295 (64)\ttotal: 1.16s\tremaining: 178ms\n",
            "65:\ttest: 0.8547248\tbest: 0.8547248 (65)\ttotal: 1.17s\tremaining: 160ms\n",
            "66:\ttest: 0.8548141\tbest: 0.8548141 (66)\ttotal: 1.18s\tremaining: 141ms\n",
            "67:\ttest: 0.8549004\tbest: 0.8549004 (67)\ttotal: 1.2s\tremaining: 123ms\n",
            "68:\ttest: 0.8549651\tbest: 0.8549651 (68)\ttotal: 1.22s\tremaining: 106ms\n",
            "69:\ttest: 0.8549696\tbest: 0.8549696 (69)\ttotal: 1.24s\tremaining: 88.5ms\n",
            "70:\ttest: 0.8550540\tbest: 0.8550540 (70)\ttotal: 1.25s\tremaining: 70.3ms\n",
            "71:\ttest: 0.8551026\tbest: 0.8551026 (71)\ttotal: 1.26s\tremaining: 52.7ms\n",
            "72:\ttest: 0.8553220\tbest: 0.8553220 (72)\ttotal: 1.28s\tremaining: 35.1ms\n",
            "73:\ttest: 0.8550996\tbest: 0.8553220 (72)\ttotal: 1.3s\tremaining: 17.6ms\n",
            "74:\ttest: 0.8551654\tbest: 0.8553220 (72)\ttotal: 1.32s\tremaining: 0us\n",
            "\n",
            "bestTest = 0.8553219892\n",
            "bestIteration = 72\n",
            "\n",
            "Training on fold [3/5]\n",
            "0:\ttest: 0.7913446\tbest: 0.7913446 (0)\ttotal: 16.5ms\tremaining: 1.22s\n",
            "1:\ttest: 0.8371129\tbest: 0.8371129 (1)\ttotal: 32.8ms\tremaining: 1.2s\n",
            "2:\ttest: 0.8478050\tbest: 0.8478050 (2)\ttotal: 43.9ms\tremaining: 1.05s\n",
            "3:\ttest: 0.8564876\tbest: 0.8564876 (3)\ttotal: 56.6ms\tremaining: 1s\n",
            "4:\ttest: 0.8584020\tbest: 0.8584020 (4)\ttotal: 70.9ms\tremaining: 992ms\n",
            "5:\ttest: 0.8612712\tbest: 0.8612712 (5)\ttotal: 128ms\tremaining: 1.47s\n",
            "6:\ttest: 0.8592842\tbest: 0.8612712 (5)\ttotal: 147ms\tremaining: 1.43s\n",
            "7:\ttest: 0.8603676\tbest: 0.8612712 (5)\ttotal: 167ms\tremaining: 1.4s\n",
            "8:\ttest: 0.8655387\tbest: 0.8655387 (8)\ttotal: 191ms\tremaining: 1.4s\n",
            "9:\ttest: 0.8685117\tbest: 0.8685117 (9)\ttotal: 214ms\tremaining: 1.39s\n",
            "10:\ttest: 0.8680430\tbest: 0.8685117 (9)\ttotal: 228ms\tremaining: 1.33s\n",
            "11:\ttest: 0.8690984\tbest: 0.8690984 (11)\ttotal: 248ms\tremaining: 1.3s\n",
            "12:\ttest: 0.8704731\tbest: 0.8704731 (12)\ttotal: 272ms\tremaining: 1.3s\n",
            "13:\ttest: 0.8726121\tbest: 0.8726121 (13)\ttotal: 290ms\tremaining: 1.26s\n",
            "14:\ttest: 0.8730531\tbest: 0.8730531 (14)\ttotal: 307ms\tremaining: 1.23s\n",
            "15:\ttest: 0.8724010\tbest: 0.8730531 (14)\ttotal: 329ms\tremaining: 1.21s\n",
            "16:\ttest: 0.8725527\tbest: 0.8730531 (14)\ttotal: 344ms\tremaining: 1.17s\n",
            "17:\ttest: 0.8728625\tbest: 0.8730531 (14)\ttotal: 356ms\tremaining: 1.13s\n",
            "18:\ttest: 0.8732433\tbest: 0.8732433 (18)\ttotal: 377ms\tremaining: 1.11s\n",
            "19:\ttest: 0.8737125\tbest: 0.8737125 (19)\ttotal: 386ms\tremaining: 1.06s\n",
            "20:\ttest: 0.8739140\tbest: 0.8739140 (20)\ttotal: 398ms\tremaining: 1.02s\n",
            "21:\ttest: 0.8738004\tbest: 0.8739140 (20)\ttotal: 420ms\tremaining: 1.01s\n",
            "22:\ttest: 0.8742563\tbest: 0.8742563 (22)\ttotal: 440ms\tremaining: 994ms\n",
            "23:\ttest: 0.8740136\tbest: 0.8742563 (22)\ttotal: 462ms\tremaining: 981ms\n",
            "24:\ttest: 0.8739414\tbest: 0.8742563 (22)\ttotal: 487ms\tremaining: 974ms\n",
            "25:\ttest: 0.8742395\tbest: 0.8742563 (22)\ttotal: 504ms\tremaining: 949ms\n",
            "26:\ttest: 0.8743733\tbest: 0.8743733 (26)\ttotal: 519ms\tremaining: 922ms\n",
            "27:\ttest: 0.8747311\tbest: 0.8747311 (27)\ttotal: 526ms\tremaining: 884ms\n",
            "28:\ttest: 0.8752257\tbest: 0.8752257 (28)\ttotal: 540ms\tremaining: 856ms\n",
            "29:\ttest: 0.8750729\tbest: 0.8752257 (28)\ttotal: 551ms\tremaining: 827ms\n",
            "30:\ttest: 0.8751218\tbest: 0.8752257 (28)\ttotal: 564ms\tremaining: 800ms\n",
            "31:\ttest: 0.8756826\tbest: 0.8756826 (31)\ttotal: 577ms\tremaining: 775ms\n",
            "32:\ttest: 0.8761030\tbest: 0.8761030 (32)\ttotal: 590ms\tremaining: 751ms\n",
            "33:\ttest: 0.8758007\tbest: 0.8761030 (32)\ttotal: 602ms\tremaining: 727ms\n",
            "34:\ttest: 0.8759378\tbest: 0.8761030 (32)\ttotal: 618ms\tremaining: 706ms\n",
            "35:\ttest: 0.8765496\tbest: 0.8765496 (35)\ttotal: 633ms\tremaining: 686ms\n",
            "36:\ttest: 0.8763635\tbest: 0.8765496 (35)\ttotal: 648ms\tremaining: 665ms\n",
            "37:\ttest: 0.8765037\tbest: 0.8765496 (35)\ttotal: 652ms\tremaining: 635ms\n",
            "38:\ttest: 0.8771868\tbest: 0.8771868 (38)\ttotal: 666ms\tremaining: 615ms\n",
            "39:\ttest: 0.8774221\tbest: 0.8774221 (39)\ttotal: 680ms\tremaining: 595ms\n",
            "40:\ttest: 0.8777995\tbest: 0.8777995 (40)\ttotal: 695ms\tremaining: 577ms\n",
            "41:\ttest: 0.8777627\tbest: 0.8777995 (40)\ttotal: 709ms\tremaining: 557ms\n",
            "42:\ttest: 0.8778296\tbest: 0.8778296 (42)\ttotal: 716ms\tremaining: 533ms\n",
            "43:\ttest: 0.8782803\tbest: 0.8782803 (43)\ttotal: 726ms\tremaining: 511ms\n",
            "44:\ttest: 0.8787265\tbest: 0.8787265 (44)\ttotal: 740ms\tremaining: 493ms\n",
            "45:\ttest: 0.8790192\tbest: 0.8790192 (45)\ttotal: 753ms\tremaining: 475ms\n",
            "46:\ttest: 0.8790924\tbest: 0.8790924 (46)\ttotal: 766ms\tremaining: 456ms\n",
            "47:\ttest: 0.8792064\tbest: 0.8792064 (47)\ttotal: 779ms\tremaining: 438ms\n",
            "48:\ttest: 0.8793948\tbest: 0.8793948 (48)\ttotal: 793ms\tremaining: 421ms\n",
            "49:\ttest: 0.8794258\tbest: 0.8794258 (49)\ttotal: 807ms\tremaining: 403ms\n",
            "50:\ttest: 0.8791066\tbest: 0.8794258 (49)\ttotal: 820ms\tremaining: 386ms\n",
            "51:\ttest: 0.8788887\tbest: 0.8794258 (49)\ttotal: 833ms\tremaining: 368ms\n",
            "52:\ttest: 0.8788958\tbest: 0.8794258 (49)\ttotal: 841ms\tremaining: 349ms\n",
            "53:\ttest: 0.8791361\tbest: 0.8794258 (49)\ttotal: 855ms\tremaining: 333ms\n",
            "54:\ttest: 0.8795667\tbest: 0.8795667 (54)\ttotal: 876ms\tremaining: 319ms\n",
            "55:\ttest: 0.8797972\tbest: 0.8797972 (55)\ttotal: 893ms\tremaining: 303ms\n",
            "56:\ttest: 0.8800424\tbest: 0.8800424 (56)\ttotal: 908ms\tremaining: 287ms\n",
            "57:\ttest: 0.8802117\tbest: 0.8802117 (57)\ttotal: 921ms\tremaining: 270ms\n",
            "58:\ttest: 0.8804628\tbest: 0.8804628 (58)\ttotal: 937ms\tremaining: 254ms\n",
            "59:\ttest: 0.8806583\tbest: 0.8806583 (59)\ttotal: 952ms\tremaining: 238ms\n",
            "60:\ttest: 0.8806620\tbest: 0.8806620 (60)\ttotal: 964ms\tremaining: 221ms\n",
            "61:\ttest: 0.8809203\tbest: 0.8809203 (61)\ttotal: 982ms\tremaining: 206ms\n",
            "62:\ttest: 0.8808493\tbest: 0.8809203 (61)\ttotal: 996ms\tremaining: 190ms\n",
            "63:\ttest: 0.8809920\tbest: 0.8809920 (63)\ttotal: 1.01s\tremaining: 174ms\n",
            "64:\ttest: 0.8808702\tbest: 0.8809920 (63)\ttotal: 1.03s\tremaining: 159ms\n",
            "65:\ttest: 0.8810593\tbest: 0.8810593 (65)\ttotal: 1.05s\tremaining: 143ms\n",
            "66:\ttest: 0.8811327\tbest: 0.8811327 (66)\ttotal: 1.06s\tremaining: 127ms\n",
            "67:\ttest: 0.8812804\tbest: 0.8812804 (67)\ttotal: 1.07s\tremaining: 111ms\n",
            "68:\ttest: 0.8815618\tbest: 0.8815618 (68)\ttotal: 1.09s\tremaining: 94.7ms\n",
            "69:\ttest: 0.8817337\tbest: 0.8817337 (69)\ttotal: 1.1s\tremaining: 78.7ms\n",
            "70:\ttest: 0.8815928\tbest: 0.8817337 (69)\ttotal: 1.11s\tremaining: 62.9ms\n",
            "71:\ttest: 0.8818734\tbest: 0.8818734 (71)\ttotal: 1.13s\tremaining: 47ms\n",
            "72:\ttest: 0.8819693\tbest: 0.8819693 (72)\ttotal: 1.14s\tremaining: 31.3ms\n",
            "73:\ttest: 0.8820321\tbest: 0.8820321 (73)\ttotal: 1.16s\tremaining: 15.7ms\n",
            "74:\ttest: 0.8819768\tbest: 0.8820321 (73)\ttotal: 1.17s\tremaining: 0us\n",
            "\n",
            "bestTest = 0.882032092\n",
            "bestIteration = 73\n",
            "\n",
            "Training on fold [4/5]\n",
            "0:\ttest: 0.7784572\tbest: 0.7784572 (0)\ttotal: 11.3ms\tremaining: 836ms\n",
            "1:\ttest: 0.8175255\tbest: 0.8175255 (1)\ttotal: 22ms\tremaining: 804ms\n",
            "2:\ttest: 0.8352181\tbest: 0.8352181 (2)\ttotal: 34.3ms\tremaining: 822ms\n",
            "3:\ttest: 0.8455754\tbest: 0.8455754 (3)\ttotal: 49.3ms\tremaining: 876ms\n",
            "4:\ttest: 0.8436715\tbest: 0.8455754 (3)\ttotal: 61.5ms\tremaining: 862ms\n",
            "5:\ttest: 0.8471372\tbest: 0.8471372 (5)\ttotal: 73.4ms\tremaining: 845ms\n",
            "6:\ttest: 0.8499714\tbest: 0.8499714 (6)\ttotal: 81.3ms\tremaining: 790ms\n",
            "7:\ttest: 0.8549016\tbest: 0.8549016 (7)\ttotal: 94.1ms\tremaining: 788ms\n",
            "8:\ttest: 0.8557536\tbest: 0.8557536 (8)\ttotal: 106ms\tremaining: 774ms\n",
            "9:\ttest: 0.8558628\tbest: 0.8558628 (9)\ttotal: 118ms\tremaining: 768ms\n",
            "10:\ttest: 0.8558955\tbest: 0.8558955 (10)\ttotal: 132ms\tremaining: 769ms\n",
            "11:\ttest: 0.8565921\tbest: 0.8565921 (11)\ttotal: 147ms\tremaining: 769ms\n",
            "12:\ttest: 0.8564699\tbest: 0.8565921 (11)\ttotal: 162ms\tremaining: 772ms\n",
            "13:\ttest: 0.8572799\tbest: 0.8572799 (13)\ttotal: 175ms\tremaining: 763ms\n",
            "14:\ttest: 0.8576125\tbest: 0.8576125 (14)\ttotal: 182ms\tremaining: 729ms\n",
            "15:\ttest: 0.8567776\tbest: 0.8576125 (14)\ttotal: 193ms\tremaining: 710ms\n",
            "16:\ttest: 0.8570983\tbest: 0.8576125 (14)\ttotal: 205ms\tremaining: 699ms\n",
            "17:\ttest: 0.8572115\tbest: 0.8576125 (14)\ttotal: 218ms\tremaining: 689ms\n",
            "18:\ttest: 0.8570456\tbest: 0.8576125 (14)\ttotal: 231ms\tremaining: 680ms\n",
            "19:\ttest: 0.8574836\tbest: 0.8576125 (14)\ttotal: 248ms\tremaining: 681ms\n",
            "20:\ttest: 0.8575615\tbest: 0.8576125 (14)\ttotal: 274ms\tremaining: 704ms\n",
            "21:\ttest: 0.8581398\tbest: 0.8581398 (21)\ttotal: 294ms\tremaining: 709ms\n",
            "22:\ttest: 0.8582785\tbest: 0.8582785 (22)\ttotal: 308ms\tremaining: 697ms\n",
            "23:\ttest: 0.8591855\tbest: 0.8591855 (23)\ttotal: 320ms\tremaining: 681ms\n",
            "24:\ttest: 0.8592199\tbest: 0.8592199 (24)\ttotal: 333ms\tremaining: 666ms\n",
            "25:\ttest: 0.8589798\tbest: 0.8592199 (24)\ttotal: 347ms\tremaining: 654ms\n",
            "26:\ttest: 0.8587638\tbest: 0.8592199 (24)\ttotal: 364ms\tremaining: 647ms\n",
            "27:\ttest: 0.8594979\tbest: 0.8594979 (27)\ttotal: 379ms\tremaining: 636ms\n",
            "28:\ttest: 0.8595383\tbest: 0.8595383 (28)\ttotal: 392ms\tremaining: 621ms\n",
            "29:\ttest: 0.8589998\tbest: 0.8595383 (28)\ttotal: 405ms\tremaining: 607ms\n",
            "30:\ttest: 0.8594058\tbest: 0.8595383 (28)\ttotal: 417ms\tremaining: 592ms\n",
            "31:\ttest: 0.8597575\tbest: 0.8597575 (31)\ttotal: 430ms\tremaining: 577ms\n",
            "32:\ttest: 0.8597266\tbest: 0.8597575 (31)\ttotal: 443ms\tremaining: 564ms\n",
            "33:\ttest: 0.8597323\tbest: 0.8597575 (31)\ttotal: 460ms\tremaining: 555ms\n",
            "34:\ttest: 0.8597397\tbest: 0.8597575 (31)\ttotal: 476ms\tremaining: 544ms\n",
            "35:\ttest: 0.8603108\tbest: 0.8603108 (35)\ttotal: 490ms\tremaining: 530ms\n",
            "36:\ttest: 0.8607207\tbest: 0.8607207 (36)\ttotal: 502ms\tremaining: 516ms\n",
            "37:\ttest: 0.8606501\tbest: 0.8607207 (36)\ttotal: 515ms\tremaining: 501ms\n",
            "38:\ttest: 0.8611606\tbest: 0.8611606 (38)\ttotal: 527ms\tremaining: 487ms\n",
            "39:\ttest: 0.8610448\tbest: 0.8611606 (38)\ttotal: 540ms\tremaining: 473ms\n",
            "40:\ttest: 0.8613847\tbest: 0.8613847 (40)\ttotal: 554ms\tremaining: 460ms\n",
            "41:\ttest: 0.8614897\tbest: 0.8614897 (41)\ttotal: 568ms\tremaining: 447ms\n",
            "42:\ttest: 0.8613480\tbest: 0.8614897 (41)\ttotal: 583ms\tremaining: 434ms\n",
            "43:\ttest: 0.8614142\tbest: 0.8614897 (41)\ttotal: 595ms\tremaining: 419ms\n",
            "44:\ttest: 0.8613293\tbest: 0.8614897 (41)\ttotal: 608ms\tremaining: 405ms\n",
            "45:\ttest: 0.8614960\tbest: 0.8614960 (45)\ttotal: 621ms\tremaining: 392ms\n",
            "46:\ttest: 0.8616978\tbest: 0.8616978 (46)\ttotal: 634ms\tremaining: 378ms\n",
            "47:\ttest: 0.8615872\tbest: 0.8616978 (46)\ttotal: 643ms\tremaining: 362ms\n",
            "48:\ttest: 0.8618918\tbest: 0.8618918 (48)\ttotal: 656ms\tremaining: 348ms\n",
            "49:\ttest: 0.8624541\tbest: 0.8624541 (49)\ttotal: 669ms\tremaining: 334ms\n",
            "50:\ttest: 0.8624548\tbest: 0.8624548 (50)\ttotal: 679ms\tremaining: 319ms\n",
            "51:\ttest: 0.8626110\tbest: 0.8626110 (51)\ttotal: 692ms\tremaining: 306ms\n",
            "52:\ttest: 0.8625636\tbest: 0.8626110 (51)\ttotal: 698ms\tremaining: 290ms\n",
            "53:\ttest: 0.8626290\tbest: 0.8626290 (53)\ttotal: 713ms\tremaining: 277ms\n",
            "54:\ttest: 0.8630044\tbest: 0.8630044 (54)\ttotal: 722ms\tremaining: 263ms\n",
            "55:\ttest: 0.8632544\tbest: 0.8632544 (55)\ttotal: 738ms\tremaining: 250ms\n",
            "56:\ttest: 0.8634719\tbest: 0.8634719 (56)\ttotal: 754ms\tremaining: 238ms\n",
            "57:\ttest: 0.8632435\tbest: 0.8634719 (56)\ttotal: 770ms\tremaining: 226ms\n",
            "58:\ttest: 0.8633500\tbest: 0.8634719 (56)\ttotal: 788ms\tremaining: 214ms\n",
            "59:\ttest: 0.8633938\tbest: 0.8634719 (56)\ttotal: 802ms\tremaining: 201ms\n",
            "60:\ttest: 0.8633669\tbest: 0.8634719 (56)\ttotal: 816ms\tremaining: 187ms\n",
            "61:\ttest: 0.8635939\tbest: 0.8635939 (61)\ttotal: 831ms\tremaining: 174ms\n",
            "62:\ttest: 0.8632568\tbest: 0.8635939 (61)\ttotal: 848ms\tremaining: 162ms\n",
            "63:\ttest: 0.8633106\tbest: 0.8635939 (61)\ttotal: 869ms\tremaining: 149ms\n",
            "64:\ttest: 0.8632609\tbest: 0.8635939 (61)\ttotal: 886ms\tremaining: 136ms\n",
            "65:\ttest: 0.8633723\tbest: 0.8635939 (61)\ttotal: 899ms\tremaining: 123ms\n",
            "66:\ttest: 0.8634336\tbest: 0.8635939 (61)\ttotal: 911ms\tremaining: 109ms\n",
            "67:\ttest: 0.8633372\tbest: 0.8635939 (61)\ttotal: 924ms\tremaining: 95.1ms\n",
            "68:\ttest: 0.8633188\tbest: 0.8635939 (61)\ttotal: 937ms\tremaining: 81.5ms\n",
            "69:\ttest: 0.8635390\tbest: 0.8635939 (61)\ttotal: 951ms\tremaining: 67.9ms\n",
            "70:\ttest: 0.8635969\tbest: 0.8635969 (70)\ttotal: 965ms\tremaining: 54.4ms\n",
            "71:\ttest: 0.8637038\tbest: 0.8637038 (71)\ttotal: 983ms\tremaining: 40.9ms\n",
            "72:\ttest: 0.8636944\tbest: 0.8637038 (71)\ttotal: 996ms\tremaining: 27.3ms\n",
            "73:\ttest: 0.8638458\tbest: 0.8638458 (73)\ttotal: 1.01s\tremaining: 13.6ms\n",
            "74:\ttest: 0.8639575\tbest: 0.8639575 (74)\ttotal: 1.02s\tremaining: 0us\n",
            "\n",
            "bestTest = 0.8639575245\n",
            "bestIteration = 74\n",
            "\n",
            "0:\ttotal: 14.6ms\tremaining: 1.08s\n",
            "1:\ttotal: 27.2ms\tremaining: 992ms\n",
            "2:\ttotal: 39.9ms\tremaining: 958ms\n",
            "3:\ttotal: 52.3ms\tremaining: 928ms\n",
            "4:\ttotal: 64.9ms\tremaining: 909ms\n",
            "5:\ttotal: 78.3ms\tremaining: 900ms\n",
            "6:\ttotal: 84.3ms\tremaining: 819ms\n",
            "7:\ttotal: 99.3ms\tremaining: 831ms\n",
            "8:\ttotal: 113ms\tremaining: 826ms\n",
            "9:\ttotal: 178ms\tremaining: 1.16s\n",
            "10:\ttotal: 192ms\tremaining: 1.12s\n",
            "11:\ttotal: 211ms\tremaining: 1.11s\n",
            "12:\ttotal: 221ms\tremaining: 1.05s\n",
            "13:\ttotal: 235ms\tremaining: 1.02s\n",
            "14:\ttotal: 243ms\tremaining: 972ms\n",
            "15:\ttotal: 255ms\tremaining: 940ms\n",
            "16:\ttotal: 267ms\tremaining: 911ms\n",
            "17:\ttotal: 278ms\tremaining: 881ms\n",
            "18:\ttotal: 291ms\tremaining: 857ms\n",
            "19:\ttotal: 298ms\tremaining: 820ms\n",
            "20:\ttotal: 313ms\tremaining: 804ms\n",
            "21:\ttotal: 326ms\tremaining: 785ms\n",
            "22:\ttotal: 344ms\tremaining: 778ms\n",
            "23:\ttotal: 359ms\tremaining: 763ms\n",
            "24:\ttotal: 372ms\tremaining: 744ms\n",
            "25:\ttotal: 384ms\tremaining: 724ms\n",
            "26:\ttotal: 397ms\tremaining: 705ms\n",
            "27:\ttotal: 412ms\tremaining: 692ms\n",
            "28:\ttotal: 425ms\tremaining: 674ms\n",
            "29:\ttotal: 438ms\tremaining: 657ms\n",
            "30:\ttotal: 447ms\tremaining: 635ms\n",
            "31:\ttotal: 462ms\tremaining: 621ms\n",
            "32:\ttotal: 475ms\tremaining: 605ms\n",
            "33:\ttotal: 488ms\tremaining: 589ms\n",
            "34:\ttotal: 500ms\tremaining: 572ms\n",
            "35:\ttotal: 513ms\tremaining: 556ms\n",
            "36:\ttotal: 531ms\tremaining: 545ms\n",
            "37:\ttotal: 546ms\tremaining: 532ms\n",
            "38:\ttotal: 565ms\tremaining: 521ms\n",
            "39:\ttotal: 631ms\tremaining: 552ms\n",
            "40:\ttotal: 635ms\tremaining: 527ms\n",
            "41:\ttotal: 647ms\tremaining: 509ms\n",
            "42:\ttotal: 661ms\tremaining: 492ms\n",
            "43:\ttotal: 675ms\tremaining: 475ms\n",
            "44:\ttotal: 688ms\tremaining: 459ms\n",
            "45:\ttotal: 700ms\tremaining: 441ms\n",
            "46:\ttotal: 707ms\tremaining: 421ms\n",
            "47:\ttotal: 720ms\tremaining: 405ms\n",
            "48:\ttotal: 734ms\tremaining: 389ms\n",
            "49:\ttotal: 748ms\tremaining: 374ms\n",
            "50:\ttotal: 762ms\tremaining: 359ms\n",
            "51:\ttotal: 777ms\tremaining: 343ms\n",
            "52:\ttotal: 790ms\tremaining: 328ms\n",
            "53:\ttotal: 803ms\tremaining: 312ms\n",
            "54:\ttotal: 816ms\tremaining: 297ms\n",
            "55:\ttotal: 829ms\tremaining: 281ms\n",
            "56:\ttotal: 843ms\tremaining: 266ms\n",
            "57:\ttotal: 847ms\tremaining: 248ms\n",
            "58:\ttotal: 860ms\tremaining: 233ms\n",
            "59:\ttotal: 873ms\tremaining: 218ms\n",
            "60:\ttotal: 886ms\tremaining: 203ms\n",
            "61:\ttotal: 900ms\tremaining: 189ms\n",
            "62:\ttotal: 912ms\tremaining: 174ms\n",
            "63:\ttotal: 925ms\tremaining: 159ms\n",
            "64:\ttotal: 940ms\tremaining: 145ms\n",
            "65:\ttotal: 956ms\tremaining: 130ms\n",
            "66:\ttotal: 964ms\tremaining: 115ms\n",
            "67:\ttotal: 977ms\tremaining: 101ms\n",
            "68:\ttotal: 990ms\tremaining: 86.1ms\n",
            "69:\ttotal: 1s\tremaining: 71.6ms\n",
            "70:\ttotal: 1.01s\tremaining: 57.2ms\n",
            "71:\ttotal: 1.03s\tremaining: 42.8ms\n",
            "72:\ttotal: 1.04s\tremaining: 28.5ms\n",
            "73:\ttotal: 1.05s\tremaining: 14.3ms\n",
            "74:\ttotal: 1.07s\tremaining: 0us\n",
            "Error rate of CatBoost classifier: 0.1007\n"
          ]
        }
      ],
      "source": [
        "from catboost import CatBoostClassifier, Pool, cv\n",
        "from sklearn.metrics import accuracy_score\n",
        "\n",
        "# Combine features and labels into one dataset\n",
        "X_train_combined = pd.concat([pd.DataFrame(X_Train), pd.DataFrame(X_Val)])\n",
        "y_train_combined = pd.concat([pd.Series(y_Train), pd.Series(y_val)])\n",
        "\n",
        "# Create a CatBoost Pool for the combined dataset\n",
        "full_train_pool = Pool(data=X_train_combined, label=y_train_combined)\n",
        "catboost_params = {\n",
        "    'loss_function': 'Logloss',\n",
        "    'eval_metric': 'AUC',\n",
        "    'learning_rate': 0.041,\n",
        "    'iterations':75,\n",
        "    'random_seed': 42,\n",
        "    'depth': 10,\n",
        "    'border_count': 32,\n",
        "    'od_type': 'Iter',\n",
        "    'early_stopping_rounds': 700,\n",
        "    'task_type': 'CPU',\n",
        "    'logging_level': 'Verbose',\n",
        "    'min_child_samples': 10, \n",
        "    'l2_leaf_reg': 5,                # Regularization term\n",
        "    'bagging_temperature': 15,   \n",
        "}\n",
        "\n",
        "# Perform k-fold cross-validation\n",
        "cv_results = cv(full_train_pool, catboost_params, fold_count=5, plot=True)\n",
        "\n",
        "# Get the best iteration based on AUC\n",
        "best_iteration = cv_results['test-AUC-mean'].idxmax()\n",
        "\n",
        "# Train the final model with the best iteration\n",
        "final_model = CatBoostClassifier( **catboost_params)\n",
        "final_model.fit(full_train_pool)\n",
        "\n",
        "# Make predictions on the validation set\n",
        "y_pred = final_model.predict(X_Val)\n",
        "\n",
        "# Convert predictions to binary (0 or 1)\n",
        "y_pred_binary = (y_pred > 0.5).astype(int)\n",
        "\n",
        "# Calculate the error rate\n",
        "error_rate = 1 - accuracy_score(y_val, y_pred_binary)\n",
        "print(f'Error rate of CatBoost classifier: {error_rate:.4f}')\n",
        "  \n",
        "  "
      ]
    },
    {
      "cell_type": "code",
      "execution_count": 501,
      "metadata": {
        "id": "bvkSRJNUqMCq"
      },
      "outputs": [],
      "source": [
        "# Get the predicted result for the test Data\n",
        "test.bank_account = model.predict(processed_test)"
      ]
    },
    {
      "cell_type": "markdown",
      "metadata": {
        "id": "VmzWR6qnqQlG"
      },
      "source": [
        "\n",
        "Then we create a submission file according to the instruction provided in the SubmissionFile.csv.\n"
      ]
    },
    {
      "cell_type": "code",
      "execution_count": 502,
      "metadata": {
        "id": "ELYl_OMUqRhR"
      },
      "outputs": [],
      "source": [
        "# Create submission DataFrame\n",
        "submission = pd.DataFrame({\"uniqueid\": test[\"uniqueid\"] + \" x \" + test[\"country\"],\n",
        "                           \"bank_account\": test.bank_account})"
      ]
    },
    {
      "cell_type": "markdown",
      "metadata": {
        "id": "KWsK-dHOqcIB"
      },
      "source": [
        "Let’s observe the sample results from our submission DataFrame.\n"
      ]
    },
    {
      "cell_type": "code",
      "execution_count": 503,
      "metadata": {
        "colab": {
          "base_uri": "https://localhost:8080/",
          "height": 206
        },
        "id": "VHhKw7ceqdD2",
        "outputId": "90eb4eab-a985-485a-98df-5f8aa8a19851"
      },
      "outputs": [
        {
          "data": {
            "text/html": [
              "<div>\n",
              "<style scoped>\n",
              "    .dataframe tbody tr th:only-of-type {\n",
              "        vertical-align: middle;\n",
              "    }\n",
              "\n",
              "    .dataframe tbody tr th {\n",
              "        vertical-align: top;\n",
              "    }\n",
              "\n",
              "    .dataframe thead th {\n",
              "        text-align: right;\n",
              "    }\n",
              "</style>\n",
              "<table border=\"1\" class=\"dataframe\">\n",
              "  <thead>\n",
              "    <tr style=\"text-align: right;\">\n",
              "      <th></th>\n",
              "      <th>uniqueid</th>\n",
              "      <th>bank_account</th>\n",
              "    </tr>\n",
              "  </thead>\n",
              "  <tbody>\n",
              "    <tr>\n",
              "      <th>534</th>\n",
              "      <td>uniqueid_6603 x Kenya</td>\n",
              "      <td>0</td>\n",
              "    </tr>\n",
              "    <tr>\n",
              "      <th>6655</th>\n",
              "      <td>uniqueid_6930 x Tanzania</td>\n",
              "      <td>0</td>\n",
              "    </tr>\n",
              "    <tr>\n",
              "      <th>483</th>\n",
              "      <td>uniqueid_6552 x Kenya</td>\n",
              "      <td>0</td>\n",
              "    </tr>\n",
              "    <tr>\n",
              "      <th>6292</th>\n",
              "      <td>uniqueid_12427 x Rwanda</td>\n",
              "      <td>0</td>\n",
              "    </tr>\n",
              "    <tr>\n",
              "      <th>4516</th>\n",
              "      <td>uniqueid_10651 x Rwanda</td>\n",
              "      <td>0</td>\n",
              "    </tr>\n",
              "  </tbody>\n",
              "</table>\n",
              "</div>"
            ],
            "text/plain": [
              "                      uniqueid  bank_account\n",
              "534      uniqueid_6603 x Kenya             0\n",
              "6655  uniqueid_6930 x Tanzania             0\n",
              "483      uniqueid_6552 x Kenya             0\n",
              "6292   uniqueid_12427 x Rwanda             0\n",
              "4516   uniqueid_10651 x Rwanda             0"
            ]
          },
          "execution_count": 503,
          "metadata": {},
          "output_type": "execute_result"
        }
      ],
      "source": [
        "#show the five sample\n",
        "submission.sample(5)"
      ]
    },
    {
      "cell_type": "markdown",
      "metadata": {
        "id": "CcOeN6Nkqkkw"
      },
      "source": [
        "Save results in the CSV file.\n"
      ]
    },
    {
      "cell_type": "code",
      "execution_count": 500,
      "metadata": {
        "colab": {
          "base_uri": "https://localhost:8080/",
          "height": 17
        },
        "id": "FzEYLNpDqjL-",
        "outputId": "1d37b510-2845-4ada-82d4-aeff7c8b1973"
      },
      "outputs": [],
      "source": [
        "# Create submission csv file csv file\n",
        "submission.to_csv('first_submission.csv', index = False)\n"
      ]
    },
    {
      "cell_type": "markdown",
      "metadata": {
        "id": "NRs4uapdqsQu"
      },
      "source": [
        "We named our submission file a **first_submission.csv**. Now we can upload it to the Zindi competition page by clicking the submit button and selecting the file to upload., You also have an option to add comments for each submission."
      ]
    },
    {
      "cell_type": "markdown",
      "metadata": {
        "id": "ttQqWBi722zE"
      },
      "source": [
        "###More Tips\n",
        "- Thorough EDA and domain knowledge sourcing\n",
        "- Re-group Categorical features \n",
        "- More Feature Engineering \n",
        "- Dataset balancing - oversampling, undersampling, SMOTE...\n",
        "- Ensembling of models \n",
        "- Cross-validation: Group folds, Stratified..."
      ]
    },
    {
      "cell_type": "markdown",
      "metadata": {
        "id": "uXftXbo622zF"
      },
      "source": [
        "# ******************* GOOD LUCK!!! ***************************"
      ]
    }
  ],
  "metadata": {
    "colab": {
      "collapsed_sections": [],
      "name": "StarterNotebook.ipynb",
      "provenance": [],
      "toc_visible": true
    },
    "kernelspec": {
      "display_name": "Python 3",
      "language": "python",
      "name": "python3"
    },
    "language_info": {
      "codemirror_mode": {
        "name": "ipython",
        "version": 3
      },
      "file_extension": ".py",
      "mimetype": "text/x-python",
      "name": "python",
      "nbconvert_exporter": "python",
      "pygments_lexer": "ipython3",
      "version": "3.7.3"
    }
  },
  "nbformat": 4,
  "nbformat_minor": 0
}
