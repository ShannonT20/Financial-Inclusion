{
  "cells": [
    {
      "cell_type": "markdown",
      "metadata": {
        "id": "48S6RVt_jXwp"
      },
      "source": [
        "# Financial Inclusion in Africa Starter Notebook\n",
        "\n",
        "\n",
        "This is a simple starter notebook to get started with the Financial Inclusion Competition on Zindi.\n",
        "\n",
        "This notebook covers:\n",
        "- Loading the data\n",
        "- Simple EDA and an example of feature enginnering\n",
        "- Data preprocessing and data wrangling\n",
        "- Creating a simple model\n",
        "- Making a submission\n",
        "- Some tips for improving your score"
      ]
    },
    {
      "cell_type": "markdown",
      "metadata": {
        "id": "HdPjBTFdkI7t"
      },
      "source": [
        "### Importing libraries"
      ]
    },
    {
      "cell_type": "code",
      "execution_count": 177,
      "metadata": {
        "id": "8IWFJK2h22yc"
      },
      "outputs": [],
      "source": [
        "# dataframe and plotting\n",
        "import pandas as pd\n",
        "import numpy as np\n",
        "import seaborn as sns\n",
        "import matplotlib.pyplot as plt\n",
        "\n",
        "# machine learning\n",
        "from lightgbm import LGBMClassifier\n",
        "from sklearn.model_selection import train_test_split\n",
        "from sklearn.metrics import accuracy_score\n",
        "\n",
        "\n",
        "import warnings\n",
        "warnings.filterwarnings('ignore')"
      ]
    },
    {
      "cell_type": "markdown",
      "metadata": {
        "id": "9SyQadB9iY8R"
      },
      "source": [
        "### 1. Load the dataset"
      ]
    },
    {
      "cell_type": "code",
      "execution_count": 178,
      "metadata": {
        "id": "MQCvC_XjDzyH"
      },
      "outputs": [],
      "source": [
        "# Load files into a pandas dataframe\n",
        "train = pd.read_csv('Train.csv')\n",
        "test = pd.read_csv('Test.csv')\n",
        "ss = pd.read_csv('SampleSubmission.csv')\n",
        "variables = pd.read_csv('VariableDefinitions.csv')"
      ]
    },
    {
      "cell_type": "code",
      "execution_count": 179,
      "metadata": {
        "colab": {
          "base_uri": "https://localhost:8080/"
        },
        "id": "O6xUUoJMaRrc",
        "outputId": "37fa6d78-0297-4468-85e2-68e658ab6d7b"
      },
      "outputs": [
        {
          "name": "stdout",
          "output_type": "stream",
          "text": [
            "train data shape : (23524, 13)\n",
            "test data shape : (10086, 12)\n"
          ]
        }
      ],
      "source": [
        "# Let’s observe the shape of our datasets.\n",
        "print('train data shape :', train.shape)\n",
        "print('test data shape :', test.shape)"
      ]
    },
    {
      "cell_type": "markdown",
      "metadata": {
        "id": "22JNEkmQbMvR"
      },
      "source": [
        "The above output shows the number of rows and columns for train and test dataset. We have 13 variables in the train dataset, 12 independent variables and 1 dependent variable. In the test dataset, we have 12 independent variables.\n",
        "\n",
        "We can observe the first five rows from our data set by using the head() method from the pandas library."
      ]
    },
    {
      "cell_type": "code",
      "execution_count": 180,
      "metadata": {
        "colab": {
          "base_uri": "https://localhost:8080/",
          "height": 330
        },
        "id": "0p3FUgRYasI-",
        "outputId": "74d606e0-a4d3-47a7-c1f2-249bff16639e"
      },
      "outputs": [
        {
          "data": {
            "text/html": [
              "<div>\n",
              "<style scoped>\n",
              "    .dataframe tbody tr th:only-of-type {\n",
              "        vertical-align: middle;\n",
              "    }\n",
              "\n",
              "    .dataframe tbody tr th {\n",
              "        vertical-align: top;\n",
              "    }\n",
              "\n",
              "    .dataframe thead th {\n",
              "        text-align: right;\n",
              "    }\n",
              "</style>\n",
              "<table border=\"1\" class=\"dataframe\">\n",
              "  <thead>\n",
              "    <tr style=\"text-align: right;\">\n",
              "      <th></th>\n",
              "      <th>country</th>\n",
              "      <th>year</th>\n",
              "      <th>uniqueid</th>\n",
              "      <th>bank_account</th>\n",
              "      <th>location_type</th>\n",
              "      <th>cellphone_access</th>\n",
              "      <th>household_size</th>\n",
              "      <th>age_of_respondent</th>\n",
              "      <th>gender_of_respondent</th>\n",
              "      <th>relationship_with_head</th>\n",
              "      <th>marital_status</th>\n",
              "      <th>education_level</th>\n",
              "      <th>job_type</th>\n",
              "    </tr>\n",
              "  </thead>\n",
              "  <tbody>\n",
              "    <tr>\n",
              "      <th>0</th>\n",
              "      <td>Kenya</td>\n",
              "      <td>2018</td>\n",
              "      <td>uniqueid_1</td>\n",
              "      <td>Yes</td>\n",
              "      <td>Rural</td>\n",
              "      <td>Yes</td>\n",
              "      <td>3</td>\n",
              "      <td>24</td>\n",
              "      <td>Female</td>\n",
              "      <td>Spouse</td>\n",
              "      <td>Married/Living together</td>\n",
              "      <td>Secondary education</td>\n",
              "      <td>Self employed</td>\n",
              "    </tr>\n",
              "    <tr>\n",
              "      <th>1</th>\n",
              "      <td>Kenya</td>\n",
              "      <td>2018</td>\n",
              "      <td>uniqueid_2</td>\n",
              "      <td>No</td>\n",
              "      <td>Rural</td>\n",
              "      <td>No</td>\n",
              "      <td>5</td>\n",
              "      <td>70</td>\n",
              "      <td>Female</td>\n",
              "      <td>Head of Household</td>\n",
              "      <td>Widowed</td>\n",
              "      <td>No formal education</td>\n",
              "      <td>Government Dependent</td>\n",
              "    </tr>\n",
              "    <tr>\n",
              "      <th>2</th>\n",
              "      <td>Kenya</td>\n",
              "      <td>2018</td>\n",
              "      <td>uniqueid_3</td>\n",
              "      <td>Yes</td>\n",
              "      <td>Urban</td>\n",
              "      <td>Yes</td>\n",
              "      <td>5</td>\n",
              "      <td>26</td>\n",
              "      <td>Male</td>\n",
              "      <td>Other relative</td>\n",
              "      <td>Single/Never Married</td>\n",
              "      <td>Vocational/Specialised training</td>\n",
              "      <td>Self employed</td>\n",
              "    </tr>\n",
              "    <tr>\n",
              "      <th>3</th>\n",
              "      <td>Kenya</td>\n",
              "      <td>2018</td>\n",
              "      <td>uniqueid_4</td>\n",
              "      <td>No</td>\n",
              "      <td>Rural</td>\n",
              "      <td>Yes</td>\n",
              "      <td>5</td>\n",
              "      <td>34</td>\n",
              "      <td>Female</td>\n",
              "      <td>Head of Household</td>\n",
              "      <td>Married/Living together</td>\n",
              "      <td>Primary education</td>\n",
              "      <td>Formally employed Private</td>\n",
              "    </tr>\n",
              "    <tr>\n",
              "      <th>4</th>\n",
              "      <td>Kenya</td>\n",
              "      <td>2018</td>\n",
              "      <td>uniqueid_5</td>\n",
              "      <td>No</td>\n",
              "      <td>Urban</td>\n",
              "      <td>No</td>\n",
              "      <td>8</td>\n",
              "      <td>26</td>\n",
              "      <td>Male</td>\n",
              "      <td>Child</td>\n",
              "      <td>Single/Never Married</td>\n",
              "      <td>Primary education</td>\n",
              "      <td>Informally employed</td>\n",
              "    </tr>\n",
              "  </tbody>\n",
              "</table>\n",
              "</div>"
            ],
            "text/plain": [
              "  country  year    uniqueid bank_account location_type cellphone_access  \\\n",
              "0   Kenya  2018  uniqueid_1          Yes         Rural              Yes   \n",
              "1   Kenya  2018  uniqueid_2           No         Rural               No   \n",
              "2   Kenya  2018  uniqueid_3          Yes         Urban              Yes   \n",
              "3   Kenya  2018  uniqueid_4           No         Rural              Yes   \n",
              "4   Kenya  2018  uniqueid_5           No         Urban               No   \n",
              "\n",
              "   household_size  age_of_respondent gender_of_respondent  \\\n",
              "0               3                 24               Female   \n",
              "1               5                 70               Female   \n",
              "2               5                 26                 Male   \n",
              "3               5                 34               Female   \n",
              "4               8                 26                 Male   \n",
              "\n",
              "  relationship_with_head           marital_status  \\\n",
              "0                 Spouse  Married/Living together   \n",
              "1      Head of Household                  Widowed   \n",
              "2         Other relative     Single/Never Married   \n",
              "3      Head of Household  Married/Living together   \n",
              "4                  Child     Single/Never Married   \n",
              "\n",
              "                   education_level                   job_type  \n",
              "0              Secondary education              Self employed  \n",
              "1              No formal education       Government Dependent  \n",
              "2  Vocational/Specialised training              Self employed  \n",
              "3                Primary education  Formally employed Private  \n",
              "4                Primary education        Informally employed  "
            ]
          },
          "execution_count": 180,
          "metadata": {},
          "output_type": "execute_result"
        }
      ],
      "source": [
        "# inspect train data\n",
        "train.head()"
      ]
    },
    {
      "cell_type": "code",
      "execution_count": 181,
      "metadata": {
        "colab": {
          "base_uri": "https://localhost:8080/"
        },
        "id": "R1T_QbjNj0Dq",
        "outputId": "4f65aae1-c7d4-4546-ce33-15d40dd45585"
      },
      "outputs": [
        {
          "name": "stdout",
          "output_type": "stream",
          "text": [
            "missing values: country                   0\n",
            "year                      0\n",
            "uniqueid                  0\n",
            "bank_account              0\n",
            "location_type             0\n",
            "cellphone_access          0\n",
            "household_size            0\n",
            "age_of_respondent         0\n",
            "gender_of_respondent      0\n",
            "relationship_with_head    0\n",
            "marital_status            0\n",
            "education_level           0\n",
            "job_type                  0\n",
            "dtype: int64\n"
          ]
        }
      ],
      "source": [
        "# Check for missing values\n",
        "print('missing values:', train.isnull().sum())"
      ]
    },
    {
      "cell_type": "markdown",
      "metadata": {
        "id": "ID5N0vHTj3-F"
      },
      "source": [
        "We don't have missing data in our dataset.\n",
        "\n"
      ]
    },
    {
      "cell_type": "markdown",
      "metadata": {
        "id": "MCP0H7tSicUU"
      },
      "source": [
        "### 2. Understand the dataset\n",
        "We can get more information about the features presented by using the info() method from pandas.\n"
      ]
    },
    {
      "cell_type": "code",
      "execution_count": 182,
      "metadata": {
        "colab": {
          "base_uri": "https://localhost:8080/"
        },
        "id": "1otwZnE8bGns",
        "outputId": "d1761519-086f-4ffc-9f2e-e968611fe91c"
      },
      "outputs": [
        {
          "name": "stdout",
          "output_type": "stream",
          "text": [
            "<class 'pandas.core.frame.DataFrame'>\n",
            "RangeIndex: 23524 entries, 0 to 23523\n",
            "Data columns (total 13 columns):\n",
            " #   Column                  Non-Null Count  Dtype \n",
            "---  ------                  --------------  ----- \n",
            " 0   country                 23524 non-null  object\n",
            " 1   year                    23524 non-null  int64 \n",
            " 2   uniqueid                23524 non-null  object\n",
            " 3   bank_account            23524 non-null  object\n",
            " 4   location_type           23524 non-null  object\n",
            " 5   cellphone_access        23524 non-null  object\n",
            " 6   household_size          23524 non-null  int64 \n",
            " 7   age_of_respondent       23524 non-null  int64 \n",
            " 8   gender_of_respondent    23524 non-null  object\n",
            " 9   relationship_with_head  23524 non-null  object\n",
            " 10  marital_status          23524 non-null  object\n",
            " 11  education_level         23524 non-null  object\n",
            " 12  job_type                23524 non-null  object\n",
            "dtypes: int64(3), object(10)\n",
            "memory usage: 2.3+ MB\n",
            "None\n"
          ]
        }
      ],
      "source": [
        " #show some information about the dataset\n",
        " print(train.info())"
      ]
    },
    {
      "cell_type": "markdown",
      "metadata": {
        "id": "8UOB8QG_bi_B"
      },
      "source": [
        "The output shows the list of variables/features, sizes, if it contains missing values and data type for each variable. From the dataset, we don’t have any missing values and we have 3 features of integer data type and 10 features of the object data type.\n",
        "\n",
        "If you want to learn how to handle missing data in your dataset, we recommend you read How to [Handle Missing Data with Python](https://machinelearningmastery.com/handle-missing-data-python/) by Jason Brownlee.\n",
        "\n",
        "We won’t go further on understanding the dataset because Davis has already published an article about exploratory data analysis (EDA) with the financial Inclusion in Africa dataset. You can read and download the notebook for EDA in the link below.\n",
        "\n",
        "[Why you need to explore your data and how you can start](https://https://medium.com/analytics-vidhya/why-you-need-to-explore-your-data-how-you-can-start-13de6f29c8c1)"
      ]
    },
    {
      "cell_type": "code",
      "execution_count": 183,
      "metadata": {
        "colab": {
          "base_uri": "https://localhost:8080/",
          "height": 426
        },
        "id": "8D-b3rTKAbmq",
        "outputId": "67891a87-702a-419a-8fd5-0f74fed96c36"
      },
      "outputs": [
        {
          "data": {
            "text/html": [
              "<div>\n",
              "<style scoped>\n",
              "    .dataframe tbody tr th:only-of-type {\n",
              "        vertical-align: middle;\n",
              "    }\n",
              "\n",
              "    .dataframe tbody tr th {\n",
              "        vertical-align: top;\n",
              "    }\n",
              "\n",
              "    .dataframe thead th {\n",
              "        text-align: right;\n",
              "    }\n",
              "</style>\n",
              "<table border=\"1\" class=\"dataframe\">\n",
              "  <thead>\n",
              "    <tr style=\"text-align: right;\">\n",
              "      <th></th>\n",
              "      <th>Variable Definitions</th>\n",
              "      <th>Unnamed: 1</th>\n",
              "    </tr>\n",
              "  </thead>\n",
              "  <tbody>\n",
              "    <tr>\n",
              "      <th>0</th>\n",
              "      <td>country</td>\n",
              "      <td>Country interviewee is in.</td>\n",
              "    </tr>\n",
              "    <tr>\n",
              "      <th>1</th>\n",
              "      <td>year</td>\n",
              "      <td>Year survey was done in.</td>\n",
              "    </tr>\n",
              "    <tr>\n",
              "      <th>2</th>\n",
              "      <td>uniqueid</td>\n",
              "      <td>Unique identifier for each interviewee</td>\n",
              "    </tr>\n",
              "    <tr>\n",
              "      <th>3</th>\n",
              "      <td>location_type</td>\n",
              "      <td>Type of location: Rural, Urban</td>\n",
              "    </tr>\n",
              "    <tr>\n",
              "      <th>4</th>\n",
              "      <td>cellphone_access</td>\n",
              "      <td>If interviewee has access to a cellphone: Yes, No</td>\n",
              "    </tr>\n",
              "    <tr>\n",
              "      <th>5</th>\n",
              "      <td>household_size</td>\n",
              "      <td>Number of people living in one house</td>\n",
              "    </tr>\n",
              "    <tr>\n",
              "      <th>6</th>\n",
              "      <td>age_of_respondent</td>\n",
              "      <td>The age of the interviewee</td>\n",
              "    </tr>\n",
              "    <tr>\n",
              "      <th>7</th>\n",
              "      <td>gender_of_respondent</td>\n",
              "      <td>Gender of interviewee: Male, Female</td>\n",
              "    </tr>\n",
              "    <tr>\n",
              "      <th>8</th>\n",
              "      <td>relationship_with_head</td>\n",
              "      <td>The interviewee’s relationship with the head o...</td>\n",
              "    </tr>\n",
              "    <tr>\n",
              "      <th>9</th>\n",
              "      <td>marital_status</td>\n",
              "      <td>The martial status of the interviewee: Married...</td>\n",
              "    </tr>\n",
              "    <tr>\n",
              "      <th>10</th>\n",
              "      <td>education_level</td>\n",
              "      <td>Highest level of education: No formal educatio...</td>\n",
              "    </tr>\n",
              "    <tr>\n",
              "      <th>11</th>\n",
              "      <td>job_type</td>\n",
              "      <td>Type of job interviewee has: Farming and Fishi...</td>\n",
              "    </tr>\n",
              "  </tbody>\n",
              "</table>\n",
              "</div>"
            ],
            "text/plain": [
              "      Variable Definitions                                         Unnamed: 1\n",
              "0                  country                         Country interviewee is in.\n",
              "1                     year                           Year survey was done in.\n",
              "2                 uniqueid             Unique identifier for each interviewee\n",
              "3            location_type                     Type of location: Rural, Urban\n",
              "4         cellphone_access  If interviewee has access to a cellphone: Yes, No\n",
              "5           household_size               Number of people living in one house\n",
              "6        age_of_respondent                         The age of the interviewee\n",
              "7     gender_of_respondent                Gender of interviewee: Male, Female\n",
              "8   relationship_with_head  The interviewee’s relationship with the head o...\n",
              "9           marital_status  The martial status of the interviewee: Married...\n",
              "10         education_level  Highest level of education: No formal educatio...\n",
              "11                job_type  Type of job interviewee has: Farming and Fishi..."
            ]
          },
          "execution_count": 183,
          "metadata": {},
          "output_type": "execute_result"
        }
      ],
      "source": [
        "# Let's view the variables\n",
        "variables"
      ]
    },
    {
      "cell_type": "code",
      "execution_count": 184,
      "metadata": {},
      "outputs": [],
      "source": [
        "#Convert to datetime features\n",
        "train[['year']] = train[['year']].apply(lambda x:pd.to_datetime(x,format='%Y-%m-%d',errors='coerce'))\n",
        "test[['year']] = test[['year']].apply(lambda x:pd.to_datetime(x,format='%Y-%m-%d',errors='coerce'))\n",
        "#Create datetime features\n",
        "from feature_engine.datetime import DatetimeFeatures\n",
        "dtf = DatetimeFeatures(features_to_extract = [\"month\"])\n",
        "train = dtf.fit_transform(train)\n",
        "test = dtf.fit_transform(test)"
      ]
    },
    {
      "cell_type": "code",
      "execution_count": 185,
      "metadata": {
        "colab": {
          "base_uri": "https://localhost:8080/"
        },
        "id": "KDu51_TBceft",
        "outputId": "bc1a4302-34e9-4107-8a69-00d59e1f77d4"
      },
      "outputs": [
        {
          "name": "stdout",
          "output_type": "stream",
          "text": [
            "0        1\n",
            "1        0\n",
            "2        1\n",
            "3        0\n",
            "4        0\n",
            "        ..\n",
            "23519    0\n",
            "23520    0\n",
            "23521    0\n",
            "23522    0\n",
            "23523    0\n",
            "Name: bank_account, Length: 23524, dtype: int32\n"
          ]
        }
      ],
      "source": [
        "#import preprocessing module\n",
        "from sklearn.preprocessing import LabelEncoder\n",
        "from sklearn.preprocessing import MinMaxScaler\n",
        "\n",
        "# Cobvert target label to numerical Data\n",
        "le = LabelEncoder()\n",
        "train['bank_account'] = le.fit_transform(train['bank_account'])\n",
        "\n",
        "#Separate training features from target\n",
        "X_train = train.drop(['bank_account'], axis=1)\n",
        "y_train = train['bank_account']\n",
        "\n",
        "print(y_train)"
      ]
    },
    {
      "cell_type": "code",
      "execution_count": 186,
      "metadata": {},
      "outputs": [],
      "source": [
        "feature_names = X_train.columns"
      ]
    },
    {
      "cell_type": "markdown",
      "metadata": {
        "id": "Dance7rnc2a1"
      },
      "source": [
        "The target values have been transformed into numerical datatypes, **1** represents **‘Yes’** and **0** represents **‘No’**.\n",
        "\n",
        "We have created a simple preprocessing function to:\n",
        "\n",
        "*   Handle conversion of data types\n",
        "*   Convert categorical features to numerical features by using [One-hot Encoder and Label Encoder](https://towardsdatascience.com/categorical-encoding-using-label-encoding-and-one-hot-encoder-911ef77fb5bd)\n",
        "*   Drop uniqueid variable\n",
        "*   Perform [feature scaling](https://towardsdatascience.com/preprocessing-with-sklearn-a-complete-and-comprehensive-guide-670cb98fcfb9).\n",
        "\n",
        "The processing function will be used for both train and test independent variables."
      ]
    },
    {
      "cell_type": "code",
      "execution_count": 187,
      "metadata": {
        "id": "5nLXAW5hdYOk"
      },
      "outputs": [],
      "source": [
        "# function to preprocess our data from train models\n",
        "def preprocessing_data(data):\n",
        "\n",
        "    # Convert the following numerical labels from interger to float\n",
        "    float_array = data[[\"household_size\", \"age_of_respondent\", \"year_month\"]].values.astype(float)\n",
        "    \n",
        "    # categorical features to be onverted to One Hot Encoding\n",
        "    categ = [\"relationship_with_head\",\n",
        "             \"marital_status\",\n",
        "             \"education_level\",\n",
        "             \"job_type\",\n",
        "             \"country\"]\n",
        "    \n",
        "    # One Hot Encoding conversion\n",
        "    data = pd.get_dummies(data, prefix_sep=\"_\", columns=categ)\n",
        "    \n",
        "    # Label Encoder conversion\n",
        "    data[\"location_type\"] = le.fit_transform(data[\"location_type\"])\n",
        "    data[\"cellphone_access\"] = le.fit_transform(data[\"cellphone_access\"])\n",
        "    data[\"gender_of_respondent\"] = le.fit_transform(data[\"gender_of_respondent\"])\n",
        "    \n",
        "    # drop uniquid column\n",
        "    data = data.drop([\"uniqueid\"], axis=1)\n",
        "    \n",
        "    # scale our data into range of 0 and 1\n",
        "    scaler = MinMaxScaler(feature_range=(0, 1))\n",
        "    data = scaler.fit_transform(data)\n",
        "    \n",
        "    return data                  "
      ]
    },
    {
      "cell_type": "markdown",
      "metadata": {
        "id": "0ecEbBCgdeKC"
      },
      "source": [
        "Preprocess both train and test dataset."
      ]
    },
    {
      "cell_type": "code",
      "execution_count": 188,
      "metadata": {
        "id": "eNdoBGhgdYdQ"
      },
      "outputs": [],
      "source": [
        "# preprocess the train data \n",
        "processed_train = preprocessing_data(X_train)\n",
        "processed_test = preprocessing_data(test)"
      ]
    },
    {
      "cell_type": "markdown",
      "metadata": {
        "id": "sxD8v8T6dhxp"
      },
      "source": [
        "Observe the first row in the train data."
      ]
    },
    {
      "cell_type": "code",
      "execution_count": 189,
      "metadata": {
        "colab": {
          "base_uri": "https://localhost:8080/"
        },
        "id": "oZxvcf4DdYld",
        "outputId": "a9d357ef-a139-4a83-a081-60c21e912bc6"
      },
      "outputs": [
        {
          "name": "stdout",
          "output_type": "stream",
          "text": [
            "[[0.        1.        0.1       0.0952381 0.        0.        0.\n",
            "  0.        0.        0.        0.        1.        0.        0.\n",
            "  1.        0.        0.        0.        0.        0.        1.\n",
            "  0.        0.        0.        0.        0.        0.        0.\n",
            "  0.        0.        0.        0.        1.        1.        0.\n",
            "  0.        0.       ]]\n"
          ]
        }
      ],
      "source": [
        "# the first train row\n",
        "print(processed_train[:1])"
      ]
    },
    {
      "cell_type": "markdown",
      "metadata": {
        "id": "5X7hwM0NdlVB"
      },
      "source": [
        "Observe the shape of the train data."
      ]
    },
    {
      "cell_type": "code",
      "execution_count": 190,
      "metadata": {
        "colab": {
          "base_uri": "https://localhost:8080/"
        },
        "id": "hwZVZ4cGdmTP",
        "outputId": "15e18896-281a-4dcc-9b07-b85da0757322"
      },
      "outputs": [
        {
          "name": "stdout",
          "output_type": "stream",
          "text": [
            "(23524, 37)\n"
          ]
        }
      ],
      "source": [
        "# shape of the processed train set\n",
        "print(processed_train.shape)"
      ]
    },
    {
      "cell_type": "code",
      "execution_count": 191,
      "metadata": {},
      "outputs": [
        {
          "data": {
            "text/plain": [
              "array([[0.  , 1.  , 0.1 , ..., 0.  , 0.  , 0.  ],\n",
              "       [0.  , 0.  , 0.2 , ..., 0.  , 0.  , 0.  ],\n",
              "       [1.  , 1.  , 0.2 , ..., 0.  , 0.  , 0.  ],\n",
              "       ...,\n",
              "       [0.  , 1.  , 0.2 , ..., 0.  , 0.  , 1.  ],\n",
              "       [1.  , 1.  , 0.3 , ..., 0.  , 0.  , 1.  ],\n",
              "       [0.  , 1.  , 0.45, ..., 0.  , 0.  , 1.  ]])"
            ]
          },
          "execution_count": 191,
          "metadata": {},
          "output_type": "execute_result"
        }
      ],
      "source": [
        "processed_train"
      ]
    },
    {
      "cell_type": "code",
      "execution_count": 192,
      "metadata": {},
      "outputs": [],
      "source": [
        "processed_train = np.delete(processed_train,[23,13,18,29,8,10,5], axis=1)\n",
        "processed_test = np.delete(processed_test,[23,13,18,29,8,10,5], axis=1) "
      ]
    },
    {
      "cell_type": "code",
      "execution_count": 193,
      "metadata": {},
      "outputs": [
        {
          "data": {
            "text/plain": [
              "(23524, 30)"
            ]
          },
          "execution_count": 193,
          "metadata": {},
          "output_type": "execute_result"
        }
      ],
      "source": [
        "processed_train.shape"
      ]
    },
    {
      "cell_type": "markdown",
      "metadata": {
        "id": "HwHinDPjds1S"
      },
      "source": [
        "Now we have more independent variables than before (37 variables). This doesn’t mean all these variables are important to train our model. You need to select only important features that can increase the performance of the model. But we will not apply any feature selection technique in this article; if you want to learn and know more about feature selection techniques, we recommend you read the following articles:\n",
        "\n",
        "\n",
        "*    [Introduction to Feature Selection methods with an example (or how to select the right variables?)](https://https://www.analyticsvidhya.com/blog/2016/12/introduction-to-feature-selection-methods-with-an-example-or-how-to-select-the-right-variables/)\n",
        "*   [The 5 Feature Selection Algorithms every Data Scientist should know](https://towardsdatascience.com/the-5-feature-selection-algorithms-every-data-scientist-need-to-know-3a6b566efd2)\n",
        "*   [How to Choose a Feature Selection Method For Machine Learning](https://machinelearningmastery.com/feature-selection-with-real-and-categorical-data/)\n",
        "*   [Feature Selection Techniques in Machine Learning with Python](https://towardsdatascience.com/feature-selection-techniques-in-machine-learning-with-python-f24e7da3f36e)"
      ]
    },
    {
      "cell_type": "markdown",
      "metadata": {
        "id": "RmPQteHwk4hS"
      },
      "source": [
        "###4. Model Building and Experiments\n",
        "A portion of the train data set will be used to evaluate our models and find the best one that performs well before using it in the test dataset.\n"
      ]
    },
    {
      "cell_type": "code",
      "execution_count": 194,
      "metadata": {
        "id": "2MSEu48clFhH"
      },
      "outputs": [],
      "source": [
        "import sklearn.model_selection"
      ]
    },
    {
      "cell_type": "code",
      "execution_count": 195,
      "metadata": {
        "id": "6HXDwTMtlB8-"
      },
      "outputs": [],
      "source": [
        "# Split train_data\n",
        "from sklearn.model_selection import train_test_split\n",
        "\n",
        "X_Train, X_Val, y_Train, y_val = train_test_split(processed_train, y_train, stratify = y_train, \n",
        "                                                  test_size = 0.1, random_state=42)"
      ]
    },
    {
      "cell_type": "markdown",
      "metadata": {
        "id": "u1ZVFNKRlmfg"
      },
      "source": [
        "Only 10% of the train dataset will be used for evaluating the models. The parameter stratify = y_train will ensure an equal balance of values from both classes (‘yes’ and ‘no’) for both train and validation set.\n",
        "\n",
        "There are many models to choose from such as \n",
        "\n",
        "*   [K Nearest Neighbors](https://www.datacamp.com/community/tutorials/k-nearest-neighbor-classification-scikit-learn)\n",
        "*   [Logistic Regression](https://machinelearningmastery.com/logistic-regression-tutorial-for-machine-learning/)\n",
        "*   [Random Forest](https://www.datacamp.com/community/tutorials/random-forests-classifier-python)\n",
        "\n",
        "We will be using [**XGBoost**](https://www.datacamp.com/community/tutorials/xgboost-in-python). \n",
        "\n",
        "We will start by training these models using the train set after splitting our train dataset."
      ]
    },
    {
      "cell_type": "code",
      "execution_count": 196,
      "metadata": {
        "colab": {
          "base_uri": "https://localhost:8080/"
        },
        "id": "Kt1ZHUbwmY_t",
        "outputId": "f277a505-89fd-4a23-a3cb-40ef32664744"
      },
      "outputs": [
        {
          "data": {
            "text/html": [
              "<style>#sk-container-id-8 {color: black;}#sk-container-id-8 pre{padding: 0;}#sk-container-id-8 div.sk-toggleable {background-color: white;}#sk-container-id-8 label.sk-toggleable__label {cursor: pointer;display: block;width: 100%;margin-bottom: 0;padding: 0.3em;box-sizing: border-box;text-align: center;}#sk-container-id-8 label.sk-toggleable__label-arrow:before {content: \"▸\";float: left;margin-right: 0.25em;color: #696969;}#sk-container-id-8 label.sk-toggleable__label-arrow:hover:before {color: black;}#sk-container-id-8 div.sk-estimator:hover label.sk-toggleable__label-arrow:before {color: black;}#sk-container-id-8 div.sk-toggleable__content {max-height: 0;max-width: 0;overflow: hidden;text-align: left;background-color: #f0f8ff;}#sk-container-id-8 div.sk-toggleable__content pre {margin: 0.2em;color: black;border-radius: 0.25em;background-color: #f0f8ff;}#sk-container-id-8 input.sk-toggleable__control:checked~div.sk-toggleable__content {max-height: 200px;max-width: 100%;overflow: auto;}#sk-container-id-8 input.sk-toggleable__control:checked~label.sk-toggleable__label-arrow:before {content: \"▾\";}#sk-container-id-8 div.sk-estimator input.sk-toggleable__control:checked~label.sk-toggleable__label {background-color: #d4ebff;}#sk-container-id-8 div.sk-label input.sk-toggleable__control:checked~label.sk-toggleable__label {background-color: #d4ebff;}#sk-container-id-8 input.sk-hidden--visually {border: 0;clip: rect(1px 1px 1px 1px);clip: rect(1px, 1px, 1px, 1px);height: 1px;margin: -1px;overflow: hidden;padding: 0;position: absolute;width: 1px;}#sk-container-id-8 div.sk-estimator {font-family: monospace;background-color: #f0f8ff;border: 1px dotted black;border-radius: 0.25em;box-sizing: border-box;margin-bottom: 0.5em;}#sk-container-id-8 div.sk-estimator:hover {background-color: #d4ebff;}#sk-container-id-8 div.sk-parallel-item::after {content: \"\";width: 100%;border-bottom: 1px solid gray;flex-grow: 1;}#sk-container-id-8 div.sk-label:hover label.sk-toggleable__label {background-color: #d4ebff;}#sk-container-id-8 div.sk-serial::before {content: \"\";position: absolute;border-left: 1px solid gray;box-sizing: border-box;top: 0;bottom: 0;left: 50%;z-index: 0;}#sk-container-id-8 div.sk-serial {display: flex;flex-direction: column;align-items: center;background-color: white;padding-right: 0.2em;padding-left: 0.2em;position: relative;}#sk-container-id-8 div.sk-item {position: relative;z-index: 1;}#sk-container-id-8 div.sk-parallel {display: flex;align-items: stretch;justify-content: center;background-color: white;position: relative;}#sk-container-id-8 div.sk-item::before, #sk-container-id-8 div.sk-parallel-item::before {content: \"\";position: absolute;border-left: 1px solid gray;box-sizing: border-box;top: 0;bottom: 0;left: 50%;z-index: -1;}#sk-container-id-8 div.sk-parallel-item {display: flex;flex-direction: column;z-index: 1;position: relative;background-color: white;}#sk-container-id-8 div.sk-parallel-item:first-child::after {align-self: flex-end;width: 50%;}#sk-container-id-8 div.sk-parallel-item:last-child::after {align-self: flex-start;width: 50%;}#sk-container-id-8 div.sk-parallel-item:only-child::after {width: 0;}#sk-container-id-8 div.sk-dashed-wrapped {border: 1px dashed gray;margin: 0 0.4em 0.5em 0.4em;box-sizing: border-box;padding-bottom: 0.4em;background-color: white;}#sk-container-id-8 div.sk-label label {font-family: monospace;font-weight: bold;display: inline-block;line-height: 1.2em;}#sk-container-id-8 div.sk-label-container {text-align: center;}#sk-container-id-8 div.sk-container {/* jupyter's `normalize.less` sets `[hidden] { display: none; }` but bootstrap.min.css set `[hidden] { display: none !important; }` so we also need the `!important` here to be able to override the default hidden behavior on the sphinx rendered scikit-learn.org. See: https://github.com/scikit-learn/scikit-learn/issues/21755 */display: inline-block !important;position: relative;}#sk-container-id-8 div.sk-text-repr-fallback {display: none;}</style><div id=\"sk-container-id-8\" class=\"sk-top-container\"><div class=\"sk-text-repr-fallback\"><pre>XGBClassifier(base_score=None, booster=None, callbacks=None,\n",
              "              colsample_bylevel=None, colsample_bynode=None,\n",
              "              colsample_bytree=None, device=None, early_stopping_rounds=None,\n",
              "              enable_categorical=False, eval_metric=None, feature_types=None,\n",
              "              gamma=None, grow_policy=None, importance_type=None,\n",
              "              interaction_constraints=None, learning_rate=None, max_bin=None,\n",
              "              max_cat_threshold=None, max_cat_to_onehot=None,\n",
              "              max_delta_step=None, max_depth=None, max_leaves=None,\n",
              "              min_child_weight=None, missing=nan, monotone_constraints=None,\n",
              "              multi_strategy=None, n_estimators=None, n_jobs=None,\n",
              "              num_parallel_tree=None, random_state=None, ...)</pre><b>In a Jupyter environment, please rerun this cell to show the HTML representation or trust the notebook. <br />On GitHub, the HTML representation is unable to render, please try loading this page with nbviewer.org.</b></div><div class=\"sk-container\" hidden><div class=\"sk-item\"><div class=\"sk-estimator sk-toggleable\"><input class=\"sk-toggleable__control sk-hidden--visually\" id=\"sk-estimator-id-8\" type=\"checkbox\" checked><label for=\"sk-estimator-id-8\" class=\"sk-toggleable__label sk-toggleable__label-arrow\">XGBClassifier</label><div class=\"sk-toggleable__content\"><pre>XGBClassifier(base_score=None, booster=None, callbacks=None,\n",
              "              colsample_bylevel=None, colsample_bynode=None,\n",
              "              colsample_bytree=None, device=None, early_stopping_rounds=None,\n",
              "              enable_categorical=False, eval_metric=None, feature_types=None,\n",
              "              gamma=None, grow_policy=None, importance_type=None,\n",
              "              interaction_constraints=None, learning_rate=None, max_bin=None,\n",
              "              max_cat_threshold=None, max_cat_to_onehot=None,\n",
              "              max_delta_step=None, max_depth=None, max_leaves=None,\n",
              "              min_child_weight=None, missing=nan, monotone_constraints=None,\n",
              "              multi_strategy=None, n_estimators=None, n_jobs=None,\n",
              "              num_parallel_tree=None, random_state=None, ...)</pre></div></div></div></div></div>"
            ],
            "text/plain": [
              "XGBClassifier(base_score=None, booster=None, callbacks=None,\n",
              "              colsample_bylevel=None, colsample_bynode=None,\n",
              "              colsample_bytree=None, device=None, early_stopping_rounds=None,\n",
              "              enable_categorical=False, eval_metric=None, feature_types=None,\n",
              "              gamma=None, grow_policy=None, importance_type=None,\n",
              "              interaction_constraints=None, learning_rate=None, max_bin=None,\n",
              "              max_cat_threshold=None, max_cat_to_onehot=None,\n",
              "              max_delta_step=None, max_depth=None, max_leaves=None,\n",
              "              min_child_weight=None, missing=nan, monotone_constraints=None,\n",
              "              multi_strategy=None, n_estimators=None, n_jobs=None,\n",
              "              num_parallel_tree=None, random_state=None, ...)"
            ]
          },
          "execution_count": 196,
          "metadata": {},
          "output_type": "execute_result"
        }
      ],
      "source": [
        "#import classifier algorithm here\n",
        "from xgboost import XGBClassifier\n",
        "\n",
        "# create models\n",
        "xg_model = XGBClassifier()\n",
        "\n",
        "#fitting the models\n",
        "xg_model.fit(X_Train,y_Train)"
      ]
    },
    {
      "cell_type": "markdown",
      "metadata": {
        "id": "Ewpi1qC8mmwM"
      },
      "source": [
        "The evaluation metric for this challenge will be the percentage of survey respondents for whom you predict the binary 'bank account' classification incorrectly.\n",
        "\n",
        "This means the **lower** the incorrect percentage we get, the better the model performance."
      ]
    },
    {
      "cell_type": "code",
      "execution_count": 197,
      "metadata": {
        "colab": {
          "base_uri": "https://localhost:8080/"
        },
        "id": "Z_DtQ0CpmZCT",
        "outputId": "7f20aa72-8af2-4e0c-ceaf-94aefdf7f73a"
      },
      "outputs": [
        {
          "name": "stdout",
          "output_type": "stream",
          "text": [
            "Error rate of XGB classifier:  0.11389715257118571\n"
          ]
        }
      ],
      "source": [
        "# import evaluation metrics\n",
        "from sklearn.metrics import confusion_matrix, accuracy_score\n",
        "\n",
        "# evaluate the model\n",
        "xg_y_model = xg_model.predict(X_Val)\n",
        "\n",
        "# Get error rate\n",
        "print(\"Error rate of XGB classifier: \", 1 - accuracy_score(y_val, xg_y_model))"
      ]
    },
    {
      "cell_type": "code",
      "execution_count": 198,
      "metadata": {
        "colab": {
          "base_uri": "https://localhost:8080/"
        },
        "id": "5I4ycJmWpWm8",
        "outputId": "59f41451-12a0-4af3-9952-cc0e1d7f4419"
      },
      "outputs": [],
      "source": [
        "## Import GridSearchCV\n",
        "#from sklearn.model_selection import GridSearchCV\n",
        "#\n",
        "## Optimize model parameters\n",
        "## I run this code in google colab to make the execution much faster and use the best params in the next code\n",
        "#param_grid = {'min_child_weighth': [1, 5, 10],\n",
        "#        'gamma': [0.5, 1],\n",
        "#        'subsample': [0.6, 0.8, 1.0],\n",
        "#        'max_depth': [3, 5]\n",
        "#        }\n",
        "#my_xgb_model = GridSearchCV(xg_model, param_grid,n_jobs=-1,verbose=2,cv=5)\n",
        "#my_xgb_model.fit(X_Train, y_Train)\n",
        "#print(my_xgb_model.best_params_)        "
      ]
    },
    {
      "cell_type": "markdown",
      "metadata": {
        "id": "mOlYn399p2eQ"
      },
      "source": [
        "The above source code will evaluate which parameter values for min_child_weight, gamma, subsample and max_depth will give us better performance.\n",
        "\n",
        "Let’s use these parameter values and see if the XGB model performance will increase."
      ]
    },
    {
      "cell_type": "code",
      "execution_count": 199,
      "metadata": {
        "colab": {
          "base_uri": "https://localhost:8080/"
        },
        "id": "ngV3CPnHp5ex",
        "outputId": "d3a87838-3b97-4e8e-8d72-65ea0a15c4b4"
      },
      "outputs": [
        {
          "name": "stdout",
          "output_type": "stream",
          "text": [
            "Error rate of the XGB classifier:  0.10667233319167024\n"
          ]
        }
      ],
      "source": [
        "from sklearn.metrics import confusion_matrix, accuracy_score\n",
        "\n",
        "# fit by setting best parameters and Evaluate model\n",
        "xgb_model = XGBClassifier(min_child_weight=1, gamma=1, subsample=0.8, max_depth=5)\n",
        "\n",
        "xgb_model.fit(X_Train, y_Train)\n",
        "y_pred = xgb_model.predict(X_Val)\n",
        "\n",
        "# Get error rate\n",
        "print(\"Error rate of the XGB classifier: \", 1 - accuracy_score(y_val, y_pred))"
      ]
    },
    {
      "cell_type": "code",
      "execution_count": 200,
      "metadata": {},
      "outputs": [
        {
          "name": "stdout",
          "output_type": "stream",
          "text": [
            "0:\ttest: 0.8228945\tbest: 0.8228945 (0)\ttotal: 15.7ms\tremaining: 1.17s\n",
            "1:\ttest: 0.8396065\tbest: 0.8396065 (1)\ttotal: 68.6ms\tremaining: 2.5s\n",
            "2:\ttest: 0.8487095\tbest: 0.8487095 (2)\ttotal: 122ms\tremaining: 2.94s\n",
            "3:\ttest: 0.8528789\tbest: 0.8528789 (3)\ttotal: 135ms\tremaining: 2.4s\n",
            "4:\ttest: 0.8549468\tbest: 0.8549468 (4)\ttotal: 157ms\tremaining: 2.2s\n",
            "5:\ttest: 0.8544111\tbest: 0.8549468 (4)\ttotal: 172ms\tremaining: 1.98s\n",
            "6:\ttest: 0.8537014\tbest: 0.8549468 (4)\ttotal: 178ms\tremaining: 1.73s\n",
            "7:\ttest: 0.8562848\tbest: 0.8562848 (7)\ttotal: 236ms\tremaining: 1.97s\n",
            "8:\ttest: 0.8599604\tbest: 0.8599604 (8)\ttotal: 295ms\tremaining: 2.16s\n",
            "9:\ttest: 0.8622584\tbest: 0.8622584 (9)\ttotal: 352ms\tremaining: 2.29s\n",
            "10:\ttest: 0.8620552\tbest: 0.8622584 (9)\ttotal: 428ms\tremaining: 2.49s\n",
            "11:\ttest: 0.8631541\tbest: 0.8631541 (11)\ttotal: 495ms\tremaining: 2.6s\n",
            "12:\ttest: 0.8636277\tbest: 0.8636277 (12)\ttotal: 511ms\tremaining: 2.44s\n",
            "13:\ttest: 0.8657188\tbest: 0.8657188 (13)\ttotal: 572ms\tremaining: 2.49s\n",
            "14:\ttest: 0.8658331\tbest: 0.8658331 (14)\ttotal: 631ms\tremaining: 2.52s\n",
            "15:\ttest: 0.8656896\tbest: 0.8658331 (14)\ttotal: 694ms\tremaining: 2.56s\n",
            "16:\ttest: 0.8658211\tbest: 0.8658331 (14)\ttotal: 761ms\tremaining: 2.6s\n",
            "17:\ttest: 0.8660535\tbest: 0.8660535 (17)\ttotal: 825ms\tremaining: 2.61s\n",
            "18:\ttest: 0.8670912\tbest: 0.8670912 (18)\ttotal: 891ms\tremaining: 2.63s\n",
            "19:\ttest: 0.8671987\tbest: 0.8671987 (19)\ttotal: 948ms\tremaining: 2.61s\n",
            "20:\ttest: 0.8672555\tbest: 0.8672555 (20)\ttotal: 1.02s\tremaining: 2.61s\n",
            "21:\ttest: 0.8683866\tbest: 0.8683866 (21)\ttotal: 1.09s\tremaining: 2.62s\n",
            "22:\ttest: 0.8684658\tbest: 0.8684658 (22)\ttotal: 1.14s\tremaining: 2.58s\n",
            "23:\ttest: 0.8690081\tbest: 0.8690081 (23)\ttotal: 1.2s\tremaining: 2.56s\n",
            "24:\ttest: 0.8689439\tbest: 0.8690081 (23)\ttotal: 1.26s\tremaining: 2.52s\n",
            "25:\ttest: 0.8694788\tbest: 0.8694788 (25)\ttotal: 1.32s\tremaining: 2.5s\n",
            "26:\ttest: 0.8696700\tbest: 0.8696700 (26)\ttotal: 1.37s\tremaining: 2.44s\n",
            "27:\ttest: 0.8702610\tbest: 0.8702610 (27)\ttotal: 1.43s\tremaining: 2.4s\n",
            "28:\ttest: 0.8701429\tbest: 0.8702610 (27)\ttotal: 1.44s\tremaining: 2.28s\n",
            "29:\ttest: 0.8705359\tbest: 0.8705359 (29)\ttotal: 1.49s\tremaining: 2.24s\n",
            "30:\ttest: 0.8703685\tbest: 0.8705359 (29)\ttotal: 1.55s\tremaining: 2.21s\n",
            "31:\ttest: 0.8703013\tbest: 0.8705359 (29)\ttotal: 1.61s\tremaining: 2.16s\n",
            "32:\ttest: 0.8705777\tbest: 0.8705777 (32)\ttotal: 1.67s\tremaining: 2.12s\n",
            "33:\ttest: 0.8708033\tbest: 0.8708033 (33)\ttotal: 1.72s\tremaining: 2.08s\n",
            "34:\ttest: 0.8706001\tbest: 0.8708033 (33)\ttotal: 1.78s\tremaining: 2.04s\n",
            "35:\ttest: 0.8707510\tbest: 0.8708033 (33)\ttotal: 1.83s\tremaining: 1.99s\n",
            "36:\ttest: 0.8715803\tbest: 0.8715803 (36)\ttotal: 1.89s\tremaining: 1.94s\n",
            "37:\ttest: 0.8710379\tbest: 0.8715803 (36)\ttotal: 1.95s\tremaining: 1.9s\n",
            "38:\ttest: 0.8716416\tbest: 0.8716416 (38)\ttotal: 2s\tremaining: 1.84s\n",
            "39:\ttest: 0.8711933\tbest: 0.8716416 (38)\ttotal: 2.04s\tremaining: 1.79s\n",
            "40:\ttest: 0.8709005\tbest: 0.8716416 (38)\ttotal: 2.09s\tremaining: 1.73s\n",
            "41:\ttest: 0.8714593\tbest: 0.8716416 (38)\ttotal: 2.14s\tremaining: 1.68s\n",
            "42:\ttest: 0.8718119\tbest: 0.8718119 (42)\ttotal: 2.19s\tremaining: 1.63s\n",
            "43:\ttest: 0.8721152\tbest: 0.8721152 (43)\ttotal: 2.24s\tremaining: 1.58s\n",
            "44:\ttest: 0.8723871\tbest: 0.8723871 (44)\ttotal: 2.28s\tremaining: 1.52s\n",
            "45:\ttest: 0.8726292\tbest: 0.8726292 (45)\ttotal: 2.33s\tremaining: 1.47s\n",
            "46:\ttest: 0.8726800\tbest: 0.8726800 (46)\ttotal: 2.38s\tremaining: 1.42s\n",
            "47:\ttest: 0.8729459\tbest: 0.8729459 (47)\ttotal: 2.42s\tremaining: 1.36s\n",
            "48:\ttest: 0.8729026\tbest: 0.8729459 (47)\ttotal: 2.48s\tremaining: 1.32s\n",
            "49:\ttest: 0.8728921\tbest: 0.8729459 (47)\ttotal: 2.53s\tremaining: 1.27s\n",
            "50:\ttest: 0.8732418\tbest: 0.8732418 (50)\ttotal: 2.59s\tremaining: 1.22s\n",
            "51:\ttest: 0.8735884\tbest: 0.8735884 (51)\ttotal: 2.66s\tremaining: 1.18s\n",
            "52:\ttest: 0.8737154\tbest: 0.8737154 (52)\ttotal: 2.71s\tremaining: 1.13s\n",
            "53:\ttest: 0.8739903\tbest: 0.8739903 (53)\ttotal: 2.77s\tremaining: 1.08s\n",
            "54:\ttest: 0.8738424\tbest: 0.8739903 (53)\ttotal: 2.82s\tremaining: 1.03s\n",
            "55:\ttest: 0.8741801\tbest: 0.8741801 (55)\ttotal: 2.87s\tremaining: 975ms\n",
            "56:\ttest: 0.8739530\tbest: 0.8741801 (55)\ttotal: 2.92s\tremaining: 924ms\n",
            "57:\ttest: 0.8739067\tbest: 0.8741801 (55)\ttotal: 2.98s\tremaining: 872ms\n",
            "58:\ttest: 0.8741024\tbest: 0.8741801 (55)\ttotal: 3.02s\tremaining: 820ms\n",
            "59:\ttest: 0.8744460\tbest: 0.8744460 (59)\ttotal: 3.07s\tremaining: 768ms\n",
            "60:\ttest: 0.8743938\tbest: 0.8744460 (59)\ttotal: 3.12s\tremaining: 717ms\n",
            "61:\ttest: 0.8746448\tbest: 0.8746448 (61)\ttotal: 3.17s\tremaining: 666ms\n",
            "62:\ttest: 0.8749690\tbest: 0.8749690 (62)\ttotal: 3.22s\tremaining: 613ms\n",
            "63:\ttest: 0.8748002\tbest: 0.8749690 (62)\ttotal: 3.26s\tremaining: 561ms\n",
            "64:\ttest: 0.8744610\tbest: 0.8749690 (62)\ttotal: 3.32s\tremaining: 510ms\n",
            "65:\ttest: 0.8744281\tbest: 0.8749690 (62)\ttotal: 3.32s\tremaining: 453ms\n",
            "66:\ttest: 0.8744856\tbest: 0.8749690 (62)\ttotal: 3.37s\tremaining: 403ms\n",
            "67:\ttest: 0.8745663\tbest: 0.8749690 (62)\ttotal: 3.43s\tremaining: 354ms\n",
            "68:\ttest: 0.8744573\tbest: 0.8749690 (62)\ttotal: 3.49s\tremaining: 304ms\n",
            "69:\ttest: 0.8742018\tbest: 0.8749690 (62)\ttotal: 3.56s\tremaining: 255ms\n",
            "70:\ttest: 0.8742645\tbest: 0.8749690 (62)\ttotal: 3.62s\tremaining: 204ms\n",
            "71:\ttest: 0.8743855\tbest: 0.8749690 (62)\ttotal: 3.68s\tremaining: 153ms\n",
            "72:\ttest: 0.8745962\tbest: 0.8749690 (62)\ttotal: 3.73s\tremaining: 102ms\n",
            "73:\ttest: 0.8748069\tbest: 0.8749690 (62)\ttotal: 3.78s\tremaining: 51.1ms\n",
            "74:\ttest: 0.8749697\tbest: 0.8749697 (74)\ttotal: 3.83s\tremaining: 0us\n",
            "\n",
            "bestTest = 0.8749697437\n",
            "bestIteration = 74\n",
            "\n",
            "Error rate of CatBoost classifier: 0.1067\n"
          ]
        }
      ],
      "source": [
        "\n",
        "from catboost import CatBoostClassifier, Pool\n",
        "from sklearn.metrics import accuracy_score\n",
        "\n",
        "# Create a CatBoost Pool for training and validation data\n",
        "train_pool = Pool(data=X_Train, label=y_Train)\n",
        "val_pool = Pool(data=X_Val, label=y_val)\n",
        "\n",
        "# Define CatBoost parameters\n",
        "catboost_params = {\n",
        "    'loss_function': 'Logloss',\n",
        "    'eval_metric': 'AUC',\n",
        "    'learning_rate': 0.04162,\n",
        "    'iterations': 75,\n",
        "    'random_seed': 42,\n",
        "    'depth': 12,\n",
        "    'border_count': 32,\n",
        "    'od_type': 'Iter',\n",
        "    #'early_stopping_rounds': 700,\n",
        "    'task_type': 'CPU',\n",
        "    'logging_level': 'Verbose',\n",
        "    'min_child_samples': 10, \n",
        "    'l2_leaf_reg': 5,                # Regularization term\n",
        "    'bagging_temperature': 5,\n",
        "    #'subsample': 0.5,\n",
        "    #'colsample_bylevel': 0.8,\n",
        "\n",
        "}\n",
        "\n",
        "# Create and train the CatBoost model\n",
        "model = CatBoostClassifier(**catboost_params)\n",
        "model.fit(train_pool, eval_set=val_pool)\n",
        "\n",
        "# Make predictions on the validation set\n",
        "y_pred = model.predict(X_Val)\n",
        "\n",
        "# Convert predictions to binary (0 or 1)\n",
        "y_pred_binary = (y_pred > 0.5).astype(int)\n",
        "\n",
        "# Calculate the error rate\n",
        "error_rate = 1 - accuracy_score(y_val, y_pred_binary)\n",
        "print(f'Error rate of CatBoost classifier: {error_rate:.4f}')\n",
        "\n"
      ]
    },
    {
      "cell_type": "code",
      "execution_count": 201,
      "metadata": {},
      "outputs": [
        {
          "data": {
            "image/png": "[encoded data removed]",
            "text/plain": [
              "<Figure size 1000x600 with 1 Axes>"
            ]
          },
          "metadata": {},
          "output_type": "display_data"
        }
      ],
      "source": [
        "# Plot feature importance\n",
        "import pandas as pd\n",
        "feature_importance = model.get_feature_importance(prettified=True)\n",
        "plt.figure(figsize=(10, 6))\n",
        "plt.barh(feature_importance['Feature Id'], feature_importance['Importances'])\n",
        "plt.yticks(feature_importance['Feature Id'], feature_importance['Feature Id'])\n",
        "plt.xlabel('Importance')\n",
        "plt.ylabel('Feature')\n",
        "plt.title('CatBoost Feature Importance')\n",
        "plt.show()"
      ]
    },
    {
      "cell_type": "code",
      "execution_count": 496,
      "metadata": {},
      "outputs": [
        {
          "data": {
            "application/vnd.jupyter.widget-view+json": {
              "model_id": "f4bb1b32d18f472998a1f2d2fe66fd06",
              "version_major": 2,
              "version_minor": 0
            },
            "text/plain": [
              "MetricVisualizer(layout=Layout(align_self='stretch', height='500px'))"
            ]
          },
          "metadata": {},
          "output_type": "display_data"
        },
        {
          "name": "stdout",
          "output_type": "stream",
          "text": [
            "Training on fold [0/5]\n",
            "0:\ttest: 0.7814673\tbest: 0.7814673 (0)\ttotal: 10.6ms\tremaining: 786ms\n",
            "1:\ttest: 0.8267702\tbest: 0.8267702 (1)\ttotal: 23.5ms\tremaining: 860ms\n",
            "2:\ttest: 0.8395262\tbest: 0.8395262 (2)\ttotal: 43.2ms\tremaining: 1.04s\n",
            "3:\ttest: 0.8489287\tbest: 0.8489287 (3)\ttotal: 58.5ms\tremaining: 1.04s\n",
            "4:\ttest: 0.8463907\tbest: 0.8489287 (3)\ttotal: 77.1ms\tremaining: 1.08s\n",
            "5:\ttest: 0.8512380\tbest: 0.8512380 (5)\ttotal: 132ms\tremaining: 1.52s\n",
            "6:\ttest: 0.8531708\tbest: 0.8531708 (6)\ttotal: 149ms\tremaining: 1.44s\n",
            "7:\ttest: 0.8545957\tbest: 0.8545957 (7)\ttotal: 166ms\tremaining: 1.39s\n",
            "8:\ttest: 0.8538162\tbest: 0.8545957 (7)\ttotal: 181ms\tremaining: 1.32s\n",
            "9:\ttest: 0.8543258\tbest: 0.8545957 (7)\ttotal: 199ms\tremaining: 1.29s\n",
            "10:\ttest: 0.8551316\tbest: 0.8551316 (10)\ttotal: 214ms\tremaining: 1.24s\n",
            "11:\ttest: 0.8549839\tbest: 0.8551316 (10)\ttotal: 229ms\tremaining: 1.2s\n",
            "12:\ttest: 0.8555744\tbest: 0.8555744 (12)\ttotal: 245ms\tremaining: 1.17s\n",
            "13:\ttest: 0.8553441\tbest: 0.8555744 (12)\ttotal: 261ms\tremaining: 1.14s\n",
            "14:\ttest: 0.8563633\tbest: 0.8563633 (14)\ttotal: 284ms\tremaining: 1.14s\n",
            "15:\ttest: 0.8565461\tbest: 0.8565461 (15)\ttotal: 303ms\tremaining: 1.12s\n",
            "16:\ttest: 0.8569001\tbest: 0.8569001 (16)\ttotal: 323ms\tremaining: 1.1s\n",
            "17:\ttest: 0.8568341\tbest: 0.8569001 (16)\ttotal: 338ms\tremaining: 1.07s\n",
            "18:\ttest: 0.8575097\tbest: 0.8575097 (18)\ttotal: 356ms\tremaining: 1.05s\n",
            "19:\ttest: 0.8582950\tbest: 0.8582950 (19)\ttotal: 374ms\tremaining: 1.03s\n",
            "20:\ttest: 0.8584849\tbest: 0.8584849 (20)\ttotal: 384ms\tremaining: 986ms\n",
            "21:\ttest: 0.8591766\tbest: 0.8591766 (21)\ttotal: 400ms\tremaining: 963ms\n",
            "22:\ttest: 0.8592862\tbest: 0.8592862 (22)\ttotal: 412ms\tremaining: 931ms\n",
            "23:\ttest: 0.8590337\tbest: 0.8592862 (22)\ttotal: 430ms\tremaining: 913ms\n",
            "24:\ttest: 0.8586319\tbest: 0.8592862 (22)\ttotal: 444ms\tremaining: 888ms\n",
            "25:\ttest: 0.8589274\tbest: 0.8592862 (22)\ttotal: 459ms\tremaining: 865ms\n",
            "26:\ttest: 0.8589434\tbest: 0.8592862 (22)\ttotal: 472ms\tremaining: 839ms\n",
            "27:\ttest: 0.8589717\tbest: 0.8592862 (22)\ttotal: 488ms\tremaining: 819ms\n",
            "28:\ttest: 0.8588736\tbest: 0.8592862 (22)\ttotal: 501ms\tremaining: 795ms\n",
            "29:\ttest: 0.8587235\tbest: 0.8592862 (22)\ttotal: 516ms\tremaining: 774ms\n",
            "30:\ttest: 0.8592443\tbest: 0.8592862 (22)\ttotal: 535ms\tremaining: 760ms\n",
            "31:\ttest: 0.8594603\tbest: 0.8594603 (31)\ttotal: 551ms\tremaining: 741ms\n",
            "32:\ttest: 0.8595860\tbest: 0.8595860 (32)\ttotal: 565ms\tremaining: 720ms\n",
            "33:\ttest: 0.8592476\tbest: 0.8595860 (32)\ttotal: 581ms\tremaining: 700ms\n",
            "34:\ttest: 0.8591820\tbest: 0.8595860 (32)\ttotal: 595ms\tremaining: 679ms\n",
            "35:\ttest: 0.8598102\tbest: 0.8598102 (35)\ttotal: 609ms\tremaining: 659ms\n",
            "36:\ttest: 0.8599214\tbest: 0.8599214 (36)\ttotal: 625ms\tremaining: 642ms\n",
            "37:\ttest: 0.8600725\tbest: 0.8600725 (37)\ttotal: 646ms\tremaining: 629ms\n",
            "38:\ttest: 0.8605367\tbest: 0.8605367 (38)\ttotal: 664ms\tremaining: 613ms\n",
            "39:\ttest: 0.8606076\tbest: 0.8606076 (39)\ttotal: 684ms\tremaining: 599ms\n",
            "40:\ttest: 0.8609292\tbest: 0.8609292 (40)\ttotal: 702ms\tremaining: 582ms\n",
            "41:\ttest: 0.8607680\tbest: 0.8609292 (40)\ttotal: 721ms\tremaining: 567ms\n",
            "42:\ttest: 0.8608788\tbest: 0.8609292 (40)\ttotal: 736ms\tremaining: 548ms\n",
            "43:\ttest: 0.8608076\tbest: 0.8609292 (40)\ttotal: 751ms\tremaining: 529ms\n",
            "44:\ttest: 0.8610988\tbest: 0.8610988 (44)\ttotal: 769ms\tremaining: 512ms\n",
            "45:\ttest: 0.8612469\tbest: 0.8612469 (45)\ttotal: 788ms\tremaining: 497ms\n",
            "46:\ttest: 0.8612799\tbest: 0.8612799 (46)\ttotal: 805ms\tremaining: 479ms\n",
            "47:\ttest: 0.8612944\tbest: 0.8612944 (47)\ttotal: 814ms\tremaining: 458ms\n",
            "48:\ttest: 0.8614470\tbest: 0.8614470 (48)\ttotal: 831ms\tremaining: 441ms\n",
            "49:\ttest: 0.8619805\tbest: 0.8619805 (49)\ttotal: 852ms\tremaining: 426ms\n",
            "50:\ttest: 0.8621562\tbest: 0.8621562 (50)\ttotal: 869ms\tremaining: 409ms\n",
            "51:\ttest: 0.8620891\tbest: 0.8621562 (50)\ttotal: 885ms\tremaining: 391ms\n",
            "52:\ttest: 0.8621241\tbest: 0.8621562 (50)\ttotal: 900ms\tremaining: 374ms\n",
            "53:\ttest: 0.8622006\tbest: 0.8622006 (53)\ttotal: 921ms\tremaining: 358ms\n",
            "54:\ttest: 0.8624200\tbest: 0.8624200 (54)\ttotal: 943ms\tremaining: 343ms\n",
            "55:\ttest: 0.8625091\tbest: 0.8625091 (55)\ttotal: 966ms\tremaining: 328ms\n",
            "56:\ttest: 0.8625707\tbest: 0.8625707 (56)\ttotal: 977ms\tremaining: 308ms\n",
            "57:\ttest: 0.8626675\tbest: 0.8626675 (57)\ttotal: 995ms\tremaining: 292ms\n",
            "58:\ttest: 0.8626563\tbest: 0.8626675 (57)\ttotal: 1.02s\tremaining: 276ms\n",
            "59:\ttest: 0.8624468\tbest: 0.8626675 (57)\ttotal: 1.05s\tremaining: 262ms\n",
            "60:\ttest: 0.8626170\tbest: 0.8626675 (57)\ttotal: 1.07s\tremaining: 246ms\n",
            "61:\ttest: 0.8627680\tbest: 0.8627680 (61)\ttotal: 1.1s\tremaining: 231ms\n",
            "62:\ttest: 0.8629490\tbest: 0.8629490 (62)\ttotal: 1.12s\tremaining: 213ms\n",
            "63:\ttest: 0.8630911\tbest: 0.8630911 (63)\ttotal: 1.13s\tremaining: 195ms\n",
            "64:\ttest: 0.8626729\tbest: 0.8630911 (63)\ttotal: 1.15s\tremaining: 177ms\n",
            "65:\ttest: 0.8626654\tbest: 0.8630911 (63)\ttotal: 1.16s\tremaining: 159ms\n",
            "66:\ttest: 0.8627656\tbest: 0.8630911 (63)\ttotal: 1.18s\tremaining: 141ms\n",
            "67:\ttest: 0.8626947\tbest: 0.8630911 (63)\ttotal: 1.2s\tremaining: 123ms\n",
            "68:\ttest: 0.8628682\tbest: 0.8630911 (63)\ttotal: 1.22s\tremaining: 106ms\n",
            "69:\ttest: 0.8630613\tbest: 0.8630911 (63)\ttotal: 1.24s\tremaining: 88.4ms\n",
            "70:\ttest: 0.8628956\tbest: 0.8630911 (63)\ttotal: 1.25s\tremaining: 70.6ms\n",
            "71:\ttest: 0.8627692\tbest: 0.8630911 (63)\ttotal: 1.27s\tremaining: 52.9ms\n",
            "72:\ttest: 0.8629367\tbest: 0.8630911 (63)\ttotal: 1.29s\tremaining: 35.3ms\n",
            "73:\ttest: 0.8630971\tbest: 0.8630971 (73)\ttotal: 1.3s\tremaining: 17.6ms\n",
            "74:\ttest: 0.8631758\tbest: 0.8631758 (74)\ttotal: 1.31s\tremaining: 0us\n",
            "\n",
            "bestTest = 0.8631757998\n",
            "bestIteration = 74\n",
            "\n",
            "Training on fold [1/5]\n",
            "0:\ttest: 0.7729431\tbest: 0.7729431 (0)\ttotal: 11.4ms\tremaining: 843ms\n",
            "1:\ttest: 0.8181603\tbest: 0.8181603 (1)\ttotal: 25.1ms\tremaining: 918ms\n",
            "2:\ttest: 0.8381263\tbest: 0.8381263 (2)\ttotal: 44.3ms\tremaining: 1.06s\n",
            "3:\ttest: 0.8471238\tbest: 0.8471238 (3)\ttotal: 62ms\tremaining: 1.1s\n",
            "4:\ttest: 0.8445859\tbest: 0.8471238 (3)\ttotal: 83.3ms\tremaining: 1.17s\n",
            "5:\ttest: 0.8485610\tbest: 0.8485610 (5)\ttotal: 104ms\tremaining: 1.19s\n",
            "6:\ttest: 0.8501581\tbest: 0.8501581 (6)\ttotal: 112ms\tremaining: 1.09s\n",
            "7:\ttest: 0.8571447\tbest: 0.8571447 (7)\ttotal: 131ms\tremaining: 1.1s\n",
            "8:\ttest: 0.8571277\tbest: 0.8571447 (7)\ttotal: 151ms\tremaining: 1.11s\n",
            "9:\ttest: 0.8585183\tbest: 0.8585183 (9)\ttotal: 169ms\tremaining: 1.1s\n",
            "10:\ttest: 0.8595502\tbest: 0.8595502 (10)\ttotal: 187ms\tremaining: 1.09s\n",
            "11:\ttest: 0.8587141\tbest: 0.8595502 (10)\ttotal: 205ms\tremaining: 1.08s\n",
            "12:\ttest: 0.8610432\tbest: 0.8610432 (12)\ttotal: 224ms\tremaining: 1.07s\n",
            "13:\ttest: 0.8609714\tbest: 0.8610432 (12)\ttotal: 244ms\tremaining: 1.06s\n",
            "14:\ttest: 0.8609154\tbest: 0.8610432 (12)\ttotal: 255ms\tremaining: 1.02s\n",
            "15:\ttest: 0.8616774\tbest: 0.8616774 (15)\ttotal: 273ms\tremaining: 1.01s\n",
            "16:\ttest: 0.8615491\tbest: 0.8616774 (15)\ttotal: 288ms\tremaining: 982ms\n",
            "17:\ttest: 0.8627596\tbest: 0.8627596 (17)\ttotal: 301ms\tremaining: 954ms\n",
            "18:\ttest: 0.8628231\tbest: 0.8628231 (18)\ttotal: 314ms\tremaining: 925ms\n",
            "19:\ttest: 0.8633925\tbest: 0.8633925 (19)\ttotal: 330ms\tremaining: 907ms\n",
            "20:\ttest: 0.8637837\tbest: 0.8637837 (20)\ttotal: 346ms\tremaining: 889ms\n",
            "21:\ttest: 0.8645220\tbest: 0.8645220 (21)\ttotal: 362ms\tremaining: 873ms\n",
            "22:\ttest: 0.8650842\tbest: 0.8650842 (22)\ttotal: 378ms\tremaining: 856ms\n",
            "23:\ttest: 0.8651840\tbest: 0.8651840 (23)\ttotal: 395ms\tremaining: 840ms\n",
            "24:\ttest: 0.8653825\tbest: 0.8653825 (24)\ttotal: 410ms\tremaining: 820ms\n",
            "25:\ttest: 0.8654157\tbest: 0.8654157 (25)\ttotal: 425ms\tremaining: 801ms\n",
            "26:\ttest: 0.8653360\tbest: 0.8654157 (25)\ttotal: 443ms\tremaining: 787ms\n",
            "27:\ttest: 0.8652513\tbest: 0.8654157 (25)\ttotal: 467ms\tremaining: 784ms\n",
            "28:\ttest: 0.8653644\tbest: 0.8654157 (25)\ttotal: 484ms\tremaining: 768ms\n",
            "29:\ttest: 0.8653927\tbest: 0.8654157 (25)\ttotal: 502ms\tremaining: 753ms\n",
            "30:\ttest: 0.8654371\tbest: 0.8654371 (30)\ttotal: 521ms\tremaining: 740ms\n",
            "31:\ttest: 0.8651562\tbest: 0.8654371 (30)\ttotal: 541ms\tremaining: 727ms\n",
            "32:\ttest: 0.8653301\tbest: 0.8654371 (30)\ttotal: 559ms\tremaining: 711ms\n",
            "33:\ttest: 0.8657430\tbest: 0.8657430 (33)\ttotal: 577ms\tremaining: 696ms\n",
            "34:\ttest: 0.8657393\tbest: 0.8657430 (33)\ttotal: 598ms\tremaining: 683ms\n",
            "35:\ttest: 0.8659505\tbest: 0.8659505 (35)\ttotal: 616ms\tremaining: 667ms\n",
            "36:\ttest: 0.8663023\tbest: 0.8663023 (36)\ttotal: 633ms\tremaining: 650ms\n",
            "37:\ttest: 0.8663373\tbest: 0.8663373 (37)\ttotal: 649ms\tremaining: 632ms\n",
            "38:\ttest: 0.8666910\tbest: 0.8666910 (38)\ttotal: 672ms\tremaining: 621ms\n",
            "39:\ttest: 0.8668421\tbest: 0.8668421 (39)\ttotal: 689ms\tremaining: 603ms\n",
            "40:\ttest: 0.8669417\tbest: 0.8669417 (40)\ttotal: 693ms\tremaining: 575ms\n",
            "41:\ttest: 0.8669689\tbest: 0.8669689 (41)\ttotal: 707ms\tremaining: 556ms\n",
            "42:\ttest: 0.8669809\tbest: 0.8669809 (42)\ttotal: 723ms\tremaining: 538ms\n",
            "43:\ttest: 0.8671818\tbest: 0.8671818 (43)\ttotal: 738ms\tremaining: 520ms\n",
            "44:\ttest: 0.8670400\tbest: 0.8671818 (43)\ttotal: 754ms\tremaining: 502ms\n",
            "45:\ttest: 0.8671693\tbest: 0.8671818 (43)\ttotal: 772ms\tremaining: 487ms\n",
            "46:\ttest: 0.8673715\tbest: 0.8673715 (46)\ttotal: 790ms\tremaining: 471ms\n",
            "47:\ttest: 0.8676348\tbest: 0.8676348 (47)\ttotal: 811ms\tremaining: 456ms\n",
            "48:\ttest: 0.8676322\tbest: 0.8676348 (47)\ttotal: 829ms\tremaining: 440ms\n",
            "49:\ttest: 0.8679117\tbest: 0.8679117 (49)\ttotal: 845ms\tremaining: 423ms\n",
            "50:\ttest: 0.8681691\tbest: 0.8681691 (50)\ttotal: 865ms\tremaining: 407ms\n",
            "51:\ttest: 0.8684190\tbest: 0.8684190 (51)\ttotal: 882ms\tremaining: 390ms\n",
            "52:\ttest: 0.8682931\tbest: 0.8684190 (51)\ttotal: 900ms\tremaining: 374ms\n",
            "53:\ttest: 0.8683961\tbest: 0.8684190 (51)\ttotal: 936ms\tremaining: 364ms\n",
            "54:\ttest: 0.8683864\tbest: 0.8684190 (51)\ttotal: 967ms\tremaining: 352ms\n",
            "55:\ttest: 0.8684397\tbest: 0.8684397 (55)\ttotal: 985ms\tremaining: 334ms\n",
            "56:\ttest: 0.8683151\tbest: 0.8684397 (55)\ttotal: 1.01s\tremaining: 318ms\n",
            "57:\ttest: 0.8683472\tbest: 0.8684397 (55)\ttotal: 1.02s\tremaining: 300ms\n",
            "58:\ttest: 0.8683282\tbest: 0.8684397 (55)\ttotal: 1.04s\tremaining: 282ms\n",
            "59:\ttest: 0.8684412\tbest: 0.8684412 (59)\ttotal: 1.05s\tremaining: 264ms\n",
            "60:\ttest: 0.8684606\tbest: 0.8684606 (60)\ttotal: 1.07s\tremaining: 246ms\n",
            "61:\ttest: 0.8682916\tbest: 0.8684606 (60)\ttotal: 1.09s\tremaining: 229ms\n",
            "62:\ttest: 0.8682398\tbest: 0.8684606 (60)\ttotal: 1.11s\tremaining: 211ms\n",
            "63:\ttest: 0.8680920\tbest: 0.8684606 (60)\ttotal: 1.13s\tremaining: 194ms\n",
            "64:\ttest: 0.8680012\tbest: 0.8684606 (60)\ttotal: 1.14s\tremaining: 176ms\n",
            "65:\ttest: 0.8680896\tbest: 0.8684606 (60)\ttotal: 1.16s\tremaining: 158ms\n",
            "66:\ttest: 0.8680993\tbest: 0.8684606 (60)\ttotal: 1.18s\tremaining: 140ms\n",
            "67:\ttest: 0.8680322\tbest: 0.8684606 (60)\ttotal: 1.19s\tremaining: 123ms\n",
            "68:\ttest: 0.8680053\tbest: 0.8684606 (60)\ttotal: 1.21s\tremaining: 105ms\n",
            "69:\ttest: 0.8680948\tbest: 0.8684606 (60)\ttotal: 1.23s\tremaining: 87.9ms\n",
            "70:\ttest: 0.8682090\tbest: 0.8684606 (60)\ttotal: 1.25s\tremaining: 70.4ms\n",
            "71:\ttest: 0.8679396\tbest: 0.8684606 (60)\ttotal: 1.27s\tremaining: 52.8ms\n",
            "72:\ttest: 0.8679967\tbest: 0.8684606 (60)\ttotal: 1.28s\tremaining: 35.2ms\n",
            "73:\ttest: 0.8680258\tbest: 0.8684606 (60)\ttotal: 1.3s\tremaining: 17.5ms\n",
            "74:\ttest: 0.8679422\tbest: 0.8684606 (60)\ttotal: 1.31s\tremaining: 0us\n",
            "\n",
            "bestTest = 0.868460617\n",
            "bestIteration = 60\n",
            "\n",
            "Training on fold [2/5]\n",
            "0:\ttest: 0.7709365\tbest: 0.7709365 (0)\ttotal: 11.1ms\tremaining: 819ms\n",
            "1:\ttest: 0.8083600\tbest: 0.8083600 (1)\ttotal: 24.9ms\tremaining: 907ms\n",
            "2:\ttest: 0.8231545\tbest: 0.8231545 (2)\ttotal: 40.4ms\tremaining: 968ms\n",
            "3:\ttest: 0.8337289\tbest: 0.8337289 (3)\ttotal: 53.4ms\tremaining: 948ms\n",
            "4:\ttest: 0.8309820\tbest: 0.8337289 (3)\ttotal: 67.7ms\tremaining: 947ms\n",
            "5:\ttest: 0.8371501\tbest: 0.8371501 (5)\ttotal: 84.1ms\tremaining: 967ms\n",
            "6:\ttest: 0.8406840\tbest: 0.8406840 (6)\ttotal: 94.4ms\tremaining: 917ms\n",
            "7:\ttest: 0.8437395\tbest: 0.8437395 (7)\ttotal: 112ms\tremaining: 937ms\n",
            "8:\ttest: 0.8438998\tbest: 0.8438998 (8)\ttotal: 126ms\tremaining: 925ms\n",
            "9:\ttest: 0.8447827\tbest: 0.8447827 (9)\ttotal: 145ms\tremaining: 942ms\n",
            "10:\ttest: 0.8456169\tbest: 0.8456169 (10)\ttotal: 163ms\tremaining: 949ms\n",
            "11:\ttest: 0.8456057\tbest: 0.8456169 (10)\ttotal: 182ms\tremaining: 954ms\n",
            "12:\ttest: 0.8449961\tbest: 0.8456169 (10)\ttotal: 190ms\tremaining: 906ms\n",
            "13:\ttest: 0.8457138\tbest: 0.8457138 (13)\ttotal: 207ms\tremaining: 902ms\n",
            "14:\ttest: 0.8456598\tbest: 0.8457138 (13)\ttotal: 223ms\tremaining: 890ms\n",
            "15:\ttest: 0.8471009\tbest: 0.8471009 (15)\ttotal: 237ms\tremaining: 875ms\n",
            "16:\ttest: 0.8466517\tbest: 0.8471009 (15)\ttotal: 246ms\tremaining: 839ms\n",
            "17:\ttest: 0.8476807\tbest: 0.8476807 (17)\ttotal: 262ms\tremaining: 829ms\n",
            "18:\ttest: 0.8477474\tbest: 0.8477474 (18)\ttotal: 278ms\tremaining: 819ms\n",
            "19:\ttest: 0.8480289\tbest: 0.8480289 (19)\ttotal: 294ms\tremaining: 807ms\n",
            "20:\ttest: 0.8485020\tbest: 0.8485020 (20)\ttotal: 310ms\tremaining: 798ms\n",
            "21:\ttest: 0.8490364\tbest: 0.8490364 (21)\ttotal: 317ms\tremaining: 764ms\n",
            "22:\ttest: 0.8491104\tbest: 0.8491104 (22)\ttotal: 336ms\tremaining: 761ms\n",
            "23:\ttest: 0.8490779\tbest: 0.8491104 (22)\ttotal: 357ms\tremaining: 759ms\n",
            "24:\ttest: 0.8496639\tbest: 0.8496639 (24)\ttotal: 374ms\tremaining: 748ms\n",
            "25:\ttest: 0.8498335\tbest: 0.8498335 (25)\ttotal: 392ms\tremaining: 738ms\n",
            "26:\ttest: 0.8503192\tbest: 0.8503192 (26)\ttotal: 410ms\tremaining: 729ms\n",
            "27:\ttest: 0.8510659\tbest: 0.8510659 (27)\ttotal: 436ms\tremaining: 732ms\n",
            "28:\ttest: 0.8511731\tbest: 0.8511731 (28)\ttotal: 455ms\tremaining: 722ms\n",
            "29:\ttest: 0.8515691\tbest: 0.8515691 (29)\ttotal: 478ms\tremaining: 717ms\n",
            "30:\ttest: 0.8514734\tbest: 0.8515691 (29)\ttotal: 494ms\tremaining: 701ms\n",
            "31:\ttest: 0.8512406\tbest: 0.8515691 (29)\ttotal: 540ms\tremaining: 726ms\n",
            "32:\ttest: 0.8515244\tbest: 0.8515691 (29)\ttotal: 575ms\tremaining: 732ms\n",
            "33:\ttest: 0.8520159\tbest: 0.8520159 (33)\ttotal: 595ms\tremaining: 717ms\n",
            "34:\ttest: 0.8525169\tbest: 0.8525169 (34)\ttotal: 615ms\tremaining: 703ms\n",
            "35:\ttest: 0.8524017\tbest: 0.8525169 (34)\ttotal: 634ms\tremaining: 687ms\n",
            "36:\ttest: 0.8523504\tbest: 0.8525169 (34)\ttotal: 660ms\tremaining: 677ms\n",
            "37:\ttest: 0.8526691\tbest: 0.8526691 (37)\ttotal: 683ms\tremaining: 665ms\n",
            "38:\ttest: 0.8525664\tbest: 0.8526691 (37)\ttotal: 702ms\tremaining: 648ms\n",
            "39:\ttest: 0.8527286\tbest: 0.8527286 (39)\ttotal: 727ms\tremaining: 636ms\n",
            "40:\ttest: 0.8528728\tbest: 0.8528728 (40)\ttotal: 749ms\tremaining: 621ms\n",
            "41:\ttest: 0.8529083\tbest: 0.8529083 (41)\ttotal: 770ms\tremaining: 605ms\n",
            "42:\ttest: 0.8529612\tbest: 0.8529612 (42)\ttotal: 790ms\tremaining: 588ms\n",
            "43:\ttest: 0.8534717\tbest: 0.8534717 (43)\ttotal: 812ms\tremaining: 572ms\n",
            "44:\ttest: 0.8536167\tbest: 0.8536167 (44)\ttotal: 834ms\tremaining: 556ms\n",
            "45:\ttest: 0.8537210\tbest: 0.8537210 (45)\ttotal: 857ms\tremaining: 540ms\n",
            "46:\ttest: 0.8536780\tbest: 0.8537210 (45)\ttotal: 876ms\tremaining: 522ms\n",
            "47:\ttest: 0.8538914\tbest: 0.8538914 (47)\ttotal: 898ms\tremaining: 505ms\n",
            "48:\ttest: 0.8538439\tbest: 0.8538914 (47)\ttotal: 918ms\tremaining: 487ms\n",
            "49:\ttest: 0.8538920\tbest: 0.8538920 (49)\ttotal: 937ms\tremaining: 469ms\n",
            "50:\ttest: 0.8541468\tbest: 0.8541468 (50)\ttotal: 954ms\tremaining: 449ms\n",
            "51:\ttest: 0.8538609\tbest: 0.8541468 (50)\ttotal: 969ms\tremaining: 429ms\n",
            "52:\ttest: 0.8538976\tbest: 0.8541468 (50)\ttotal: 989ms\tremaining: 410ms\n",
            "53:\ttest: 0.8540910\tbest: 0.8541468 (50)\ttotal: 1s\tremaining: 391ms\n",
            "54:\ttest: 0.8541201\tbest: 0.8541468 (50)\ttotal: 1.02s\tremaining: 371ms\n",
            "55:\ttest: 0.8540140\tbest: 0.8541468 (50)\ttotal: 1.03s\tremaining: 350ms\n",
            "56:\ttest: 0.8540966\tbest: 0.8541468 (50)\ttotal: 1.05s\tremaining: 331ms\n",
            "57:\ttest: 0.8541324\tbest: 0.8541468 (50)\ttotal: 1.06s\tremaining: 311ms\n",
            "58:\ttest: 0.8540902\tbest: 0.8541468 (50)\ttotal: 1.07s\tremaining: 292ms\n",
            "59:\ttest: 0.8541410\tbest: 0.8541468 (50)\ttotal: 1.09s\tremaining: 272ms\n",
            "60:\ttest: 0.8543301\tbest: 0.8543301 (60)\ttotal: 1.1s\tremaining: 253ms\n",
            "61:\ttest: 0.8543686\tbest: 0.8543686 (61)\ttotal: 1.12s\tremaining: 234ms\n",
            "62:\ttest: 0.8543649\tbest: 0.8543686 (61)\ttotal: 1.13s\tremaining: 216ms\n",
            "63:\ttest: 0.8543739\tbest: 0.8543739 (63)\ttotal: 1.14s\tremaining: 197ms\n",
            "64:\ttest: 0.8546295\tbest: 0.8546295 (64)\ttotal: 1.16s\tremaining: 178ms\n",
            "65:\ttest: 0.8547248\tbest: 0.8547248 (65)\ttotal: 1.17s\tremaining: 160ms\n",
            "66:\ttest: 0.8548141\tbest: 0.8548141 (66)\ttotal: 1.18s\tremaining: 141ms\n",
            "67:\ttest: 0.8549004\tbest: 0.8549004 (67)\ttotal: 1.2s\tremaining: 123ms\n",
            "68:\ttest: 0.8549651\tbest: 0.8549651 (68)\ttotal: 1.22s\tremaining: 106ms\n",
            "69:\ttest: 0.8549696\tbest: 0.8549696 (69)\ttotal: 1.24s\tremaining: 88.5ms\n",
            "70:\ttest: 0.8550540\tbest: 0.8550540 (70)\ttotal: 1.25s\tremaining: 70.3ms\n",
            "71:\ttest: 0.8551026\tbest: 0.8551026 (71)\ttotal: 1.26s\tremaining: 52.7ms\n",
            "72:\ttest: 0.8553220\tbest: 0.8553220 (72)\ttotal: 1.28s\tremaining: 35.1ms\n",
            "73:\ttest: 0.8550996\tbest: 0.8553220 (72)\ttotal: 1.3s\tremaining: 17.6ms\n",
            "74:\ttest: 0.8551654\tbest: 0.8553220 (72)\ttotal: 1.32s\tremaining: 0us\n",
            "\n",
            "bestTest = 0.8553219892\n",
            "bestIteration = 72\n",
            "\n",
            "Training on fold [3/5]\n",
            "0:\ttest: 0.7913446\tbest: 0.7913446 (0)\ttotal: 16.5ms\tremaining: 1.22s\n",
            "1:\ttest: 0.8371129\tbest: 0.8371129 (1)\ttotal: 32.8ms\tremaining: 1.2s\n",
            "2:\ttest: 0.8478050\tbest: 0.8478050 (2)\ttotal: 43.9ms\tremaining: 1.05s\n",
            "3:\ttest: 0.8564876\tbest: 0.8564876 (3)\ttotal: 56.6ms\tremaining: 1s\n",
            "4:\ttest: 0.8584020\tbest: 0.8584020 (4)\ttotal: 70.9ms\tremaining: 992ms\n",
            "5:\ttest: 0.8612712\tbest: 0.8612712 (5)\ttotal: 128ms\tremaining: 1.47s\n",
            "6:\ttest: 0.8592842\tbest: 0.8612712 (5)\ttotal: 147ms\tremaining: 1.43s\n",
            "7:\ttest: 0.8603676\tbest: 0.8612712 (5)\ttotal: 167ms\tremaining: 1.4s\n",
            "8:\ttest: 0.8655387\tbest: 0.8655387 (8)\ttotal: 191ms\tremaining: 1.4s\n",
            "9:\ttest: 0.8685117\tbest: 0.8685117 (9)\ttotal: 214ms\tremaining: 1.39s\n",
            "10:\ttest: 0.8680430\tbest: 0.8685117 (9)\ttotal: 228ms\tremaining: 1.33s\n",
            "11:\ttest: 0.8690984\tbest: 0.8690984 (11)\ttotal: 248ms\tremaining: 1.3s\n",
            "12:\ttest: 0.8704731\tbest: 0.8704731 (12)\ttotal: 272ms\tremaining: 1.3s\n",
            "13:\ttest: 0.8726121\tbest: 0.8726121 (13)\ttotal: 290ms\tremaining: 1.26s\n",
            "14:\ttest: 0.8730531\tbest: 0.8730531 (14)\ttotal: 307ms\tremaining: 1.23s\n",
            "15:\ttest: 0.8724010\tbest: 0.8730531 (14)\ttotal: 329ms\tremaining: 1.21s\n",
            "16:\ttest: 0.8725527\tbest: 0.8730531 (14)\ttotal: 344ms\tremaining: 1.17s\n",
            "17:\ttest: 0.8728625\tbest: 0.8730531 (14)\ttotal: 356ms\tremaining: 1.13s\n",
            "18:\ttest: 0.8732433\tbest: 0.8732433 (18)\ttotal: 377ms\tremaining: 1.11s\n",
            "19:\ttest: 0.8737125\tbest: 0.8737125 (19)\ttotal: 386ms\tremaining: 1.06s\n",
            "20:\ttest: 0.8739140\tbest: 0.8739140 (20)\ttotal: 398ms\tremaining: 1.02s\n",
            "21:\ttest: 0.8738004\tbest: 0.8739140 (20)\ttotal: 420ms\tremaining: 1.01s\n",
            "22:\ttest: 0.8742563\tbest: 0.8742563 (22)\ttotal: 440ms\tremaining: 994ms\n",
            "23:\ttest: 0.8740136\tbest: 0.8742563 (22)\ttotal: 462ms\tremaining: 981ms\n",
            "24:\ttest: 0.8739414\tbest: 0.8742563 (22)\ttotal: 487ms\tremaining: 974ms\n",
            "25:\ttest: 0.8742395\tbest: 0.8742563 (22)\ttotal: 504ms\tremaining: 949ms\n",
            "26:\ttest: 0.8743733\tbest: 0.8743733 (26)\ttotal: 519ms\tremaining: 922ms\n",
            "27:\ttest: 0.8747311\tbest: 0.8747311 (27)\ttotal: 526ms\tremaining: 884ms\n",
            "28:\ttest: 0.8752257\tbest: 0.8752257 (28)\ttotal: 540ms\tremaining: 856ms\n",
            "29:\ttest: 0.8750729\tbest: 0.8752257 (28)\ttotal: 551ms\tremaining: 827ms\n",
            "30:\ttest: 0.8751218\tbest: 0.8752257 (28)\ttotal: 564ms\tremaining: 800ms\n",
            "31:\ttest: 0.8756826\tbest: 0.8756826 (31)\ttotal: 577ms\tremaining: 775ms\n",
            "32:\ttest: 0.8761030\tbest: 0.8761030 (32)\ttotal: 590ms\tremaining: 751ms\n",
            "33:\ttest: 0.8758007\tbest: 0.8761030 (32)\ttotal: 602ms\tremaining: 727ms\n",
            "34:\ttest: 0.8759378\tbest: 0.8761030 (32)\ttotal: 618ms\tremaining: 706ms\n",
            "35:\ttest: 0.8765496\tbest: 0.8765496 (35)\ttotal: 633ms\tremaining: 686ms\n",
            "36:\ttest: 0.8763635\tbest: 0.8765496 (35)\ttotal: 648ms\tremaining: 665ms\n",
            "37:\ttest: 0.8765037\tbest: 0.8765496 (35)\ttotal: 652ms\tremaining: 635ms\n",
            "38:\ttest: 0.8771868\tbest: 0.8771868 (38)\ttotal: 666ms\tremaining: 615ms\n",
            "39:\ttest: 0.8774221\tbest: 0.8774221 (39)\ttotal: 680ms\tremaining: 595ms\n",
            "40:\ttest: 0.8777995\tbest: 0.8777995 (40)\ttotal: 695ms\tremaining: 577ms\n",
            "41:\ttest: 0.8777627\tbest: 0.8777995 (40)\ttotal: 709ms\tremaining: 557ms\n",
            "42:\ttest: 0.8778296\tbest: 0.8778296 (42)\ttotal: 716ms\tremaining: 533ms\n",
            "43:\ttest: 0.8782803\tbest: 0.8782803 (43)\ttotal: 726ms\tremaining: 511ms\n",
            "44:\ttest: 0.8787265\tbest: 0.8787265 (44)\ttotal: 740ms\tremaining: 493ms\n",
            "45:\ttest: 0.8790192\tbest: 0.8790192 (45)\ttotal: 753ms\tremaining: 475ms\n",
            "46:\ttest: 0.8790924\tbest: 0.8790924 (46)\ttotal: 766ms\tremaining: 456ms\n",
            "47:\ttest: 0.8792064\tbest: 0.8792064 (47)\ttotal: 779ms\tremaining: 438ms\n",
            "48:\ttest: 0.8793948\tbest: 0.8793948 (48)\ttotal: 793ms\tremaining: 421ms\n",
            "49:\ttest: 0.8794258\tbest: 0.8794258 (49)\ttotal: 807ms\tremaining: 403ms\n",
            "50:\ttest: 0.8791066\tbest: 0.8794258 (49)\ttotal: 820ms\tremaining: 386ms\n",
            "51:\ttest: 0.8788887\tbest: 0.8794258 (49)\ttotal: 833ms\tremaining: 368ms\n",
            "52:\ttest: 0.8788958\tbest: 0.8794258 (49)\ttotal: 841ms\tremaining: 349ms\n",
            "53:\ttest: 0.8791361\tbest: 0.8794258 (49)\ttotal: 855ms\tremaining: 333ms\n",
            "54:\ttest: 0.8795667\tbest: 0.8795667 (54)\ttotal: 876ms\tremaining: 319ms\n",
            "55:\ttest: 0.8797972\tbest: 0.8797972 (55)\ttotal: 893ms\tremaining: 303ms\n",
            "56:\ttest: 0.8800424\tbest: 0.8800424 (56)\ttotal: 908ms\tremaining: 287ms\n",
            "57:\ttest: 0.8802117\tbest: 0.8802117 (57)\ttotal: 921ms\tremaining: 270ms\n",
            "58:\ttest: 0.8804628\tbest: 0.8804628 (58)\ttotal: 937ms\tremaining: 254ms\n",
            "59:\ttest: 0.8806583\tbest: 0.8806583 (59)\ttotal: 952ms\tremaining: 238ms\n",
            "60:\ttest: 0.8806620\tbest: 0.8806620 (60)\ttotal: 964ms\tremaining: 221ms\n",
            "61:\ttest: 0.8809203\tbest: 0.8809203 (61)\ttotal: 982ms\tremaining: 206ms\n",
            "62:\ttest: 0.8808493\tbest: 0.8809203 (61)\ttotal: 996ms\tremaining: 190ms\n",
            "63:\ttest: 0.8809920\tbest: 0.8809920 (63)\ttotal: 1.01s\tremaining: 174ms\n",
            "64:\ttest: 0.8808702\tbest: 0.8809920 (63)\ttotal: 1.03s\tremaining: 159ms\n",
            "65:\ttest: 0.8810593\tbest: 0.8810593 (65)\ttotal: 1.05s\tremaining: 143ms\n",
            "66:\ttest: 0.8811327\tbest: 0.8811327 (66)\ttotal: 1.06s\tremaining: 127ms\n",
            "67:\ttest: 0.8812804\tbest: 0.8812804 (67)\ttotal: 1.07s\tremaining: 111ms\n",
            "68:\ttest: 0.8815618\tbest: 0.8815618 (68)\ttotal: 1.09s\tremaining: 94.7ms\n",
            "69:\ttest: 0.8817337\tbest: 0.8817337 (69)\ttotal: 1.1s\tremaining: 78.7ms\n",
            "70:\ttest: 0.8815928\tbest: 0.8817337 (69)\ttotal: 1.11s\tremaining: 62.9ms\n",
            "71:\ttest: 0.8818734\tbest: 0.8818734 (71)\ttotal: 1.13s\tremaining: 47ms\n",
            "72:\ttest: 0.8819693\tbest: 0.8819693 (72)\ttotal: 1.14s\tremaining: 31.3ms\n",
            "73:\ttest: 0.8820321\tbest: 0.8820321 (73)\ttotal: 1.16s\tremaining: 15.7ms\n",
            "74:\ttest: 0.8819768\tbest: 0.8820321 (73)\ttotal: 1.17s\tremaining: 0us\n",
            "\n",
            "bestTest = 0.882032092\n",
            "bestIteration = 73\n",
            "\n",
            "Training on fold [4/5]\n",
            "0:\ttest: 0.7784572\tbest: 0.7784572 (0)\ttotal: 11.3ms\tremaining: 836ms\n",
            "1:\ttest: 0.8175255\tbest: 0.8175255 (1)\ttotal: 22ms\tremaining: 804ms\n",
            "2:\ttest: 0.8352181\tbest: 0.8352181 (2)\ttotal: 34.3ms\tremaining: 822ms\n",
            "3:\ttest: 0.8455754\tbest: 0.8455754 (3)\ttotal: 49.3ms\tremaining: 876ms\n",
            "4:\ttest: 0.8436715\tbest: 0.8455754 (3)\ttotal: 61.5ms\tremaining: 862ms\n",
            "5:\ttest: 0.8471372\tbest: 0.8471372 (5)\ttotal: 73.4ms\tremaining: 845ms\n",
            "6:\ttest: 0.8499714\tbest: 0.8499714 (6)\ttotal: 81.3ms\tremaining: 790ms\n",
            "7:\ttest: 0.8549016\tbest: 0.8549016 (7)\ttotal: 94.1ms\tremaining: 788ms\n",
            "8:\ttest: 0.8557536\tbest: 0.8557536 (8)\ttotal: 106ms\tremaining: 774ms\n",
            "9:\ttest: 0.8558628\tbest: 0.8558628 (9)\ttotal: 118ms\tremaining: 768ms\n",
            "10:\ttest: 0.8558955\tbest: 0.8558955 (10)\ttotal: 132ms\tremaining: 769ms\n",
            "11:\ttest: 0.8565921\tbest: 0.8565921 (11)\ttotal: 147ms\tremaining: 769ms\n",
            "12:\ttest: 0.8564699\tbest: 0.8565921 (11)\ttotal: 162ms\tremaining: 772ms\n",
            "13:\ttest: 0.8572799\tbest: 0.8572799 (13)\ttotal: 175ms\tremaining: 763ms\n",
            "14:\ttest: 0.8576125\tbest: 0.8576125 (14)\ttotal: 182ms\tremaining: 729ms\n",
            "15:\ttest: 0.8567776\tbest: 0.8576125 (14)\ttotal: 193ms\tremaining: 710ms\n",
            "16:\ttest: 0.8570983\tbest: 0.8576125 (14)\ttotal: 205ms\tremaining: 699ms\n",
            "17:\ttest: 0.8572115\tbest: 0.8576125 (14)\ttotal: 218ms\tremaining: 689ms\n",
            "18:\ttest: 0.8570456\tbest: 0.8576125 (14)\ttotal: 231ms\tremaining: 680ms\n",
            "19:\ttest: 0.8574836\tbest: 0.8576125 (14)\ttotal: 248ms\tremaining: 681ms\n",
            "20:\ttest: 0.8575615\tbest: 0.8576125 (14)\ttotal: 274ms\tremaining: 704ms\n",
            "21:\ttest: 0.8581398\tbest: 0.8581398 (21)\ttotal: 294ms\tremaining: 709ms\n",
            "22:\ttest: 0.8582785\tbest: 0.8582785 (22)\ttotal: 308ms\tremaining: 697ms\n",
            "23:\ttest: 0.8591855\tbest: 0.8591855 (23)\ttotal: 320ms\tremaining: 681ms\n",
            "24:\ttest: 0.8592199\tbest: 0.8592199 (24)\ttotal: 333ms\tremaining: 666ms\n",
            "25:\ttest: 0.8589798\tbest: 0.8592199 (24)\ttotal: 347ms\tremaining: 654ms\n",
            "26:\ttest: 0.8587638\tbest: 0.8592199 (24)\ttotal: 364ms\tremaining: 647ms\n",
            "27:\ttest: 0.8594979\tbest: 0.8594979 (27)\ttotal: 379ms\tremaining: 636ms\n",
            "28:\ttest: 0.8595383\tbest: 0.8595383 (28)\ttotal: 392ms\tremaining: 621ms\n",
            "29:\ttest: 0.8589998\tbest: 0.8595383 (28)\ttotal: 405ms\tremaining: 607ms\n",
            "30:\ttest: 0.8594058\tbest: 0.8595383 (28)\ttotal: 417ms\tremaining: 592ms\n",
            "31:\ttest: 0.8597575\tbest: 0.8597575 (31)\ttotal: 430ms\tremaining: 577ms\n",
            "32:\ttest: 0.8597266\tbest: 0.8597575 (31)\ttotal: 443ms\tremaining: 564ms\n",
            "33:\ttest: 0.8597323\tbest: 0.8597575 (31)\ttotal: 460ms\tremaining: 555ms\n",
            "34:\ttest: 0.8597397\tbest: 0.8597575 (31)\ttotal: 476ms\tremaining: 544ms\n",
            "35:\ttest: 0.8603108\tbest: 0.8603108 (35)\ttotal: 490ms\tremaining: 530ms\n",
            "36:\ttest: 0.8607207\tbest: 0.8607207 (36)\ttotal: 502ms\tremaining: 516ms\n",
            "37:\ttest: 0.8606501\tbest: 0.8607207 (36)\ttotal: 515ms\tremaining: 501ms\n",
            "38:\ttest: 0.8611606\tbest: 0.8611606 (38)\ttotal: 527ms\tremaining: 487ms\n",
            "39:\ttest: 0.8610448\tbest: 0.8611606 (38)\ttotal: 540ms\tremaining: 473ms\n",
            "40:\ttest: 0.8613847\tbest: 0.8613847 (40)\ttotal: 554ms\tremaining: 460ms\n",
            "41:\ttest: 0.8614897\tbest: 0.8614897 (41)\ttotal: 568ms\tremaining: 447ms\n",
            "42:\ttest: 0.8613480\tbest: 0.8614897 (41)\ttotal: 583ms\tremaining: 434ms\n",
            "43:\ttest: 0.8614142\tbest: 0.8614897 (41)\ttotal: 595ms\tremaining: 419ms\n",
            "44:\ttest: 0.8613293\tbest: 0.8614897 (41)\ttotal: 608ms\tremaining: 405ms\n",
            "45:\ttest: 0.8614960\tbest: 0.8614960 (45)\ttotal: 621ms\tremaining: 392ms\n",
            "46:\ttest: 0.8616978\tbest: 0.8616978 (46)\ttotal: 634ms\tremaining: 378ms\n",
            "47:\ttest: 0.8615872\tbest: 0.8616978 (46)\ttotal: 643ms\tremaining: 362ms\n",
            "48:\ttest: 0.8618918\tbest: 0.8618918 (48)\ttotal: 656ms\tremaining: 348ms\n",
            "49:\ttest: 0.8624541\tbest: 0.8624541 (49)\ttotal: 669ms\tremaining: 334ms\n",
            "50:\ttest: 0.8624548\tbest: 0.8624548 (50)\ttotal: 679ms\tremaining: 319ms\n",
            "51:\ttest: 0.8626110\tbest: 0.8626110 (51)\ttotal: 692ms\tremaining: 306ms\n",
            "52:\ttest: 0.8625636\tbest: 0.8626110 (51)\ttotal: 698ms\tremaining: 290ms\n",
            "53:\ttest: 0.8626290\tbest: 0.8626290 (53)\ttotal: 713ms\tremaining: 277ms\n",
            "54:\ttest: 0.8630044\tbest: 0.8630044 (54)\ttotal: 722ms\tremaining: 263ms\n",
            "55:\ttest: 0.8632544\tbest: 0.8632544 (55)\ttotal: 738ms\tremaining: 250ms\n",
            "56:\ttest: 0.8634719\tbest: 0.8634719 (56)\ttotal: 754ms\tremaining: 238ms\n",
            "57:\ttest: 0.8632435\tbest: 0.8634719 (56)\ttotal: 770ms\tremaining: 226ms\n",
            "58:\ttest: 0.8633500\tbest: 0.8634719 (56)\ttotal: 788ms\tremaining: 214ms\n",
            "59:\ttest: 0.8633938\tbest: 0.8634719 (56)\ttotal: 802ms\tremaining: 201ms\n",
            "60:\ttest: 0.8633669\tbest: 0.8634719 (56)\ttotal: 816ms\tremaining: 187ms\n",
            "61:\ttest: 0.8635939\tbest: 0.8635939 (61)\ttotal: 831ms\tremaining: 174ms\n",
            "62:\ttest: 0.8632568\tbest: 0.8635939 (61)\ttotal: 848ms\tremaining: 162ms\n",
            "63:\ttest: 0.8633106\tbest: 0.8635939 (61)\ttotal: 869ms\tremaining: 149ms\n",
            "64:\ttest: 0.8632609\tbest: 0.8635939 (61)\ttotal: 886ms\tremaining: 136ms\n",
            "65:\ttest: 0.8633723\tbest: 0.8635939 (61)\ttotal: 899ms\tremaining: 123ms\n",
            "66:\ttest: 0.8634336\tbest: 0.8635939 (61)\ttotal: 911ms\tremaining: 109ms\n",
            "67:\ttest: 0.8633372\tbest: 0.8635939 (61)\ttotal: 924ms\tremaining: 95.1ms\n",
            "68:\ttest: 0.8633188\tbest: 0.8635939 (61)\ttotal: 937ms\tremaining: 81.5ms\n",
            "69:\ttest: 0.8635390\tbest: 0.8635939 (61)\ttotal: 951ms\tremaining: 67.9ms\n",
            "70:\ttest: 0.8635969\tbest: 0.8635969 (70)\ttotal: 965ms\tremaining: 54.4ms\n",
            "71:\ttest: 0.8637038\tbest: 0.8637038 (71)\ttotal: 983ms\tremaining: 40.9ms\n",
            "72:\ttest: 0.8636944\tbest: 0.8637038 (71)\ttotal: 996ms\tremaining: 27.3ms\n",
            "73:\ttest: 0.8638458\tbest: 0.8638458 (73)\ttotal: 1.01s\tremaining: 13.6ms\n",
            "74:\ttest: 0.8639575\tbest: 0.8639575 (74)\ttotal: 1.02s\tremaining: 0us\n",
            "\n",
            "bestTest = 0.8639575245\n",
            "bestIteration = 74\n",
            "\n",
            "0:\ttotal: 14.6ms\tremaining: 1.08s\n",
            "1:\ttotal: 27.2ms\tremaining: 992ms\n",
            "2:\ttotal: 39.9ms\tremaining: 958ms\n",
            "3:\ttotal: 52.3ms\tremaining: 928ms\n",
            "4:\ttotal: 64.9ms\tremaining: 909ms\n",
            "5:\ttotal: 78.3ms\tremaining: 900ms\n",
            "6:\ttotal: 84.3ms\tremaining: 819ms\n",
            "7:\ttotal: 99.3ms\tremaining: 831ms\n",
            "8:\ttotal: 113ms\tremaining: 826ms\n",
            "9:\ttotal: 178ms\tremaining: 1.16s\n",
            "10:\ttotal: 192ms\tremaining: 1.12s\n",
            "11:\ttotal: 211ms\tremaining: 1.11s\n",
            "12:\ttotal: 221ms\tremaining: 1.05s\n",
            "13:\ttotal: 235ms\tremaining: 1.02s\n",
            "14:\ttotal: 243ms\tremaining: 972ms\n",
            "15:\ttotal: 255ms\tremaining: 940ms\n",
            "16:\ttotal: 267ms\tremaining: 911ms\n",
            "17:\ttotal: 278ms\tremaining: 881ms\n",
            "18:\ttotal: 291ms\tremaining: 857ms\n",
            "19:\ttotal: 298ms\tremaining: 820ms\n",
            "20:\ttotal: 313ms\tremaining: 804ms\n",
            "21:\ttotal: 326ms\tremaining: 785ms\n",
            "22:\ttotal: 344ms\tremaining: 778ms\n",
            "23:\ttotal: 359ms\tremaining: 763ms\n",
            "24:\ttotal: 372ms\tremaining: 744ms\n",
            "25:\ttotal: 384ms\tremaining: 724ms\n",
            "26:\ttotal: 397ms\tremaining: 705ms\n",
            "27:\ttotal: 412ms\tremaining: 692ms\n",
            "28:\ttotal: 425ms\tremaining: 674ms\n",
            "29:\ttotal: 438ms\tremaining: 657ms\n",
            "30:\ttotal: 447ms\tremaining: 635ms\n",
            "31:\ttotal: 462ms\tremaining: 621ms\n",
            "32:\ttotal: 475ms\tremaining: 605ms\n",
            "33:\ttotal: 488ms\tremaining: 589ms\n",
            "34:\ttotal: 500ms\tremaining: 572ms\n",
            "35:\ttotal: 513ms\tremaining: 556ms\n",
            "36:\ttotal: 531ms\tremaining: 545ms\n",
            "37:\ttotal: 546ms\tremaining: 532ms\n",
            "38:\ttotal: 565ms\tremaining: 521ms\n",
            "39:\ttotal: 631ms\tremaining: 552ms\n",
            "40:\ttotal: 635ms\tremaining: 527ms\n",
            "41:\ttotal: 647ms\tremaining: 509ms\n",
            "42:\ttotal: 661ms\tremaining: 492ms\n",
            "43:\ttotal: 675ms\tremaining: 475ms\n",
            "44:\ttotal: 688ms\tremaining: 459ms\n",
            "45:\ttotal: 700ms\tremaining: 441ms\n",
            "46:\ttotal: 707ms\tremaining: 421ms\n",
            "47:\ttotal: 720ms\tremaining: 405ms\n",
            "48:\ttotal: 734ms\tremaining: 389ms\n",
            "49:\ttotal: 748ms\tremaining: 374ms\n",
            "50:\ttotal: 762ms\tremaining: 359ms\n",
            "51:\ttotal: 777ms\tremaining: 343ms\n",
            "52:\ttotal: 790ms\tremaining: 328ms\n",
            "53:\ttotal: 803ms\tremaining: 312ms\n",
            "54:\ttotal: 816ms\tremaining: 297ms\n",
            "55:\ttotal: 829ms\tremaining: 281ms\n",
            "56:\ttotal: 843ms\tremaining: 266ms\n",
            "57:\ttotal: 847ms\tremaining: 248ms\n",
            "58:\ttotal: 860ms\tremaining: 233ms\n",
            "59:\ttotal: 873ms\tremaining: 218ms\n",
            "60:\ttotal: 886ms\tremaining: 203ms\n",
            "61:\ttotal: 900ms\tremaining: 189ms\n",
            "62:\ttotal: 912ms\tremaining: 174ms\n",
            "63:\ttotal: 925ms\tremaining: 159ms\n",
            "64:\ttotal: 940ms\tremaining: 145ms\n",
            "65:\ttotal: 956ms\tremaining: 130ms\n",
            "66:\ttotal: 964ms\tremaining: 115ms\n",
            "67:\ttotal: 977ms\tremaining: 101ms\n",
            "68:\ttotal: 990ms\tremaining: 86.1ms\n",
            "69:\ttotal: 1s\tremaining: 71.6ms\n",
            "70:\ttotal: 1.01s\tremaining: 57.2ms\n",
            "71:\ttotal: 1.03s\tremaining: 42.8ms\n",
            "72:\ttotal: 1.04s\tremaining: 28.5ms\n",
            "73:\ttotal: 1.05s\tremaining: 14.3ms\n",
            "74:\ttotal: 1.07s\tremaining: 0us\n",
            "Error rate of CatBoost classifier: 0.1007\n"
          ]
        }
      ],
      "source": [
        "#from catboost import CatBoostClassifier, Pool, cv\n",
        "#from sklearn.metrics import accuracy_score\n",
        "#\n",
        "## Combine features and labels into one dataset\n",
        "#X_train_combined = pd.concat([pd.DataFrame(X_Train), pd.DataFrame(X_Val)])\n",
        "#y_train_combined = pd.concat([pd.Series(y_Train), pd.Series(y_val)])\n",
        "#\n",
        "## Create a CatBoost Pool for the combined dataset\n",
        "#full_train_pool = Pool(data=X_train_combined, label=y_train_combined)\n",
        "#catboost_params = {\n",
        "#    'loss_function': 'Logloss',\n",
        "#    'eval_metric': 'AUC',\n",
        "#    'learning_rate': 0.041,\n",
        "#    'iterations':75,\n",
        "#    'random_seed': 42,\n",
        "#    'depth': 10,\n",
        "#    'border_count': 32,\n",
        "#    'od_type': 'Iter',\n",
        "#    'early_stopping_rounds': 700,\n",
        "#    'task_type': 'CPU',\n",
        "#    'logging_level': 'Verbose',\n",
        "#    'min_child_samples': 10, \n",
        "#    'l2_leaf_reg': 5,                # Regularization term\n",
        "#    'bagging_temperature': 15,   \n",
        "#}\n",
        "#\n",
        "## Perform k-fold cross-validation\n",
        "#cv_results = cv(full_train_pool, catboost_params, fold_count=5, plot=True)\n",
        "#\n",
        "## Get the best iteration based on AUC\n",
        "#best_iteration = cv_results['test-AUC-mean'].idxmax()\n",
        "#\n",
        "## Train the final model with the best iteration\n",
        "#final_model = CatBoostClassifier( **catboost_params)\n",
        "#final_model.fit(full_train_pool)\n",
        "#\n",
        "## Make predictions on the validation set\n",
        "#y_pred = final_model.predict(X_Val)\n",
        "#\n",
        "## Convert predictions to binary (0 or 1)\n",
        "#y_pred_binary = (y_pred > 0.5).astype(int)\n",
        "#\n",
        "## Calculate the error rate\n",
        "#error_rate = 1 - accuracy_score(y_val, y_pred_binary)\n",
        "#print(f'Error rate of CatBoost classifier: {error_rate:.4f}')\n",
        "#  \n",
        "#  "
      ]
    },
    {
      "cell_type": "code",
      "execution_count": 501,
      "metadata": {
        "id": "bvkSRJNUqMCq"
      },
      "outputs": [],
      "source": [
        "# Get the predicted result for the test Data\n",
        "test.bank_account = model.predict(processed_test)"
      ]
    },
    {
      "cell_type": "markdown",
      "metadata": {
        "id": "VmzWR6qnqQlG"
      },
      "source": [
        "\n",
        "Then we create a submission file according to the instruction provided in the SubmissionFile.csv.\n"
      ]
    },
    {
      "cell_type": "code",
      "execution_count": 502,
      "metadata": {
        "id": "ELYl_OMUqRhR"
      },
      "outputs": [],
      "source": [
        "# Create submission DataFrame\n",
        "submission = pd.DataFrame({\"uniqueid\": test[\"uniqueid\"] + \" x \" + test[\"country\"],\n",
        "                           \"bank_account\": test.bank_account})"
      ]
    },
    {
      "cell_type": "markdown",
      "metadata": {
        "id": "KWsK-dHOqcIB"
      },
      "source": [
        "Let’s observe the sample results from our submission DataFrame.\n"
      ]
    },
    {
      "cell_type": "code",
      "execution_count": 503,
      "metadata": {
        "colab": {
          "base_uri": "https://localhost:8080/",
          "height": 206
        },
        "id": "VHhKw7ceqdD2",
        "outputId": "90eb4eab-a985-485a-98df-5f8aa8a19851"
      },
      "outputs": [
        {
          "data": {
            "text/html": [
              "<div>\n",
              "<style scoped>\n",
              "    .dataframe tbody tr th:only-of-type {\n",
              "        vertical-align: middle;\n",
              "    }\n",
              "\n",
              "    .dataframe tbody tr th {\n",
              "        vertical-align: top;\n",
              "    }\n",
              "\n",
              "    .dataframe thead th {\n",
              "        text-align: right;\n",
              "    }\n",
              "</style>\n",
              "<table border=\"1\" class=\"dataframe\">\n",
              "  <thead>\n",
              "    <tr style=\"text-align: right;\">\n",
              "      <th></th>\n",
              "      <th>uniqueid</th>\n",
              "      <th>bank_account</th>\n",
              "    </tr>\n",
              "  </thead>\n",
              "  <tbody>\n",
              "    <tr>\n",
              "      <th>534</th>\n",
              "      <td>uniqueid_6603 x Kenya</td>\n",
              "      <td>0</td>\n",
              "    </tr>\n",
              "    <tr>\n",
              "      <th>6655</th>\n",
              "      <td>uniqueid_6930 x Tanzania</td>\n",
              "      <td>0</td>\n",
              "    </tr>\n",
              "    <tr>\n",
              "      <th>483</th>\n",
              "      <td>uniqueid_6552 x Kenya</td>\n",
              "      <td>0</td>\n",
              "    </tr>\n",
              "    <tr>\n",
              "      <th>6292</th>\n",
              "      <td>uniqueid_12427 x Rwanda</td>\n",
              "      <td>0</td>\n",
              "    </tr>\n",
              "    <tr>\n",
              "      <th>4516</th>\n",
              "      <td>uniqueid_10651 x Rwanda</td>\n",
              "      <td>0</td>\n",
              "    </tr>\n",
              "  </tbody>\n",
              "</table>\n",
              "</div>"
            ],
            "text/plain": [
              "                      uniqueid  bank_account\n",
              "534      uniqueid_6603 x Kenya             0\n",
              "6655  uniqueid_6930 x Tanzania             0\n",
              "483      uniqueid_6552 x Kenya             0\n",
              "6292   uniqueid_12427 x Rwanda             0\n",
              "4516   uniqueid_10651 x Rwanda             0"
            ]
          },
          "execution_count": 503,
          "metadata": {},
          "output_type": "execute_result"
        }
      ],
      "source": [
        "#show the five sample\n",
        "submission.sample(5)"
      ]
    },
    {
      "cell_type": "markdown",
      "metadata": {
        "id": "CcOeN6Nkqkkw"
      },
      "source": [
        "Save results in the CSV file.\n"
      ]
    },
    {
      "cell_type": "code",
      "execution_count": 500,
      "metadata": {
        "colab": {
          "base_uri": "https://localhost:8080/",
          "height": 17
        },
        "id": "FzEYLNpDqjL-",
        "outputId": "1d37b510-2845-4ada-82d4-aeff7c8b1973"
      },
      "outputs": [],
      "source": [
        "# Create submission csv file csv file\n",
        "submission.to_csv('first_submission.csv', index = False)\n"
      ]
    },
    {
      "cell_type": "markdown",
      "metadata": {
        "id": "NRs4uapdqsQu"
      },
      "source": [
        "We named our submission file a **first_submission.csv**. Now we can upload it to the Zindi competition page by clicking the submit button and selecting the file to upload., You also have an option to add comments for each submission."
      ]
    },
    {
      "cell_type": "markdown",
      "metadata": {
        "id": "ttQqWBi722zE"
      },
      "source": [
        "###More Tips\n",
        "- Thorough EDA and domain knowledge sourcing\n",
        "- Re-group Categorical features \n",
        "- More Feature Engineering \n",
        "- Dataset balancing - oversampling, undersampling, SMOTE...\n",
        "- Ensembling of models \n",
        "- Cross-validation: Group folds, Stratified..."
      ]
    },
    {
      "cell_type": "markdown",
      "metadata": {
        "id": "uXftXbo622zF"
      },
      "source": [
        "# ******************* GOOD LUCK!!! ***************************"
      ]
    }
  ],
  "metadata": {
    "colab": {
      "collapsed_sections": [],
      "name": "StarterNotebook.ipynb",
      "provenance": [],
      "toc_visible": true
    },
    "kernelspec": {
      "display_name": "Python 3",
      "language": "python",
      "name": "python3"
    },
    "language_info": {
      "codemirror_mode": {
        "name": "ipython",
        "version": 3
      },
      "file_extension": ".py",
      "mimetype": "text/x-python",
      "name": "python",
      "nbconvert_exporter": "python",
      "pygments_lexer": "ipython3",
      "version": "3.11.4"
    }
  },
  "nbformat": 4,
  "nbformat_minor": 0
}
